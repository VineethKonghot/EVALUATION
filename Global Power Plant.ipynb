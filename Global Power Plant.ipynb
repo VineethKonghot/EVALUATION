{
 "cells": [
  {
   "cell_type": "markdown",
   "id": "0b89117a",
   "metadata": {},
   "source": [
    "# Global Power Plant Database\n",
    "\n",
    "# Problem Statement:\n",
    "\n",
    "Description\n",
    "\n",
    "The Global Power Plant Database is a comprehensive, open source database of power plants around the world. It centralizes power plant data to make it easier to navigate, compare and draw insights for one’s own analysis. The database covers approximately 35,000 power plants from 167 countries and includes thermal plants (e.g. coal, gas, oil, nuclear, biomass, waste, geothermal) and renewables (e.g. hydro, wind, solar). Each power plant is geolocated and entries contain information on plant capacity, generation, ownership, and fuel type. It will be continuously updated as data becomes available.\n",
    "\n",
    "# Key attributes of the database\n",
    "\n",
    "The database includes the following indicators:\n",
    "\n",
    "- `country` (text): 3 character country code corresponding to the ISO 3166-1 alpha-3 specification [5]\n",
    "- `country_long` (text): longer form of the country designation\n",
    "- `name` (text): name or title of the power plant, generally in Romanized form\n",
    "- `gppd_idnr` (text): 10 or 12 character identifier for the power plant\n",
    "- `capacity_mw` (number): electrical generating capacity in megawatts\n",
    "- `latitude` (number): geolocation in decimal degrees; WGS84 (EPSG:4326)\n",
    "- `longitude` (number): geolocation in decimal degrees; WGS84 (EPSG:4326)\n",
    "- `primary_fuel` (text): energy source used in primary electricity generation or export\n",
    "- `other_fuel1` (text): energy source used in electricity generation or export\n",
    "- `other_fuel2` (text): energy source used in electricity generation or export\n",
    "- `other_fuel3` (text): energy source used in electricity generation or export\n",
    "- `commissioning_year` (number): year of plant operation, weighted by unit-capacity when data is available\n",
    "- `owner` (text): majority shareholder of the power plant, generally in Romanized form\n",
    "- `source` (text): entity reporting the data; could be an organization, report, or document, generally in Romanized form\n",
    "- `url` (text): web document corresponding to the `source` field\n",
    "- `geolocation_source` (text): attribution for geolocation information\n",
    "- `wepp_id` (text): a reference to a unique plant identifier in the widely-used PLATTS-WEPP database.\n",
    "- `year_of_capacity_data` (number): year the capacity information was reported\n",
    "- `generation_gwh_2013` (number): electricity generation in gigawatt-hours reported for the year 2013\n",
    "- `generation_gwh_2014` (number): electricity generation in gigawatt-hours reported for the year 2014\n",
    "- `generation_gwh_2015` (number): electricity generation in gigawatt-hours reported for the year 2015\n",
    "- `generation_gwh_2016` (number): electricity generation in gigawatt-hours reported for the year 2016\n",
    "- `generation_gwh_2017` (number): electricity generation in gigawatt-hours reported for the year 2017\n",
    "- `generation_gwh_2018` (number): electricity generation in gigawatt-hours reported for the year 2018\n",
    "- `generation_gwh_2019` (number): electricity generation in gigawatt-hours reported for the year 2019\n",
    "- `generation_data_source` (text): attribution for the reported generation information\n",
    "- `estimated_generation_gwh_2013` (number): estimated electricity generation in gigawatt-hours for the year 2013\n",
    "- `estimated_generation_gwh_2014` (number): estimated electricity generation in gigawatt-hours for the year 2014 \n",
    "- `estimated_generation_gwh_2015` (number): estimated electricity generation in gigawatt-hours for the year 2015 \n",
    "- `estimated_generation_gwh_2016` (number): estimated electricity generation in gigawatt-hours for the year 2016 \n",
    "- `estimated_generation_gwh_2017` (number): estimated electricity generation in gigawatt-hours for the year 2017 \n",
    "- `estimated_generation_note_2013` (text): label of the model/method used to estimate generation for the year 2013 \n",
    "- `estimated_generation_note_2014` (text): label of the model/method used to estimate generation for the year 2014 \n",
    "- `estimated_generation_note_2015` (text): label of the model/method used to estimate generation for the year 2015\n",
    "- `estimated_generation_note_2016` (text): label of the model/method used to estimate generation for the year 2016\n",
    "- `estimated_generation_note_2017` (text): label of the model/method used to estimate generation for the year 2017 \n",
    "\n",
    "# Fuel Type Aggregation\n",
    "\n",
    "We define the \"Fuel Type\" attribute of our database based on common fuel categories. \n",
    "\n",
    "# Prediction :   \n",
    "Make two prediction  \n",
    "1) Primary Fuel    \n",
    "2) capacity_mw "
   ]
  },
  {
   "cell_type": "markdown",
   "id": "1083043c",
   "metadata": {},
   "source": [
    "We need to predict:- \n",
    "- 1.primary_fuel,which is categorical data,so it is a classification Problem. \n",
    "- 2.capacity_mw ,which is continuous data,so it is a Regression problem."
   ]
  },
  {
   "cell_type": "markdown",
   "id": "b324ebee",
   "metadata": {},
   "source": [
    "# Importing Neccessary Libraries"
   ]
  },
  {
   "cell_type": "code",
   "execution_count": 1,
   "id": "b57c4b6a",
   "metadata": {},
   "outputs": [],
   "source": [
    "import numpy as np\n",
    "import pandas as pd\n",
    "import matplotlib.pyplot as plt\n",
    "import seaborn as sns\n",
    "\n",
    "from sklearn.linear_model import LinearRegression\n",
    "from sklearn.tree import DecisionTreeRegressor,DecisionTreeClassifier\n",
    "from sklearn.ensemble import RandomForestRegressor,RandomForestClassifier\n",
    "from sklearn.svm import SVC, SVR\n",
    "from sklearn.neighbors import KNeighborsClassifier\n",
    "from sklearn.preprocessing import LabelEncoder,StandardScaler\n",
    "from sklearn.metrics import accuracy_score,confusion_matrix,classification_report,roc_curve,roc_auc_score\n",
    "from sklearn.metrics import mean_squared_error,mean_absolute_error,r2_score\n",
    "from sklearn.model_selection import train_test_split,GridSearchCV,KFold,cross_val_score\n",
    "from statsmodels.stats.outliers_influence import variance_inflation_factor\n",
    "from scipy.stats import zscore\n",
    "import xgboost \n",
    "from xgboost import XGBRegressor\n",
    "import warnings\n",
    "warnings.filterwarnings('ignore')"
   ]
  },
  {
   "cell_type": "code",
   "execution_count": 2,
   "id": "76397f0e",
   "metadata": {},
   "outputs": [
    {
     "data": {
      "text/html": [
       "<div>\n",
       "<style scoped>\n",
       "    .dataframe tbody tr th:only-of-type {\n",
       "        vertical-align: middle;\n",
       "    }\n",
       "\n",
       "    .dataframe tbody tr th {\n",
       "        vertical-align: top;\n",
       "    }\n",
       "\n",
       "    .dataframe thead th {\n",
       "        text-align: right;\n",
       "    }\n",
       "</style>\n",
       "<table border=\"1\" class=\"dataframe\">\n",
       "  <thead>\n",
       "    <tr style=\"text-align: right;\">\n",
       "      <th></th>\n",
       "      <th>country</th>\n",
       "      <th>country_long</th>\n",
       "      <th>name</th>\n",
       "      <th>gppd_idnr</th>\n",
       "      <th>capacity_mw</th>\n",
       "      <th>latitude</th>\n",
       "      <th>longitude</th>\n",
       "      <th>primary_fuel</th>\n",
       "      <th>other_fuel1</th>\n",
       "      <th>other_fuel2</th>\n",
       "      <th>...</th>\n",
       "      <th>year_of_capacity_data</th>\n",
       "      <th>generation_gwh_2013</th>\n",
       "      <th>generation_gwh_2014</th>\n",
       "      <th>generation_gwh_2015</th>\n",
       "      <th>generation_gwh_2016</th>\n",
       "      <th>generation_gwh_2017</th>\n",
       "      <th>generation_gwh_2018</th>\n",
       "      <th>generation_gwh_2019</th>\n",
       "      <th>generation_data_source</th>\n",
       "      <th>estimated_generation_gwh</th>\n",
       "    </tr>\n",
       "  </thead>\n",
       "  <tbody>\n",
       "    <tr>\n",
       "      <th>0</th>\n",
       "      <td>IND</td>\n",
       "      <td>India</td>\n",
       "      <td>ACME Solar Tower</td>\n",
       "      <td>WRI1020239</td>\n",
       "      <td>2.5</td>\n",
       "      <td>28.1839</td>\n",
       "      <td>73.2407</td>\n",
       "      <td>Solar</td>\n",
       "      <td>NaN</td>\n",
       "      <td>NaN</td>\n",
       "      <td>...</td>\n",
       "      <td>NaN</td>\n",
       "      <td>NaN</td>\n",
       "      <td>NaN</td>\n",
       "      <td>NaN</td>\n",
       "      <td>NaN</td>\n",
       "      <td>NaN</td>\n",
       "      <td>NaN</td>\n",
       "      <td>NaN</td>\n",
       "      <td>NaN</td>\n",
       "      <td>NaN</td>\n",
       "    </tr>\n",
       "    <tr>\n",
       "      <th>1</th>\n",
       "      <td>IND</td>\n",
       "      <td>India</td>\n",
       "      <td>ADITYA CEMENT WORKS</td>\n",
       "      <td>WRI1019881</td>\n",
       "      <td>98.0</td>\n",
       "      <td>24.7663</td>\n",
       "      <td>74.6090</td>\n",
       "      <td>Coal</td>\n",
       "      <td>NaN</td>\n",
       "      <td>NaN</td>\n",
       "      <td>...</td>\n",
       "      <td>NaN</td>\n",
       "      <td>NaN</td>\n",
       "      <td>NaN</td>\n",
       "      <td>NaN</td>\n",
       "      <td>NaN</td>\n",
       "      <td>NaN</td>\n",
       "      <td>NaN</td>\n",
       "      <td>NaN</td>\n",
       "      <td>NaN</td>\n",
       "      <td>NaN</td>\n",
       "    </tr>\n",
       "    <tr>\n",
       "      <th>2</th>\n",
       "      <td>IND</td>\n",
       "      <td>India</td>\n",
       "      <td>AES Saurashtra Windfarms</td>\n",
       "      <td>WRI1026669</td>\n",
       "      <td>39.2</td>\n",
       "      <td>21.9038</td>\n",
       "      <td>69.3732</td>\n",
       "      <td>Wind</td>\n",
       "      <td>NaN</td>\n",
       "      <td>NaN</td>\n",
       "      <td>...</td>\n",
       "      <td>NaN</td>\n",
       "      <td>NaN</td>\n",
       "      <td>NaN</td>\n",
       "      <td>NaN</td>\n",
       "      <td>NaN</td>\n",
       "      <td>NaN</td>\n",
       "      <td>NaN</td>\n",
       "      <td>NaN</td>\n",
       "      <td>NaN</td>\n",
       "      <td>NaN</td>\n",
       "    </tr>\n",
       "    <tr>\n",
       "      <th>3</th>\n",
       "      <td>IND</td>\n",
       "      <td>India</td>\n",
       "      <td>AGARTALA GT</td>\n",
       "      <td>IND0000001</td>\n",
       "      <td>135.0</td>\n",
       "      <td>23.8712</td>\n",
       "      <td>91.3602</td>\n",
       "      <td>Gas</td>\n",
       "      <td>NaN</td>\n",
       "      <td>NaN</td>\n",
       "      <td>...</td>\n",
       "      <td>2019.0</td>\n",
       "      <td>NaN</td>\n",
       "      <td>617.789264</td>\n",
       "      <td>843.747</td>\n",
       "      <td>886.004428</td>\n",
       "      <td>663.774500</td>\n",
       "      <td>626.239128</td>\n",
       "      <td>NaN</td>\n",
       "      <td>Central Electricity Authority</td>\n",
       "      <td>NaN</td>\n",
       "    </tr>\n",
       "    <tr>\n",
       "      <th>4</th>\n",
       "      <td>IND</td>\n",
       "      <td>India</td>\n",
       "      <td>AKALTARA TPP</td>\n",
       "      <td>IND0000002</td>\n",
       "      <td>1800.0</td>\n",
       "      <td>21.9603</td>\n",
       "      <td>82.4091</td>\n",
       "      <td>Coal</td>\n",
       "      <td>Oil</td>\n",
       "      <td>NaN</td>\n",
       "      <td>...</td>\n",
       "      <td>2019.0</td>\n",
       "      <td>NaN</td>\n",
       "      <td>3035.550000</td>\n",
       "      <td>5916.370</td>\n",
       "      <td>6243.000000</td>\n",
       "      <td>5385.579736</td>\n",
       "      <td>7279.000000</td>\n",
       "      <td>NaN</td>\n",
       "      <td>Central Electricity Authority</td>\n",
       "      <td>NaN</td>\n",
       "    </tr>\n",
       "  </tbody>\n",
       "</table>\n",
       "<p>5 rows × 27 columns</p>\n",
       "</div>"
      ],
      "text/plain": [
       "  country country_long                      name   gppd_idnr  capacity_mw  \\\n",
       "0     IND        India          ACME Solar Tower  WRI1020239          2.5   \n",
       "1     IND        India       ADITYA CEMENT WORKS  WRI1019881         98.0   \n",
       "2     IND        India  AES Saurashtra Windfarms  WRI1026669         39.2   \n",
       "3     IND        India               AGARTALA GT  IND0000001        135.0   \n",
       "4     IND        India              AKALTARA TPP  IND0000002       1800.0   \n",
       "\n",
       "   latitude  longitude primary_fuel other_fuel1 other_fuel2  ...  \\\n",
       "0   28.1839    73.2407        Solar         NaN         NaN  ...   \n",
       "1   24.7663    74.6090         Coal         NaN         NaN  ...   \n",
       "2   21.9038    69.3732         Wind         NaN         NaN  ...   \n",
       "3   23.8712    91.3602          Gas         NaN         NaN  ...   \n",
       "4   21.9603    82.4091         Coal         Oil         NaN  ...   \n",
       "\n",
       "   year_of_capacity_data  generation_gwh_2013 generation_gwh_2014  \\\n",
       "0                    NaN                  NaN                 NaN   \n",
       "1                    NaN                  NaN                 NaN   \n",
       "2                    NaN                  NaN                 NaN   \n",
       "3                 2019.0                  NaN          617.789264   \n",
       "4                 2019.0                  NaN         3035.550000   \n",
       "\n",
       "  generation_gwh_2015 generation_gwh_2016 generation_gwh_2017  \\\n",
       "0                 NaN                 NaN                 NaN   \n",
       "1                 NaN                 NaN                 NaN   \n",
       "2                 NaN                 NaN                 NaN   \n",
       "3             843.747          886.004428          663.774500   \n",
       "4            5916.370         6243.000000         5385.579736   \n",
       "\n",
       "   generation_gwh_2018  generation_gwh_2019         generation_data_source  \\\n",
       "0                  NaN                  NaN                            NaN   \n",
       "1                  NaN                  NaN                            NaN   \n",
       "2                  NaN                  NaN                            NaN   \n",
       "3           626.239128                  NaN  Central Electricity Authority   \n",
       "4          7279.000000                  NaN  Central Electricity Authority   \n",
       "\n",
       "   estimated_generation_gwh  \n",
       "0                       NaN  \n",
       "1                       NaN  \n",
       "2                       NaN  \n",
       "3                       NaN  \n",
       "4                       NaN  \n",
       "\n",
       "[5 rows x 27 columns]"
      ]
     },
     "execution_count": 2,
     "metadata": {},
     "output_type": "execute_result"
    }
   ],
   "source": [
    "# Loading Dataset\n",
    "df = pd.read_csv('database_IND.csv')\n",
    "df.head()"
   ]
  },
  {
   "cell_type": "markdown",
   "id": "ac4e74c0",
   "metadata": {},
   "source": [
    "# Exploratory Data Analysis(EDA)"
   ]
  },
  {
   "cell_type": "markdown",
   "id": "caf70094",
   "metadata": {},
   "source": [
    "Firstly to understand about the dataset, we should know how much data is there in the dataset. "
   ]
  },
  {
   "cell_type": "code",
   "execution_count": 3,
   "id": "e47a9f98",
   "metadata": {},
   "outputs": [
    {
     "data": {
      "text/plain": [
       "(907, 27)"
      ]
     },
     "execution_count": 3,
     "metadata": {},
     "output_type": "execute_result"
    }
   ],
   "source": [
    "# Checking the dimensions of this dataset.\n",
    "df.shape"
   ]
  },
  {
   "cell_type": "markdown",
   "id": "88bfecd9",
   "metadata": {},
   "source": [
    "There are 907 rows and 27 columns."
   ]
  },
  {
   "cell_type": "code",
   "execution_count": 4,
   "id": "caf18682",
   "metadata": {},
   "outputs": [
    {
     "data": {
      "text/plain": [
       "Index(['country', 'country_long', 'name', 'gppd_idnr', 'capacity_mw',\n",
       "       'latitude', 'longitude', 'primary_fuel', 'other_fuel1', 'other_fuel2',\n",
       "       'other_fuel3', 'commissioning_year', 'owner', 'source', 'url',\n",
       "       'geolocation_source', 'wepp_id', 'year_of_capacity_data',\n",
       "       'generation_gwh_2013', 'generation_gwh_2014', 'generation_gwh_2015',\n",
       "       'generation_gwh_2016', 'generation_gwh_2017', 'generation_gwh_2018',\n",
       "       'generation_gwh_2019', 'generation_data_source',\n",
       "       'estimated_generation_gwh'],\n",
       "      dtype='object')"
      ]
     },
     "execution_count": 4,
     "metadata": {},
     "output_type": "execute_result"
    }
   ],
   "source": [
    "# checkng the columns present in the dataset.\n",
    "df.columns"
   ]
  },
  {
   "cell_type": "markdown",
   "id": "e2660574",
   "metadata": {},
   "source": [
    "- Variable name is not having any space and other special character."
   ]
  },
  {
   "cell_type": "code",
   "execution_count": 5,
   "id": "5659c935",
   "metadata": {},
   "outputs": [
    {
     "data": {
      "text/plain": [
       "country                      object\n",
       "country_long                 object\n",
       "name                         object\n",
       "gppd_idnr                    object\n",
       "capacity_mw                 float64\n",
       "latitude                    float64\n",
       "longitude                   float64\n",
       "primary_fuel                 object\n",
       "other_fuel1                  object\n",
       "other_fuel2                  object\n",
       "other_fuel3                 float64\n",
       "commissioning_year          float64\n",
       "owner                        object\n",
       "source                       object\n",
       "url                          object\n",
       "geolocation_source           object\n",
       "wepp_id                     float64\n",
       "year_of_capacity_data       float64\n",
       "generation_gwh_2013         float64\n",
       "generation_gwh_2014         float64\n",
       "generation_gwh_2015         float64\n",
       "generation_gwh_2016         float64\n",
       "generation_gwh_2017         float64\n",
       "generation_gwh_2018         float64\n",
       "generation_gwh_2019         float64\n",
       "generation_data_source       object\n",
       "estimated_generation_gwh    float64\n",
       "dtype: object"
      ]
     },
     "execution_count": 5,
     "metadata": {},
     "output_type": "execute_result"
    }
   ],
   "source": [
    "# To confirm about the first prediction right, Cheching the datatypes of all the columns.\n",
    "df.dtypes"
   ]
  },
  {
   "cell_type": "markdown",
   "id": "cc722313",
   "metadata": {},
   "source": [
    "Out of 27 Columns in the data set, \n",
    "- Object type (Categorical column) = 12\n",
    "- Float type (Numerical column) = 15"
   ]
  },
  {
   "cell_type": "code",
   "execution_count": 6,
   "id": "1002b2bf",
   "metadata": {},
   "outputs": [
    {
     "name": "stdout",
     "output_type": "stream",
     "text": [
      "<class 'pandas.core.frame.DataFrame'>\n",
      "RangeIndex: 907 entries, 0 to 906\n",
      "Data columns (total 27 columns):\n",
      " #   Column                    Non-Null Count  Dtype  \n",
      "---  ------                    --------------  -----  \n",
      " 0   country                   907 non-null    object \n",
      " 1   country_long              907 non-null    object \n",
      " 2   name                      907 non-null    object \n",
      " 3   gppd_idnr                 907 non-null    object \n",
      " 4   capacity_mw               907 non-null    float64\n",
      " 5   latitude                  861 non-null    float64\n",
      " 6   longitude                 861 non-null    float64\n",
      " 7   primary_fuel              907 non-null    object \n",
      " 8   other_fuel1               198 non-null    object \n",
      " 9   other_fuel2               1 non-null      object \n",
      " 10  other_fuel3               0 non-null      float64\n",
      " 11  commissioning_year        527 non-null    float64\n",
      " 12  owner                     342 non-null    object \n",
      " 13  source                    907 non-null    object \n",
      " 14  url                       907 non-null    object \n",
      " 15  geolocation_source        888 non-null    object \n",
      " 16  wepp_id                   0 non-null      float64\n",
      " 17  year_of_capacity_data     519 non-null    float64\n",
      " 18  generation_gwh_2013       0 non-null      float64\n",
      " 19  generation_gwh_2014       398 non-null    float64\n",
      " 20  generation_gwh_2015       422 non-null    float64\n",
      " 21  generation_gwh_2016       434 non-null    float64\n",
      " 22  generation_gwh_2017       440 non-null    float64\n",
      " 23  generation_gwh_2018       448 non-null    float64\n",
      " 24  generation_gwh_2019       0 non-null      float64\n",
      " 25  generation_data_source    449 non-null    object \n",
      " 26  estimated_generation_gwh  0 non-null      float64\n",
      "dtypes: float64(15), object(12)\n",
      "memory usage: 191.4+ KB\n"
     ]
    }
   ],
   "source": [
    "# For getting the overview of the dataset\n",
    "df.info()"
   ]
  },
  {
   "cell_type": "markdown",
   "id": "9bfed93c",
   "metadata": {},
   "source": [
    "As we can see, some columns have '0' or '1' data only, i.e,\n",
    "- other_fuel2 has only '1' data.\n",
    "- other_fuel3,wepp_id,generation_gwh_2013,generation_gwh_2019,estimated_generation_gwh have '0' or no data.\n",
    "\n",
    "So will drop these 6 columns."
   ]
  },
  {
   "cell_type": "code",
   "execution_count": 7,
   "id": "8204a9cd",
   "metadata": {},
   "outputs": [
    {
     "data": {
      "text/plain": [
       "country                       1\n",
       "country_long                  1\n",
       "name                        907\n",
       "gppd_idnr                   907\n",
       "capacity_mw                 361\n",
       "latitude                    836\n",
       "longitude                   827\n",
       "primary_fuel                  8\n",
       "other_fuel1                   3\n",
       "other_fuel2                   1\n",
       "other_fuel3                   0\n",
       "commissioning_year           73\n",
       "owner                       280\n",
       "source                      191\n",
       "url                         304\n",
       "geolocation_source            3\n",
       "wepp_id                       0\n",
       "year_of_capacity_data         1\n",
       "generation_gwh_2013           0\n",
       "generation_gwh_2014         371\n",
       "generation_gwh_2015         396\n",
       "generation_gwh_2016         403\n",
       "generation_gwh_2017         408\n",
       "generation_gwh_2018         410\n",
       "generation_gwh_2019           0\n",
       "generation_data_source        1\n",
       "estimated_generation_gwh      0\n",
       "dtype: int64"
      ]
     },
     "execution_count": 7,
     "metadata": {},
     "output_type": "execute_result"
    }
   ],
   "source": [
    "#Count of unique value in each column\n",
    "df.nunique()"
   ]
  },
  {
   "cell_type": "code",
   "execution_count": 8,
   "id": "1f448f43",
   "metadata": {},
   "outputs": [
    {
     "data": {
      "text/plain": [
       "IND    907\n",
       "Name: country, dtype: int64"
      ]
     },
     "execution_count": 8,
     "metadata": {},
     "output_type": "execute_result"
    }
   ],
   "source": [
    "df.country.value_counts()"
   ]
  },
  {
   "cell_type": "code",
   "execution_count": 9,
   "id": "487dec59",
   "metadata": {},
   "outputs": [
    {
     "data": {
      "text/plain": [
       "India    907\n",
       "Name: country_long, dtype: int64"
      ]
     },
     "execution_count": 9,
     "metadata": {},
     "output_type": "execute_result"
    }
   ],
   "source": [
    "df.country_long.value_counts()"
   ]
  },
  {
   "cell_type": "code",
   "execution_count": 10,
   "id": "04d07515",
   "metadata": {},
   "outputs": [
    {
     "data": {
      "text/plain": [
       "WRI                                     765\n",
       "Industry About                          119\n",
       "National Renewable Energy Laboratory      4\n",
       "Name: geolocation_source, dtype: int64"
      ]
     },
     "execution_count": 10,
     "metadata": {},
     "output_type": "execute_result"
    }
   ],
   "source": [
    "df.geolocation_source.value_counts()"
   ]
  },
  {
   "cell_type": "code",
   "execution_count": 11,
   "id": "0a629dfa",
   "metadata": {},
   "outputs": [
    {
     "data": {
      "text/plain": [
       "2019.0    519\n",
       "Name: year_of_capacity_data, dtype: int64"
      ]
     },
     "execution_count": 11,
     "metadata": {},
     "output_type": "execute_result"
    }
   ],
   "source": [
    "df.year_of_capacity_data.value_counts()"
   ]
  },
  {
   "cell_type": "code",
   "execution_count": 12,
   "id": "9f5bd251",
   "metadata": {},
   "outputs": [
    {
     "data": {
      "text/plain": [
       "Central Electricity Authority    449\n",
       "Name: generation_data_source, dtype: int64"
      ]
     },
     "execution_count": 12,
     "metadata": {},
     "output_type": "execute_result"
    }
   ],
   "source": [
    "df.generation_data_source.value_counts()"
   ]
  },
  {
   "cell_type": "markdown",
   "id": "c0a9d02b",
   "metadata": {},
   "source": [
    "From looking above situations of the unique and count values, the below data also can be dropped as it may not affect our target variable in any means.\n",
    "- country, country_long, geolocation_source,year_of_capacity_data, generation_data_source."
   ]
  },
  {
   "cell_type": "markdown",
   "id": "48e46175",
   "metadata": {},
   "source": [
    "But before we conclude the list of drop columns, lets check the null value count also."
   ]
  },
  {
   "cell_type": "code",
   "execution_count": 13,
   "id": "db5e329d",
   "metadata": {},
   "outputs": [
    {
     "data": {
      "text/plain": [
       "country                       0\n",
       "country_long                  0\n",
       "name                          0\n",
       "gppd_idnr                     0\n",
       "capacity_mw                   0\n",
       "latitude                     46\n",
       "longitude                    46\n",
       "primary_fuel                  0\n",
       "other_fuel1                 709\n",
       "other_fuel2                 906\n",
       "other_fuel3                 907\n",
       "commissioning_year          380\n",
       "owner                       565\n",
       "source                        0\n",
       "url                           0\n",
       "geolocation_source           19\n",
       "wepp_id                     907\n",
       "year_of_capacity_data       388\n",
       "generation_gwh_2013         907\n",
       "generation_gwh_2014         509\n",
       "generation_gwh_2015         485\n",
       "generation_gwh_2016         473\n",
       "generation_gwh_2017         467\n",
       "generation_gwh_2018         459\n",
       "generation_gwh_2019         907\n",
       "generation_data_source      458\n",
       "estimated_generation_gwh    907\n",
       "dtype: int64"
      ]
     },
     "execution_count": 13,
     "metadata": {},
     "output_type": "execute_result"
    }
   ],
   "source": [
    "# checking the null values in the dataframe\n",
    "df.isnull().sum()"
   ]
  },
  {
   "cell_type": "markdown",
   "id": "35291e3b",
   "metadata": {},
   "source": [
    "Till now our drop list consists of \n",
    "- other_fuel2, other_fuel3, wepp_id, generation_gwh_2013, generation_gwh_2019, estimated_generation_gwh.\n",
    "- country, country_long, geolocation_source,year_of_capacity_data, generation_data_source.\n",
    "\n",
    "From above information we can see that most of the drop list data has either high null values or minimum null values.\n",
    "\n",
    "So it is clear that we can proceed dropping the list we have made.\n",
    "\n",
    "But seeing the null values we can add some more columns to the drop list, lets check."
   ]
  },
  {
   "cell_type": "code",
   "execution_count": 14,
   "id": "8075ac9f",
   "metadata": {},
   "outputs": [
    {
     "data": {
      "text/plain": [
       "Oil             195\n",
       "Gas               2\n",
       "Cogeneration      1\n",
       "Name: other_fuel1, dtype: int64"
      ]
     },
     "execution_count": 14,
     "metadata": {},
     "output_type": "execute_result"
    }
   ],
   "source": [
    "df.other_fuel1.value_counts()"
   ]
  },
  {
   "cell_type": "markdown",
   "id": "138757b6",
   "metadata": {},
   "source": [
    "Below variables are dropped as there is hughe missing values present and no data available for analysis.\n",
    "- 'other_fuel1','url','owner','wepp_id',"
   ]
  },
  {
   "cell_type": "markdown",
   "id": "38047cbf",
   "metadata": {},
   "source": [
    "So our final drop list consists of\n",
    "\n",
    "- 'other_fuel2', 'other_fuel3', 'wepp_id, generation_gwh_2013', 'generation_gwh_2019', 'estimated_generation_gwh'.\n",
    "- 'country', 'country_long', 'geolocation_source', 'year_of_capacity_data', 'generation_data_source'.\n",
    "- 'other_fuel1','url','owner','wepp_id',"
   ]
  },
  {
   "cell_type": "code",
   "execution_count": 15,
   "id": "f7b40f02",
   "metadata": {},
   "outputs": [
    {
     "data": {
      "text/plain": [
       "0"
      ]
     },
     "execution_count": 15,
     "metadata": {},
     "output_type": "execute_result"
    }
   ],
   "source": [
    "#Check for duplicate data\n",
    "df.duplicated().sum()"
   ]
  },
  {
   "cell_type": "markdown",
   "id": "4239ae38",
   "metadata": {},
   "source": [
    "- So there is no duplicate datas in the columns."
   ]
  },
  {
   "cell_type": "code",
   "execution_count": 16,
   "id": "1722005b",
   "metadata": {},
   "outputs": [],
   "source": [
    "# Dropping Columns\n",
    "df.drop(columns=['other_fuel2', 'other_fuel3', 'wepp_id', 'generation_gwh_2013', 'generation_gwh_2019', \n",
    "                 'estimated_generation_gwh', 'country', 'country_long', 'geolocation_source', \n",
    "                 'year_of_capacity_data', 'generation_data_source','other_fuel1','url','owner'],axis=1,inplace =True)"
   ]
  },
  {
   "cell_type": "markdown",
   "id": "4d0a73e0",
   "metadata": {},
   "source": [
    "# Checking our dataset after dropping columns which are not affecting our target variable."
   ]
  },
  {
   "cell_type": "code",
   "execution_count": 17,
   "id": "14aaf820",
   "metadata": {},
   "outputs": [
    {
     "data": {
      "text/plain": [
       "(907, 13)"
      ]
     },
     "execution_count": 17,
     "metadata": {},
     "output_type": "execute_result"
    }
   ],
   "source": [
    "# Checking the dimensions of this dataset.\n",
    "df.shape"
   ]
  },
  {
   "cell_type": "markdown",
   "id": "280c0282",
   "metadata": {},
   "source": [
    "now there are 13 cols & 907 rows"
   ]
  },
  {
   "cell_type": "code",
   "execution_count": 18,
   "id": "f5429f87",
   "metadata": {},
   "outputs": [
    {
     "data": {
      "text/html": [
       "<div>\n",
       "<style scoped>\n",
       "    .dataframe tbody tr th:only-of-type {\n",
       "        vertical-align: middle;\n",
       "    }\n",
       "\n",
       "    .dataframe tbody tr th {\n",
       "        vertical-align: top;\n",
       "    }\n",
       "\n",
       "    .dataframe thead th {\n",
       "        text-align: right;\n",
       "    }\n",
       "</style>\n",
       "<table border=\"1\" class=\"dataframe\">\n",
       "  <thead>\n",
       "    <tr style=\"text-align: right;\">\n",
       "      <th></th>\n",
       "      <th>name</th>\n",
       "      <th>gppd_idnr</th>\n",
       "      <th>capacity_mw</th>\n",
       "      <th>latitude</th>\n",
       "      <th>longitude</th>\n",
       "      <th>primary_fuel</th>\n",
       "      <th>commissioning_year</th>\n",
       "      <th>source</th>\n",
       "      <th>generation_gwh_2014</th>\n",
       "      <th>generation_gwh_2015</th>\n",
       "      <th>generation_gwh_2016</th>\n",
       "      <th>generation_gwh_2017</th>\n",
       "      <th>generation_gwh_2018</th>\n",
       "    </tr>\n",
       "  </thead>\n",
       "  <tbody>\n",
       "    <tr>\n",
       "      <th>0</th>\n",
       "      <td>ACME Solar Tower</td>\n",
       "      <td>WRI1020239</td>\n",
       "      <td>2.5</td>\n",
       "      <td>28.1839</td>\n",
       "      <td>73.2407</td>\n",
       "      <td>Solar</td>\n",
       "      <td>2011.0</td>\n",
       "      <td>National Renewable Energy Laboratory</td>\n",
       "      <td>NaN</td>\n",
       "      <td>NaN</td>\n",
       "      <td>NaN</td>\n",
       "      <td>NaN</td>\n",
       "      <td>NaN</td>\n",
       "    </tr>\n",
       "    <tr>\n",
       "      <th>1</th>\n",
       "      <td>ADITYA CEMENT WORKS</td>\n",
       "      <td>WRI1019881</td>\n",
       "      <td>98.0</td>\n",
       "      <td>24.7663</td>\n",
       "      <td>74.6090</td>\n",
       "      <td>Coal</td>\n",
       "      <td>NaN</td>\n",
       "      <td>Ultratech Cement ltd</td>\n",
       "      <td>NaN</td>\n",
       "      <td>NaN</td>\n",
       "      <td>NaN</td>\n",
       "      <td>NaN</td>\n",
       "      <td>NaN</td>\n",
       "    </tr>\n",
       "    <tr>\n",
       "      <th>2</th>\n",
       "      <td>AES Saurashtra Windfarms</td>\n",
       "      <td>WRI1026669</td>\n",
       "      <td>39.2</td>\n",
       "      <td>21.9038</td>\n",
       "      <td>69.3732</td>\n",
       "      <td>Wind</td>\n",
       "      <td>NaN</td>\n",
       "      <td>CDM</td>\n",
       "      <td>NaN</td>\n",
       "      <td>NaN</td>\n",
       "      <td>NaN</td>\n",
       "      <td>NaN</td>\n",
       "      <td>NaN</td>\n",
       "    </tr>\n",
       "    <tr>\n",
       "      <th>3</th>\n",
       "      <td>AGARTALA GT</td>\n",
       "      <td>IND0000001</td>\n",
       "      <td>135.0</td>\n",
       "      <td>23.8712</td>\n",
       "      <td>91.3602</td>\n",
       "      <td>Gas</td>\n",
       "      <td>2004.0</td>\n",
       "      <td>Central Electricity Authority</td>\n",
       "      <td>617.789264</td>\n",
       "      <td>843.747</td>\n",
       "      <td>886.004428</td>\n",
       "      <td>663.774500</td>\n",
       "      <td>626.239128</td>\n",
       "    </tr>\n",
       "    <tr>\n",
       "      <th>4</th>\n",
       "      <td>AKALTARA TPP</td>\n",
       "      <td>IND0000002</td>\n",
       "      <td>1800.0</td>\n",
       "      <td>21.9603</td>\n",
       "      <td>82.4091</td>\n",
       "      <td>Coal</td>\n",
       "      <td>2015.0</td>\n",
       "      <td>Central Electricity Authority</td>\n",
       "      <td>3035.550000</td>\n",
       "      <td>5916.370</td>\n",
       "      <td>6243.000000</td>\n",
       "      <td>5385.579736</td>\n",
       "      <td>7279.000000</td>\n",
       "    </tr>\n",
       "  </tbody>\n",
       "</table>\n",
       "</div>"
      ],
      "text/plain": [
       "                       name   gppd_idnr  capacity_mw  latitude  longitude  \\\n",
       "0          ACME Solar Tower  WRI1020239          2.5   28.1839    73.2407   \n",
       "1       ADITYA CEMENT WORKS  WRI1019881         98.0   24.7663    74.6090   \n",
       "2  AES Saurashtra Windfarms  WRI1026669         39.2   21.9038    69.3732   \n",
       "3               AGARTALA GT  IND0000001        135.0   23.8712    91.3602   \n",
       "4              AKALTARA TPP  IND0000002       1800.0   21.9603    82.4091   \n",
       "\n",
       "  primary_fuel  commissioning_year                                source  \\\n",
       "0        Solar              2011.0  National Renewable Energy Laboratory   \n",
       "1         Coal                 NaN                  Ultratech Cement ltd   \n",
       "2         Wind                 NaN                                   CDM   \n",
       "3          Gas              2004.0         Central Electricity Authority   \n",
       "4         Coal              2015.0         Central Electricity Authority   \n",
       "\n",
       "   generation_gwh_2014  generation_gwh_2015  generation_gwh_2016  \\\n",
       "0                  NaN                  NaN                  NaN   \n",
       "1                  NaN                  NaN                  NaN   \n",
       "2                  NaN                  NaN                  NaN   \n",
       "3           617.789264              843.747           886.004428   \n",
       "4          3035.550000             5916.370          6243.000000   \n",
       "\n",
       "   generation_gwh_2017  generation_gwh_2018  \n",
       "0                  NaN                  NaN  \n",
       "1                  NaN                  NaN  \n",
       "2                  NaN                  NaN  \n",
       "3           663.774500           626.239128  \n",
       "4          5385.579736          7279.000000  "
      ]
     },
     "execution_count": 18,
     "metadata": {},
     "output_type": "execute_result"
    }
   ],
   "source": [
    "df.head()"
   ]
  },
  {
   "cell_type": "code",
   "execution_count": 19,
   "id": "dfaf7453",
   "metadata": {},
   "outputs": [
    {
     "data": {
      "text/plain": [
       "Index(['name', 'gppd_idnr', 'capacity_mw', 'latitude', 'longitude',\n",
       "       'primary_fuel', 'commissioning_year', 'source', 'generation_gwh_2014',\n",
       "       'generation_gwh_2015', 'generation_gwh_2016', 'generation_gwh_2017',\n",
       "       'generation_gwh_2018'],\n",
       "      dtype='object')"
      ]
     },
     "execution_count": 19,
     "metadata": {},
     "output_type": "execute_result"
    }
   ],
   "source": [
    "# checkng the columns present in the dataset.\n",
    "df.columns"
   ]
  },
  {
   "cell_type": "code",
   "execution_count": 20,
   "id": "17f98aac",
   "metadata": {},
   "outputs": [
    {
     "name": "stdout",
     "output_type": "stream",
     "text": [
      "<class 'pandas.core.frame.DataFrame'>\n",
      "RangeIndex: 907 entries, 0 to 906\n",
      "Data columns (total 13 columns):\n",
      " #   Column               Non-Null Count  Dtype  \n",
      "---  ------               --------------  -----  \n",
      " 0   name                 907 non-null    object \n",
      " 1   gppd_idnr            907 non-null    object \n",
      " 2   capacity_mw          907 non-null    float64\n",
      " 3   latitude             861 non-null    float64\n",
      " 4   longitude            861 non-null    float64\n",
      " 5   primary_fuel         907 non-null    object \n",
      " 6   commissioning_year   527 non-null    float64\n",
      " 7   source               907 non-null    object \n",
      " 8   generation_gwh_2014  398 non-null    float64\n",
      " 9   generation_gwh_2015  422 non-null    float64\n",
      " 10  generation_gwh_2016  434 non-null    float64\n",
      " 11  generation_gwh_2017  440 non-null    float64\n",
      " 12  generation_gwh_2018  448 non-null    float64\n",
      "dtypes: float64(9), object(4)\n",
      "memory usage: 92.2+ KB\n"
     ]
    }
   ],
   "source": [
    "df.info()"
   ]
  },
  {
   "cell_type": "markdown",
   "id": "9b16cb5e",
   "metadata": {},
   "source": [
    "Now the dataframe has 9 float variables & 4 objects variables."
   ]
  },
  {
   "cell_type": "code",
   "execution_count": 21,
   "id": "c842c9ae",
   "metadata": {},
   "outputs": [
    {
     "data": {
      "text/html": [
       "<div>\n",
       "<style scoped>\n",
       "    .dataframe tbody tr th:only-of-type {\n",
       "        vertical-align: middle;\n",
       "    }\n",
       "\n",
       "    .dataframe tbody tr th {\n",
       "        vertical-align: top;\n",
       "    }\n",
       "\n",
       "    .dataframe thead th {\n",
       "        text-align: right;\n",
       "    }\n",
       "</style>\n",
       "<table border=\"1\" class=\"dataframe\">\n",
       "  <thead>\n",
       "    <tr style=\"text-align: right;\">\n",
       "      <th></th>\n",
       "      <th>capacity_mw</th>\n",
       "      <th>latitude</th>\n",
       "      <th>longitude</th>\n",
       "      <th>commissioning_year</th>\n",
       "      <th>generation_gwh_2014</th>\n",
       "      <th>generation_gwh_2015</th>\n",
       "      <th>generation_gwh_2016</th>\n",
       "      <th>generation_gwh_2017</th>\n",
       "      <th>generation_gwh_2018</th>\n",
       "    </tr>\n",
       "  </thead>\n",
       "  <tbody>\n",
       "    <tr>\n",
       "      <th>count</th>\n",
       "      <td>907.000000</td>\n",
       "      <td>861.000000</td>\n",
       "      <td>861.000000</td>\n",
       "      <td>527.000000</td>\n",
       "      <td>398.000000</td>\n",
       "      <td>422.000000</td>\n",
       "      <td>434.000000</td>\n",
       "      <td>440.000000</td>\n",
       "      <td>448.000000</td>\n",
       "    </tr>\n",
       "    <tr>\n",
       "      <th>mean</th>\n",
       "      <td>326.223755</td>\n",
       "      <td>21.197918</td>\n",
       "      <td>77.464907</td>\n",
       "      <td>1997.091082</td>\n",
       "      <td>2431.823590</td>\n",
       "      <td>2428.226946</td>\n",
       "      <td>2467.936859</td>\n",
       "      <td>2547.759305</td>\n",
       "      <td>2600.804099</td>\n",
       "    </tr>\n",
       "    <tr>\n",
       "      <th>std</th>\n",
       "      <td>590.085456</td>\n",
       "      <td>6.239612</td>\n",
       "      <td>4.939316</td>\n",
       "      <td>17.082868</td>\n",
       "      <td>4026.440035</td>\n",
       "      <td>4194.596959</td>\n",
       "      <td>4162.884308</td>\n",
       "      <td>4196.991169</td>\n",
       "      <td>4314.880456</td>\n",
       "    </tr>\n",
       "    <tr>\n",
       "      <th>min</th>\n",
       "      <td>0.000000</td>\n",
       "      <td>8.168900</td>\n",
       "      <td>68.644700</td>\n",
       "      <td>1927.000000</td>\n",
       "      <td>0.000000</td>\n",
       "      <td>0.000000</td>\n",
       "      <td>0.000000</td>\n",
       "      <td>0.000000</td>\n",
       "      <td>0.000000</td>\n",
       "    </tr>\n",
       "    <tr>\n",
       "      <th>25%</th>\n",
       "      <td>16.725000</td>\n",
       "      <td>16.773900</td>\n",
       "      <td>74.256200</td>\n",
       "      <td>1988.000000</td>\n",
       "      <td>223.557672</td>\n",
       "      <td>176.381063</td>\n",
       "      <td>188.285252</td>\n",
       "      <td>177.874930</td>\n",
       "      <td>193.378250</td>\n",
       "    </tr>\n",
       "    <tr>\n",
       "      <th>50%</th>\n",
       "      <td>59.200000</td>\n",
       "      <td>21.780000</td>\n",
       "      <td>76.719500</td>\n",
       "      <td>2001.000000</td>\n",
       "      <td>801.123775</td>\n",
       "      <td>711.181225</td>\n",
       "      <td>737.205450</td>\n",
       "      <td>817.977250</td>\n",
       "      <td>751.644375</td>\n",
       "    </tr>\n",
       "    <tr>\n",
       "      <th>75%</th>\n",
       "      <td>385.250000</td>\n",
       "      <td>25.512400</td>\n",
       "      <td>79.440800</td>\n",
       "      <td>2012.000000</td>\n",
       "      <td>3035.306250</td>\n",
       "      <td>3084.121250</td>\n",
       "      <td>3282.861313</td>\n",
       "      <td>3275.690475</td>\n",
       "      <td>3143.535900</td>\n",
       "    </tr>\n",
       "    <tr>\n",
       "      <th>max</th>\n",
       "      <td>4760.000000</td>\n",
       "      <td>34.649000</td>\n",
       "      <td>95.408000</td>\n",
       "      <td>2018.000000</td>\n",
       "      <td>28127.000000</td>\n",
       "      <td>30539.000000</td>\n",
       "      <td>30015.000000</td>\n",
       "      <td>35116.000000</td>\n",
       "      <td>35136.000000</td>\n",
       "    </tr>\n",
       "  </tbody>\n",
       "</table>\n",
       "</div>"
      ],
      "text/plain": [
       "       capacity_mw    latitude   longitude  commissioning_year  \\\n",
       "count   907.000000  861.000000  861.000000          527.000000   \n",
       "mean    326.223755   21.197918   77.464907         1997.091082   \n",
       "std     590.085456    6.239612    4.939316           17.082868   \n",
       "min       0.000000    8.168900   68.644700         1927.000000   \n",
       "25%      16.725000   16.773900   74.256200         1988.000000   \n",
       "50%      59.200000   21.780000   76.719500         2001.000000   \n",
       "75%     385.250000   25.512400   79.440800         2012.000000   \n",
       "max    4760.000000   34.649000   95.408000         2018.000000   \n",
       "\n",
       "       generation_gwh_2014  generation_gwh_2015  generation_gwh_2016  \\\n",
       "count           398.000000           422.000000           434.000000   \n",
       "mean           2431.823590          2428.226946          2467.936859   \n",
       "std            4026.440035          4194.596959          4162.884308   \n",
       "min               0.000000             0.000000             0.000000   \n",
       "25%             223.557672           176.381063           188.285252   \n",
       "50%             801.123775           711.181225           737.205450   \n",
       "75%            3035.306250          3084.121250          3282.861313   \n",
       "max           28127.000000         30539.000000         30015.000000   \n",
       "\n",
       "       generation_gwh_2017  generation_gwh_2018  \n",
       "count           440.000000           448.000000  \n",
       "mean           2547.759305          2600.804099  \n",
       "std            4196.991169          4314.880456  \n",
       "min               0.000000             0.000000  \n",
       "25%             177.874930           193.378250  \n",
       "50%             817.977250           751.644375  \n",
       "75%            3275.690475          3143.535900  \n",
       "max           35116.000000         35136.000000  "
      ]
     },
     "execution_count": 21,
     "metadata": {},
     "output_type": "execute_result"
    }
   ],
   "source": [
    "#Checking the statistical Summary of the dataset\n",
    "df.describe()"
   ]
  },
  {
   "cell_type": "code",
   "execution_count": 22,
   "id": "f80567fc",
   "metadata": {},
   "outputs": [],
   "source": [
    "numerics = ['float64', 'int64']\n",
    "numeric_ds = df.select_dtypes(include=numerics)\n",
    "objects_ds = df.select_dtypes(exclude=numerics)"
   ]
  },
  {
   "cell_type": "markdown",
   "id": "3b7d8177",
   "metadata": {},
   "source": [
    "dataset is separated with object & numeric col for better EDA"
   ]
  },
  {
   "cell_type": "code",
   "execution_count": 23,
   "id": "83f4c9e3",
   "metadata": {},
   "outputs": [
    {
     "data": {
      "text/html": [
       "<div>\n",
       "<style scoped>\n",
       "    .dataframe tbody tr th:only-of-type {\n",
       "        vertical-align: middle;\n",
       "    }\n",
       "\n",
       "    .dataframe tbody tr th {\n",
       "        vertical-align: top;\n",
       "    }\n",
       "\n",
       "    .dataframe thead th {\n",
       "        text-align: right;\n",
       "    }\n",
       "</style>\n",
       "<table border=\"1\" class=\"dataframe\">\n",
       "  <thead>\n",
       "    <tr style=\"text-align: right;\">\n",
       "      <th></th>\n",
       "      <th>name</th>\n",
       "      <th>gppd_idnr</th>\n",
       "      <th>primary_fuel</th>\n",
       "      <th>source</th>\n",
       "    </tr>\n",
       "  </thead>\n",
       "  <tbody>\n",
       "    <tr>\n",
       "      <th>0</th>\n",
       "      <td>ACME Solar Tower</td>\n",
       "      <td>WRI1020239</td>\n",
       "      <td>Solar</td>\n",
       "      <td>National Renewable Energy Laboratory</td>\n",
       "    </tr>\n",
       "    <tr>\n",
       "      <th>1</th>\n",
       "      <td>ADITYA CEMENT WORKS</td>\n",
       "      <td>WRI1019881</td>\n",
       "      <td>Coal</td>\n",
       "      <td>Ultratech Cement ltd</td>\n",
       "    </tr>\n",
       "    <tr>\n",
       "      <th>2</th>\n",
       "      <td>AES Saurashtra Windfarms</td>\n",
       "      <td>WRI1026669</td>\n",
       "      <td>Wind</td>\n",
       "      <td>CDM</td>\n",
       "    </tr>\n",
       "    <tr>\n",
       "      <th>3</th>\n",
       "      <td>AGARTALA GT</td>\n",
       "      <td>IND0000001</td>\n",
       "      <td>Gas</td>\n",
       "      <td>Central Electricity Authority</td>\n",
       "    </tr>\n",
       "    <tr>\n",
       "      <th>4</th>\n",
       "      <td>AKALTARA TPP</td>\n",
       "      <td>IND0000002</td>\n",
       "      <td>Coal</td>\n",
       "      <td>Central Electricity Authority</td>\n",
       "    </tr>\n",
       "  </tbody>\n",
       "</table>\n",
       "</div>"
      ],
      "text/plain": [
       "                       name   gppd_idnr primary_fuel  \\\n",
       "0          ACME Solar Tower  WRI1020239        Solar   \n",
       "1       ADITYA CEMENT WORKS  WRI1019881         Coal   \n",
       "2  AES Saurashtra Windfarms  WRI1026669         Wind   \n",
       "3               AGARTALA GT  IND0000001          Gas   \n",
       "4              AKALTARA TPP  IND0000002         Coal   \n",
       "\n",
       "                                 source  \n",
       "0  National Renewable Energy Laboratory  \n",
       "1                  Ultratech Cement ltd  \n",
       "2                                   CDM  \n",
       "3         Central Electricity Authority  \n",
       "4         Central Electricity Authority  "
      ]
     },
     "execution_count": 23,
     "metadata": {},
     "output_type": "execute_result"
    }
   ],
   "source": [
    "objects_ds.head()"
   ]
  },
  {
   "cell_type": "code",
   "execution_count": 24,
   "id": "50c39d97",
   "metadata": {},
   "outputs": [
    {
     "data": {
      "text/html": [
       "<div>\n",
       "<style scoped>\n",
       "    .dataframe tbody tr th:only-of-type {\n",
       "        vertical-align: middle;\n",
       "    }\n",
       "\n",
       "    .dataframe tbody tr th {\n",
       "        vertical-align: top;\n",
       "    }\n",
       "\n",
       "    .dataframe thead th {\n",
       "        text-align: right;\n",
       "    }\n",
       "</style>\n",
       "<table border=\"1\" class=\"dataframe\">\n",
       "  <thead>\n",
       "    <tr style=\"text-align: right;\">\n",
       "      <th></th>\n",
       "      <th>name</th>\n",
       "      <th>gppd_idnr</th>\n",
       "      <th>primary_fuel</th>\n",
       "      <th>source</th>\n",
       "    </tr>\n",
       "  </thead>\n",
       "  <tbody>\n",
       "    <tr>\n",
       "      <th>count</th>\n",
       "      <td>907</td>\n",
       "      <td>907</td>\n",
       "      <td>907</td>\n",
       "      <td>907</td>\n",
       "    </tr>\n",
       "    <tr>\n",
       "      <th>unique</th>\n",
       "      <td>907</td>\n",
       "      <td>907</td>\n",
       "      <td>8</td>\n",
       "      <td>191</td>\n",
       "    </tr>\n",
       "    <tr>\n",
       "      <th>top</th>\n",
       "      <td>KCSF SANGUR</td>\n",
       "      <td>IND0000091</td>\n",
       "      <td>Coal</td>\n",
       "      <td>Central Electricity Authority</td>\n",
       "    </tr>\n",
       "    <tr>\n",
       "      <th>freq</th>\n",
       "      <td>1</td>\n",
       "      <td>1</td>\n",
       "      <td>258</td>\n",
       "      <td>519</td>\n",
       "    </tr>\n",
       "  </tbody>\n",
       "</table>\n",
       "</div>"
      ],
      "text/plain": [
       "               name   gppd_idnr primary_fuel                         source\n",
       "count           907         907          907                            907\n",
       "unique          907         907            8                            191\n",
       "top     KCSF SANGUR  IND0000091         Coal  Central Electricity Authority\n",
       "freq              1           1          258                            519"
      ]
     },
     "execution_count": 24,
     "metadata": {},
     "output_type": "execute_result"
    }
   ],
   "source": [
    "objects_ds.describe()"
   ]
  },
  {
   "cell_type": "markdown",
   "id": "368ae7b7",
   "metadata": {},
   "source": [
    "- source col has 191 unique class with Central Electric Authority is the highest.\n",
    "- primary fuel has 8 unique class with coal has the highest freq count of 259."
   ]
  },
  {
   "cell_type": "code",
   "execution_count": 25,
   "id": "8caa1b33",
   "metadata": {},
   "outputs": [
    {
     "data": {
      "text/html": [
       "<div>\n",
       "<style scoped>\n",
       "    .dataframe tbody tr th:only-of-type {\n",
       "        vertical-align: middle;\n",
       "    }\n",
       "\n",
       "    .dataframe tbody tr th {\n",
       "        vertical-align: top;\n",
       "    }\n",
       "\n",
       "    .dataframe thead th {\n",
       "        text-align: right;\n",
       "    }\n",
       "</style>\n",
       "<table border=\"1\" class=\"dataframe\">\n",
       "  <thead>\n",
       "    <tr style=\"text-align: right;\">\n",
       "      <th></th>\n",
       "      <th>capacity_mw</th>\n",
       "      <th>latitude</th>\n",
       "      <th>longitude</th>\n",
       "      <th>commissioning_year</th>\n",
       "      <th>generation_gwh_2014</th>\n",
       "      <th>generation_gwh_2015</th>\n",
       "      <th>generation_gwh_2016</th>\n",
       "      <th>generation_gwh_2017</th>\n",
       "      <th>generation_gwh_2018</th>\n",
       "    </tr>\n",
       "  </thead>\n",
       "  <tbody>\n",
       "    <tr>\n",
       "      <th>count</th>\n",
       "      <td>907.000000</td>\n",
       "      <td>861.000000</td>\n",
       "      <td>861.000000</td>\n",
       "      <td>527.000000</td>\n",
       "      <td>398.000000</td>\n",
       "      <td>422.000000</td>\n",
       "      <td>434.000000</td>\n",
       "      <td>440.000000</td>\n",
       "      <td>448.000000</td>\n",
       "    </tr>\n",
       "    <tr>\n",
       "      <th>mean</th>\n",
       "      <td>326.223755</td>\n",
       "      <td>21.197918</td>\n",
       "      <td>77.464907</td>\n",
       "      <td>1997.091082</td>\n",
       "      <td>2431.823590</td>\n",
       "      <td>2428.226946</td>\n",
       "      <td>2467.936859</td>\n",
       "      <td>2547.759305</td>\n",
       "      <td>2600.804099</td>\n",
       "    </tr>\n",
       "    <tr>\n",
       "      <th>std</th>\n",
       "      <td>590.085456</td>\n",
       "      <td>6.239612</td>\n",
       "      <td>4.939316</td>\n",
       "      <td>17.082868</td>\n",
       "      <td>4026.440035</td>\n",
       "      <td>4194.596959</td>\n",
       "      <td>4162.884308</td>\n",
       "      <td>4196.991169</td>\n",
       "      <td>4314.880456</td>\n",
       "    </tr>\n",
       "    <tr>\n",
       "      <th>min</th>\n",
       "      <td>0.000000</td>\n",
       "      <td>8.168900</td>\n",
       "      <td>68.644700</td>\n",
       "      <td>1927.000000</td>\n",
       "      <td>0.000000</td>\n",
       "      <td>0.000000</td>\n",
       "      <td>0.000000</td>\n",
       "      <td>0.000000</td>\n",
       "      <td>0.000000</td>\n",
       "    </tr>\n",
       "    <tr>\n",
       "      <th>25%</th>\n",
       "      <td>16.725000</td>\n",
       "      <td>16.773900</td>\n",
       "      <td>74.256200</td>\n",
       "      <td>1988.000000</td>\n",
       "      <td>223.557672</td>\n",
       "      <td>176.381063</td>\n",
       "      <td>188.285252</td>\n",
       "      <td>177.874930</td>\n",
       "      <td>193.378250</td>\n",
       "    </tr>\n",
       "    <tr>\n",
       "      <th>50%</th>\n",
       "      <td>59.200000</td>\n",
       "      <td>21.780000</td>\n",
       "      <td>76.719500</td>\n",
       "      <td>2001.000000</td>\n",
       "      <td>801.123775</td>\n",
       "      <td>711.181225</td>\n",
       "      <td>737.205450</td>\n",
       "      <td>817.977250</td>\n",
       "      <td>751.644375</td>\n",
       "    </tr>\n",
       "    <tr>\n",
       "      <th>75%</th>\n",
       "      <td>385.250000</td>\n",
       "      <td>25.512400</td>\n",
       "      <td>79.440800</td>\n",
       "      <td>2012.000000</td>\n",
       "      <td>3035.306250</td>\n",
       "      <td>3084.121250</td>\n",
       "      <td>3282.861313</td>\n",
       "      <td>3275.690475</td>\n",
       "      <td>3143.535900</td>\n",
       "    </tr>\n",
       "    <tr>\n",
       "      <th>max</th>\n",
       "      <td>4760.000000</td>\n",
       "      <td>34.649000</td>\n",
       "      <td>95.408000</td>\n",
       "      <td>2018.000000</td>\n",
       "      <td>28127.000000</td>\n",
       "      <td>30539.000000</td>\n",
       "      <td>30015.000000</td>\n",
       "      <td>35116.000000</td>\n",
       "      <td>35136.000000</td>\n",
       "    </tr>\n",
       "  </tbody>\n",
       "</table>\n",
       "</div>"
      ],
      "text/plain": [
       "       capacity_mw    latitude   longitude  commissioning_year  \\\n",
       "count   907.000000  861.000000  861.000000          527.000000   \n",
       "mean    326.223755   21.197918   77.464907         1997.091082   \n",
       "std     590.085456    6.239612    4.939316           17.082868   \n",
       "min       0.000000    8.168900   68.644700         1927.000000   \n",
       "25%      16.725000   16.773900   74.256200         1988.000000   \n",
       "50%      59.200000   21.780000   76.719500         2001.000000   \n",
       "75%     385.250000   25.512400   79.440800         2012.000000   \n",
       "max    4760.000000   34.649000   95.408000         2018.000000   \n",
       "\n",
       "       generation_gwh_2014  generation_gwh_2015  generation_gwh_2016  \\\n",
       "count           398.000000           422.000000           434.000000   \n",
       "mean           2431.823590          2428.226946          2467.936859   \n",
       "std            4026.440035          4194.596959          4162.884308   \n",
       "min               0.000000             0.000000             0.000000   \n",
       "25%             223.557672           176.381063           188.285252   \n",
       "50%             801.123775           711.181225           737.205450   \n",
       "75%            3035.306250          3084.121250          3282.861313   \n",
       "max           28127.000000         30539.000000         30015.000000   \n",
       "\n",
       "       generation_gwh_2017  generation_gwh_2018  \n",
       "count           440.000000           448.000000  \n",
       "mean           2547.759305          2600.804099  \n",
       "std            4196.991169          4314.880456  \n",
       "min               0.000000             0.000000  \n",
       "25%             177.874930           193.378250  \n",
       "50%             817.977250           751.644375  \n",
       "75%            3275.690475          3143.535900  \n",
       "max           35116.000000         35136.000000  "
      ]
     },
     "execution_count": 25,
     "metadata": {},
     "output_type": "execute_result"
    }
   ],
   "source": [
    "numeric_ds.describe()"
   ]
  },
  {
   "cell_type": "markdown",
   "id": "ec720f7e",
   "metadata": {},
   "source": [
    "- capacity_mw there is hughe diff in max & 75th percentile.\n",
    "- generation_gwh_2014 to generation_gwh_2018, min value is 0 and Max value is increaing from 2014 to 2018."
   ]
  },
  {
   "cell_type": "markdown",
   "id": "417ab021",
   "metadata": {},
   "source": [
    "# Data Visualization"
   ]
  },
  {
   "cell_type": "code",
   "execution_count": 26,
   "id": "40b3be92",
   "metadata": {},
   "outputs": [
    {
     "data": {
      "text/plain": [
       "primary_fuel\n",
       "Biomass     50\n",
       "Coal       258\n",
       "Gas         69\n",
       "Hydro      251\n",
       "Nuclear      9\n",
       "Oil         20\n",
       "Solar      127\n",
       "Wind       123\n",
       "dtype: int64"
      ]
     },
     "execution_count": 26,
     "metadata": {},
     "output_type": "execute_result"
    }
   ],
   "source": [
    "df.groupby('primary_fuel').size()"
   ]
  },
  {
   "cell_type": "markdown",
   "id": "c81cd9d8",
   "metadata": {},
   "source": [
    "- Coal and Hydro fuel counts are more than compared to other fuel types.\n",
    "- Nuclear fuel has the least count."
   ]
  },
  {
   "cell_type": "code",
   "execution_count": 27,
   "id": "fe4d5982",
   "metadata": {},
   "outputs": [
    {
     "data": {
      "image/png": "[encoded data removed]",
      "text/plain": [
       "<Figure size 432x288 with 1 Axes>"
      ]
     },
     "metadata": {
      "needs_background": "light"
     },
     "output_type": "display_data"
    }
   ],
   "source": [
    "sns.countplot(df['primary_fuel']);"
   ]
  },
  {
   "cell_type": "markdown",
   "id": "57e7f862",
   "metadata": {},
   "source": [
    "- Solar and Wind fuel are main competitor for the Coal and Hydro fuel.\n",
    "- Primary fuel has 8 kind of fuel type, where nuclear is the least one & Coal is the highest fuel type."
   ]
  },
  {
   "cell_type": "code",
   "execution_count": 28,
   "id": "e3427c38",
   "metadata": {},
   "outputs": [
    {
     "data": {
      "image/png": "[encoded data removed]",
      "text/plain": [
       "<Figure size 432x288 with 1 Axes>"
      ]
     },
     "metadata": {
      "needs_background": "light"
     },
     "output_type": "display_data"
    }
   ],
   "source": [
    "# Visualizing the Histogram of the Target Variable\n",
    "ax = sns.barplot(x='primary_fuel', y= 'capacity_mw' , data=df) "
   ]
  },
  {
   "cell_type": "markdown",
   "id": "322f86d8",
   "metadata": {},
   "source": [
    "- Nuclear fuel has the highest capacity_mw as compared with other fuel type.\n",
    "- And Solar, Wind and Biomass fuel type has the least capacity_mw"
   ]
  },
  {
   "cell_type": "markdown",
   "id": "055aee95",
   "metadata": {},
   "source": [
    "# Labelencoder"
   ]
  },
  {
   "cell_type": "code",
   "execution_count": 29,
   "id": "76546627",
   "metadata": {},
   "outputs": [],
   "source": [
    "# categorical variable encoding\n",
    "cat_vars_list = objects_ds.columns.tolist()\n",
    "## Label Encoder\n",
    "from sklearn.preprocessing import LabelEncoder\n",
    "\n",
    "le = LabelEncoder()\n",
    "for i in cat_vars_list :\n",
    "    df[i] = le.fit_transform(df[i])"
   ]
  },
  {
   "cell_type": "code",
   "execution_count": 30,
   "id": "d45d7c60",
   "metadata": {},
   "outputs": [
    {
     "data": {
      "text/html": [
       "<div>\n",
       "<style scoped>\n",
       "    .dataframe tbody tr th:only-of-type {\n",
       "        vertical-align: middle;\n",
       "    }\n",
       "\n",
       "    .dataframe tbody tr th {\n",
       "        vertical-align: top;\n",
       "    }\n",
       "\n",
       "    .dataframe thead th {\n",
       "        text-align: right;\n",
       "    }\n",
       "</style>\n",
       "<table border=\"1\" class=\"dataframe\">\n",
       "  <thead>\n",
       "    <tr style=\"text-align: right;\">\n",
       "      <th></th>\n",
       "      <th>name</th>\n",
       "      <th>gppd_idnr</th>\n",
       "      <th>capacity_mw</th>\n",
       "      <th>latitude</th>\n",
       "      <th>longitude</th>\n",
       "      <th>primary_fuel</th>\n",
       "      <th>commissioning_year</th>\n",
       "      <th>source</th>\n",
       "      <th>generation_gwh_2014</th>\n",
       "      <th>generation_gwh_2015</th>\n",
       "      <th>generation_gwh_2016</th>\n",
       "      <th>generation_gwh_2017</th>\n",
       "      <th>generation_gwh_2018</th>\n",
       "    </tr>\n",
       "  </thead>\n",
       "  <tbody>\n",
       "    <tr>\n",
       "      <th>0</th>\n",
       "      <td>0</td>\n",
       "      <td>657</td>\n",
       "      <td>2.5</td>\n",
       "      <td>28.1839</td>\n",
       "      <td>73.2407</td>\n",
       "      <td>6</td>\n",
       "      <td>2011.0</td>\n",
       "      <td>109</td>\n",
       "      <td>NaN</td>\n",
       "      <td>NaN</td>\n",
       "      <td>NaN</td>\n",
       "      <td>NaN</td>\n",
       "      <td>NaN</td>\n",
       "    </tr>\n",
       "    <tr>\n",
       "      <th>1</th>\n",
       "      <td>1</td>\n",
       "      <td>519</td>\n",
       "      <td>98.0</td>\n",
       "      <td>24.7663</td>\n",
       "      <td>74.6090</td>\n",
       "      <td>1</td>\n",
       "      <td>NaN</td>\n",
       "      <td>174</td>\n",
       "      <td>NaN</td>\n",
       "      <td>NaN</td>\n",
       "      <td>NaN</td>\n",
       "      <td>NaN</td>\n",
       "      <td>NaN</td>\n",
       "    </tr>\n",
       "    <tr>\n",
       "      <th>2</th>\n",
       "      <td>2</td>\n",
       "      <td>853</td>\n",
       "      <td>39.2</td>\n",
       "      <td>21.9038</td>\n",
       "      <td>69.3732</td>\n",
       "      <td>7</td>\n",
       "      <td>NaN</td>\n",
       "      <td>21</td>\n",
       "      <td>NaN</td>\n",
       "      <td>NaN</td>\n",
       "      <td>NaN</td>\n",
       "      <td>NaN</td>\n",
       "      <td>NaN</td>\n",
       "    </tr>\n",
       "    <tr>\n",
       "      <th>3</th>\n",
       "      <td>3</td>\n",
       "      <td>0</td>\n",
       "      <td>135.0</td>\n",
       "      <td>23.8712</td>\n",
       "      <td>91.3602</td>\n",
       "      <td>2</td>\n",
       "      <td>2004.0</td>\n",
       "      <td>22</td>\n",
       "      <td>617.789264</td>\n",
       "      <td>843.747000</td>\n",
       "      <td>886.004428</td>\n",
       "      <td>663.774500</td>\n",
       "      <td>626.239128</td>\n",
       "    </tr>\n",
       "    <tr>\n",
       "      <th>4</th>\n",
       "      <td>4</td>\n",
       "      <td>1</td>\n",
       "      <td>1800.0</td>\n",
       "      <td>21.9603</td>\n",
       "      <td>82.4091</td>\n",
       "      <td>1</td>\n",
       "      <td>2015.0</td>\n",
       "      <td>22</td>\n",
       "      <td>3035.550000</td>\n",
       "      <td>5916.370000</td>\n",
       "      <td>6243.000000</td>\n",
       "      <td>5385.579736</td>\n",
       "      <td>7279.000000</td>\n",
       "    </tr>\n",
       "    <tr>\n",
       "      <th>...</th>\n",
       "      <td>...</td>\n",
       "      <td>...</td>\n",
       "      <td>...</td>\n",
       "      <td>...</td>\n",
       "      <td>...</td>\n",
       "      <td>...</td>\n",
       "      <td>...</td>\n",
       "      <td>...</td>\n",
       "      <td>...</td>\n",
       "      <td>...</td>\n",
       "      <td>...</td>\n",
       "      <td>...</td>\n",
       "      <td>...</td>\n",
       "    </tr>\n",
       "    <tr>\n",
       "      <th>902</th>\n",
       "      <td>902</td>\n",
       "      <td>491</td>\n",
       "      <td>1600.0</td>\n",
       "      <td>16.2949</td>\n",
       "      <td>77.3568</td>\n",
       "      <td>1</td>\n",
       "      <td>2016.0</td>\n",
       "      <td>22</td>\n",
       "      <td>NaN</td>\n",
       "      <td>0.994875</td>\n",
       "      <td>233.596650</td>\n",
       "      <td>865.400000</td>\n",
       "      <td>686.500000</td>\n",
       "    </tr>\n",
       "    <tr>\n",
       "      <th>903</th>\n",
       "      <td>903</td>\n",
       "      <td>822</td>\n",
       "      <td>3.0</td>\n",
       "      <td>12.8932</td>\n",
       "      <td>78.1654</td>\n",
       "      <td>6</td>\n",
       "      <td>NaN</td>\n",
       "      <td>77</td>\n",
       "      <td>NaN</td>\n",
       "      <td>NaN</td>\n",
       "      <td>NaN</td>\n",
       "      <td>NaN</td>\n",
       "      <td>NaN</td>\n",
       "    </tr>\n",
       "    <tr>\n",
       "      <th>904</th>\n",
       "      <td>904</td>\n",
       "      <td>891</td>\n",
       "      <td>25.5</td>\n",
       "      <td>15.2758</td>\n",
       "      <td>75.5811</td>\n",
       "      <td>7</td>\n",
       "      <td>NaN</td>\n",
       "      <td>21</td>\n",
       "      <td>NaN</td>\n",
       "      <td>NaN</td>\n",
       "      <td>NaN</td>\n",
       "      <td>NaN</td>\n",
       "      <td>NaN</td>\n",
       "    </tr>\n",
       "    <tr>\n",
       "      <th>905</th>\n",
       "      <td>905</td>\n",
       "      <td>539</td>\n",
       "      <td>80.0</td>\n",
       "      <td>24.3500</td>\n",
       "      <td>73.7477</td>\n",
       "      <td>1</td>\n",
       "      <td>NaN</td>\n",
       "      <td>59</td>\n",
       "      <td>NaN</td>\n",
       "      <td>NaN</td>\n",
       "      <td>NaN</td>\n",
       "      <td>NaN</td>\n",
       "      <td>NaN</td>\n",
       "    </tr>\n",
       "    <tr>\n",
       "      <th>906</th>\n",
       "      <td>906</td>\n",
       "      <td>876</td>\n",
       "      <td>16.5</td>\n",
       "      <td>9.9344</td>\n",
       "      <td>77.4768</td>\n",
       "      <td>7</td>\n",
       "      <td>NaN</td>\n",
       "      <td>21</td>\n",
       "      <td>NaN</td>\n",
       "      <td>NaN</td>\n",
       "      <td>NaN</td>\n",
       "      <td>NaN</td>\n",
       "      <td>NaN</td>\n",
       "    </tr>\n",
       "  </tbody>\n",
       "</table>\n",
       "<p>907 rows × 13 columns</p>\n",
       "</div>"
      ],
      "text/plain": [
       "     name  gppd_idnr  capacity_mw  latitude  longitude  primary_fuel  \\\n",
       "0       0        657          2.5   28.1839    73.2407             6   \n",
       "1       1        519         98.0   24.7663    74.6090             1   \n",
       "2       2        853         39.2   21.9038    69.3732             7   \n",
       "3       3          0        135.0   23.8712    91.3602             2   \n",
       "4       4          1       1800.0   21.9603    82.4091             1   \n",
       "..    ...        ...          ...       ...        ...           ...   \n",
       "902   902        491       1600.0   16.2949    77.3568             1   \n",
       "903   903        822          3.0   12.8932    78.1654             6   \n",
       "904   904        891         25.5   15.2758    75.5811             7   \n",
       "905   905        539         80.0   24.3500    73.7477             1   \n",
       "906   906        876         16.5    9.9344    77.4768             7   \n",
       "\n",
       "     commissioning_year  source  generation_gwh_2014  generation_gwh_2015  \\\n",
       "0                2011.0     109                  NaN                  NaN   \n",
       "1                   NaN     174                  NaN                  NaN   \n",
       "2                   NaN      21                  NaN                  NaN   \n",
       "3                2004.0      22           617.789264           843.747000   \n",
       "4                2015.0      22          3035.550000          5916.370000   \n",
       "..                  ...     ...                  ...                  ...   \n",
       "902              2016.0      22                  NaN             0.994875   \n",
       "903                 NaN      77                  NaN                  NaN   \n",
       "904                 NaN      21                  NaN                  NaN   \n",
       "905                 NaN      59                  NaN                  NaN   \n",
       "906                 NaN      21                  NaN                  NaN   \n",
       "\n",
       "     generation_gwh_2016  generation_gwh_2017  generation_gwh_2018  \n",
       "0                    NaN                  NaN                  NaN  \n",
       "1                    NaN                  NaN                  NaN  \n",
       "2                    NaN                  NaN                  NaN  \n",
       "3             886.004428           663.774500           626.239128  \n",
       "4            6243.000000          5385.579736          7279.000000  \n",
       "..                   ...                  ...                  ...  \n",
       "902           233.596650           865.400000           686.500000  \n",
       "903                  NaN                  NaN                  NaN  \n",
       "904                  NaN                  NaN                  NaN  \n",
       "905                  NaN                  NaN                  NaN  \n",
       "906                  NaN                  NaN                  NaN  \n",
       "\n",
       "[907 rows x 13 columns]"
      ]
     },
     "execution_count": 30,
     "metadata": {},
     "output_type": "execute_result"
    }
   ],
   "source": [
    "df"
   ]
  },
  {
   "cell_type": "markdown",
   "id": "b7fac1bd",
   "metadata": {},
   "source": [
    "All the object col is label encoded and merged with the dataframe for further treatment."
   ]
  },
  {
   "cell_type": "markdown",
   "id": "1e70ebc8",
   "metadata": {},
   "source": [
    "# Removing Missing Value"
   ]
  },
  {
   "cell_type": "code",
   "execution_count": 31,
   "id": "318311f4",
   "metadata": {},
   "outputs": [
    {
     "data": {
      "text/plain": [
       "name                     0\n",
       "gppd_idnr                0\n",
       "capacity_mw              0\n",
       "latitude                46\n",
       "longitude               46\n",
       "primary_fuel             0\n",
       "commissioning_year     380\n",
       "source                   0\n",
       "generation_gwh_2014    509\n",
       "generation_gwh_2015    485\n",
       "generation_gwh_2016    473\n",
       "generation_gwh_2017    467\n",
       "generation_gwh_2018    459\n",
       "dtype: int64"
      ]
     },
     "execution_count": 31,
     "metadata": {},
     "output_type": "execute_result"
    }
   ],
   "source": [
    "df.isnull().sum()"
   ]
  },
  {
   "cell_type": "markdown",
   "id": "40b819f5",
   "metadata": {},
   "source": [
    "The dataset is not clean and has missing values."
   ]
  },
  {
   "cell_type": "markdown",
   "id": "6568292a",
   "metadata": {},
   "source": [
    "As the data is not normaly distributed in above variables so missing value is replaced by median."
   ]
  },
  {
   "cell_type": "code",
   "execution_count": 32,
   "id": "c0321ecd",
   "metadata": {},
   "outputs": [],
   "source": [
    "df[\"latitude\"] = df[\"latitude\"].fillna(df[\"latitude\"].median())\n",
    "df[\"longitude\"] = df[\"longitude\"].fillna(df[\"longitude\"].median())\n",
    "df[\"commissioning_year\"] = df[\"commissioning_year\"].fillna(df[\"commissioning_year\"].median())\n",
    "df[\"generation_gwh_2014\"] = df[\"generation_gwh_2014\"].fillna(df[\"generation_gwh_2014\"].median())\n",
    "df[\"generation_gwh_2015\"] = df[\"generation_gwh_2015\"].fillna(df[\"generation_gwh_2015\"].median())\n",
    "df[\"generation_gwh_2016\"] = df[\"generation_gwh_2016\"].fillna(df[\"generation_gwh_2016\"].median())\n",
    "df[\"generation_gwh_2017\"] = df[\"generation_gwh_2017\"].fillna(df[\"generation_gwh_2017\"].median())\n",
    "df[\"generation_gwh_2018\"] = df[\"generation_gwh_2018\"].fillna(df[\"generation_gwh_2018\"].median())"
   ]
  },
  {
   "cell_type": "code",
   "execution_count": 33,
   "id": "5d9d07a2",
   "metadata": {},
   "outputs": [
    {
     "data": {
      "text/plain": [
       "name                   0\n",
       "gppd_idnr              0\n",
       "capacity_mw            0\n",
       "latitude               0\n",
       "longitude              0\n",
       "primary_fuel           0\n",
       "commissioning_year     0\n",
       "source                 0\n",
       "generation_gwh_2014    0\n",
       "generation_gwh_2015    0\n",
       "generation_gwh_2016    0\n",
       "generation_gwh_2017    0\n",
       "generation_gwh_2018    0\n",
       "dtype: int64"
      ]
     },
     "execution_count": 33,
     "metadata": {},
     "output_type": "execute_result"
    }
   ],
   "source": [
    "# checking for null values after replacing \n",
    "df.isnull().sum()"
   ]
  },
  {
   "cell_type": "markdown",
   "id": "858b07a8",
   "metadata": {},
   "source": [
    "No missing value seen after treatment"
   ]
  },
  {
   "cell_type": "markdown",
   "id": "2194c0e2",
   "metadata": {},
   "source": [
    "# Skewness Detection:"
   ]
  },
  {
   "cell_type": "code",
   "execution_count": 34,
   "id": "f99f4fe9",
   "metadata": {},
   "outputs": [
    {
     "data": {
      "text/plain": [
       "name                   0.000000\n",
       "gppd_idnr              0.000000\n",
       "capacity_mw            3.123576\n",
       "latitude              -0.164152\n",
       "longitude              1.163320\n",
       "primary_fuel           0.472251\n",
       "commissioning_year    -1.719575\n",
       "source                 1.827373\n",
       "generation_gwh_2014    5.321360\n",
       "generation_gwh_2015    5.566773\n",
       "generation_gwh_2016    5.281953\n",
       "generation_gwh_2017    5.315103\n",
       "generation_gwh_2018    5.133226\n",
       "dtype: float64"
      ]
     },
     "execution_count": 34,
     "metadata": {},
     "output_type": "execute_result"
    }
   ],
   "source": [
    "df.skew()"
   ]
  },
  {
   "cell_type": "code",
   "execution_count": 35,
   "id": "94e0501c",
   "metadata": {},
   "outputs": [
    {
     "data": {
      "text/plain": [
       "array([[<AxesSubplot:title={'center':'name'}>,\n",
       "        <AxesSubplot:title={'center':'gppd_idnr'}>,\n",
       "        <AxesSubplot:title={'center':'capacity_mw'}>,\n",
       "        <AxesSubplot:title={'center':'latitude'}>],\n",
       "       [<AxesSubplot:title={'center':'longitude'}>,\n",
       "        <AxesSubplot:title={'center':'primary_fuel'}>,\n",
       "        <AxesSubplot:title={'center':'commissioning_year'}>,\n",
       "        <AxesSubplot:title={'center':'source'}>],\n",
       "       [<AxesSubplot:title={'center':'generation_gwh_2014'}>,\n",
       "        <AxesSubplot:title={'center':'generation_gwh_2015'}>,\n",
       "        <AxesSubplot:title={'center':'generation_gwh_2016'}>,\n",
       "        <AxesSubplot:title={'center':'generation_gwh_2017'}>],\n",
       "       [<AxesSubplot:title={'center':'generation_gwh_2018'}>,\n",
       "        <AxesSubplot:>, <AxesSubplot:>, <AxesSubplot:>]], dtype=object)"
      ]
     },
     "execution_count": 35,
     "metadata": {},
     "output_type": "execute_result"
    },
    {
     "data": {
      "image/png": "[encoded data removed]",
      "text/plain": [
       "<Figure size 1440x1440 with 16 Axes>"
      ]
     },
     "metadata": {
      "needs_background": "light"
     },
     "output_type": "display_data"
    }
   ],
   "source": [
    "df.hist(grid=False, figsize=(20,20), bins=25)"
   ]
  },
  {
   "cell_type": "markdown",
   "id": "e2e6dee2",
   "metadata": {},
   "source": [
    "- capacity_mw, source has left skewed data and value is high.\n",
    "- From generation_gwh_2014 till generation_gwh_2018 the data is left skewed and shows positive skewness."
   ]
  },
  {
   "cell_type": "code",
   "execution_count": 36,
   "id": "9ab0b0ae",
   "metadata": {},
   "outputs": [
    {
     "data": {
      "image/png": "[encoded data removed]",
      "text/plain": [
       "<Figure size 1440x1800 with 13 Axes>"
      ]
     },
     "metadata": {},
     "output_type": "display_data"
    }
   ],
   "source": [
    "plt.figure(figsize=(20,25), facecolor='white')\n",
    "plotnumber = 1\n",
    "\n",
    "for column in df:\n",
    "    if plotnumber<=18:\n",
    "        ax = plt.subplot(6,3,plotnumber)\n",
    "        sns.distplot(df[column],color='b')\n",
    "        plt.xlabel(column,fontsize=20)\n",
    "    plotnumber+=1\n",
    "plt.show()"
   ]
  },
  {
   "cell_type": "markdown",
   "id": "1bc37f02",
   "metadata": {},
   "source": [
    "# Boxplot for Outliers Detection:"
   ]
  },
  {
   "cell_type": "code",
   "execution_count": 37,
   "id": "8de76120",
   "metadata": {},
   "outputs": [
    {
     "data": {
      "text/plain": [
       "<AxesSubplot:>"
      ]
     },
     "execution_count": 37,
     "metadata": {},
     "output_type": "execute_result"
    },
    {
     "data": {
      "image/png": "[encoded data removed]",
      "text/plain": [
       "<Figure size 1440x720 with 1 Axes>"
      ]
     },
     "metadata": {
      "needs_background": "light"
     },
     "output_type": "display_data"
    }
   ],
   "source": [
    "fig, ax =plt.subplots(figsize=(20,10))\n",
    "sns.boxplot(data=df, width = 0.5,ax=ax, fliersize=2)"
   ]
  },
  {
   "cell_type": "code",
   "execution_count": 38,
   "id": "c7f945bc",
   "metadata": {},
   "outputs": [
    {
     "data": {
      "image/png": "[encoded data removed]",
      "text/plain": [
       "<Figure size 1800x2520 with 13 Axes>"
      ]
     },
     "metadata": {
      "needs_background": "light"
     },
     "output_type": "display_data"
    }
   ],
   "source": [
    "plt.figure(figsize=(25,35))\n",
    "plotnumber = 1\n",
    "\n",
    "for column in df:\n",
    "    if plotnumber<=15:\n",
    "        ax = plt.subplot(5,3,plotnumber)\n",
    "        sns.boxplot(df[column])\n",
    "        plt.xlabel(column,fontsize = 15)\n",
    "    plotnumber+=1\n",
    "plt.show()"
   ]
  },
  {
   "cell_type": "code",
   "execution_count": 39,
   "id": "29f48182",
   "metadata": {},
   "outputs": [
    {
     "data": {
      "text/plain": [
       "<AxesSubplot:>"
      ]
     },
     "execution_count": 39,
     "metadata": {},
     "output_type": "execute_result"
    },
    {
     "data": {
      "image/png": "[encoded data removed]",
      "text/plain": [
       "<Figure size 1800x864 with 1 Axes>"
      ]
     },
     "metadata": {
      "needs_background": "light"
     },
     "output_type": "display_data"
    }
   ],
   "source": [
    "fig, ax =plt.subplots(figsize=(25,12))\n",
    "sns.boxplot(data=df, width = 0.5,ax=ax, fliersize=3)"
   ]
  },
  {
   "cell_type": "markdown",
   "id": "0f5ffe9b",
   "metadata": {},
   "source": [
    "# Correlation between the target variable and independent variable"
   ]
  },
  {
   "cell_type": "code",
   "execution_count": 40,
   "id": "7fdf9ec2",
   "metadata": {},
   "outputs": [
    {
     "data": {
      "text/html": [
       "<div>\n",
       "<style scoped>\n",
       "    .dataframe tbody tr th:only-of-type {\n",
       "        vertical-align: middle;\n",
       "    }\n",
       "\n",
       "    .dataframe tbody tr th {\n",
       "        vertical-align: top;\n",
       "    }\n",
       "\n",
       "    .dataframe thead th {\n",
       "        text-align: right;\n",
       "    }\n",
       "</style>\n",
       "<table border=\"1\" class=\"dataframe\">\n",
       "  <thead>\n",
       "    <tr style=\"text-align: right;\">\n",
       "      <th></th>\n",
       "      <th>name</th>\n",
       "      <th>gppd_idnr</th>\n",
       "      <th>capacity_mw</th>\n",
       "      <th>latitude</th>\n",
       "      <th>longitude</th>\n",
       "      <th>primary_fuel</th>\n",
       "      <th>commissioning_year</th>\n",
       "      <th>source</th>\n",
       "      <th>generation_gwh_2014</th>\n",
       "      <th>generation_gwh_2015</th>\n",
       "      <th>generation_gwh_2016</th>\n",
       "      <th>generation_gwh_2017</th>\n",
       "      <th>generation_gwh_2018</th>\n",
       "    </tr>\n",
       "  </thead>\n",
       "  <tbody>\n",
       "    <tr>\n",
       "      <th>name</th>\n",
       "      <td>1.000000</td>\n",
       "      <td>0.332205</td>\n",
       "      <td>0.060240</td>\n",
       "      <td>-0.134571</td>\n",
       "      <td>0.019222</td>\n",
       "      <td>0.040753</td>\n",
       "      <td>-0.044514</td>\n",
       "      <td>-0.014640</td>\n",
       "      <td>0.082439</td>\n",
       "      <td>0.071257</td>\n",
       "      <td>0.064611</td>\n",
       "      <td>0.068557</td>\n",
       "      <td>0.064724</td>\n",
       "    </tr>\n",
       "    <tr>\n",
       "      <th>gppd_idnr</th>\n",
       "      <td>0.332205</td>\n",
       "      <td>1.000000</td>\n",
       "      <td>-0.335742</td>\n",
       "      <td>-0.105090</td>\n",
       "      <td>-0.378588</td>\n",
       "      <td>0.609180</td>\n",
       "      <td>0.167532</td>\n",
       "      <td>0.416384</td>\n",
       "      <td>-0.162784</td>\n",
       "      <td>-0.177538</td>\n",
       "      <td>-0.188103</td>\n",
       "      <td>-0.185810</td>\n",
       "      <td>-0.195993</td>\n",
       "    </tr>\n",
       "    <tr>\n",
       "      <th>capacity_mw</th>\n",
       "      <td>0.060240</td>\n",
       "      <td>-0.335742</td>\n",
       "      <td>1.000000</td>\n",
       "      <td>0.048790</td>\n",
       "      <td>0.199299</td>\n",
       "      <td>-0.380395</td>\n",
       "      <td>0.211042</td>\n",
       "      <td>-0.242122</td>\n",
       "      <td>0.793497</td>\n",
       "      <td>0.819676</td>\n",
       "      <td>0.853008</td>\n",
       "      <td>0.868338</td>\n",
       "      <td>0.884840</td>\n",
       "    </tr>\n",
       "    <tr>\n",
       "      <th>latitude</th>\n",
       "      <td>-0.134571</td>\n",
       "      <td>-0.105090</td>\n",
       "      <td>0.048790</td>\n",
       "      <td>1.000000</td>\n",
       "      <td>0.035619</td>\n",
       "      <td>-0.007538</td>\n",
       "      <td>0.088098</td>\n",
       "      <td>0.054324</td>\n",
       "      <td>0.057179</td>\n",
       "      <td>0.052422</td>\n",
       "      <td>0.046267</td>\n",
       "      <td>0.056407</td>\n",
       "      <td>0.053700</td>\n",
       "    </tr>\n",
       "    <tr>\n",
       "      <th>longitude</th>\n",
       "      <td>0.019222</td>\n",
       "      <td>-0.378588</td>\n",
       "      <td>0.199299</td>\n",
       "      <td>0.035619</td>\n",
       "      <td>1.000000</td>\n",
       "      <td>-0.352056</td>\n",
       "      <td>0.029583</td>\n",
       "      <td>-0.236623</td>\n",
       "      <td>0.106855</td>\n",
       "      <td>0.123763</td>\n",
       "      <td>0.145640</td>\n",
       "      <td>0.154014</td>\n",
       "      <td>0.157405</td>\n",
       "    </tr>\n",
       "    <tr>\n",
       "      <th>primary_fuel</th>\n",
       "      <td>0.040753</td>\n",
       "      <td>0.609180</td>\n",
       "      <td>-0.380395</td>\n",
       "      <td>-0.007538</td>\n",
       "      <td>-0.352056</td>\n",
       "      <td>1.000000</td>\n",
       "      <td>-0.054885</td>\n",
       "      <td>0.053613</td>\n",
       "      <td>-0.240656</td>\n",
       "      <td>-0.249304</td>\n",
       "      <td>-0.259708</td>\n",
       "      <td>-0.263599</td>\n",
       "      <td>-0.271198</td>\n",
       "    </tr>\n",
       "    <tr>\n",
       "      <th>commissioning_year</th>\n",
       "      <td>-0.044514</td>\n",
       "      <td>0.167532</td>\n",
       "      <td>0.211042</td>\n",
       "      <td>0.088098</td>\n",
       "      <td>0.029583</td>\n",
       "      <td>-0.054885</td>\n",
       "      <td>1.000000</td>\n",
       "      <td>0.100747</td>\n",
       "      <td>0.076971</td>\n",
       "      <td>0.108752</td>\n",
       "      <td>0.140964</td>\n",
       "      <td>0.153554</td>\n",
       "      <td>0.156927</td>\n",
       "    </tr>\n",
       "    <tr>\n",
       "      <th>source</th>\n",
       "      <td>-0.014640</td>\n",
       "      <td>0.416384</td>\n",
       "      <td>-0.242122</td>\n",
       "      <td>0.054324</td>\n",
       "      <td>-0.236623</td>\n",
       "      <td>0.053613</td>\n",
       "      <td>0.100747</td>\n",
       "      <td>1.000000</td>\n",
       "      <td>-0.125854</td>\n",
       "      <td>-0.131123</td>\n",
       "      <td>-0.135018</td>\n",
       "      <td>-0.134934</td>\n",
       "      <td>-0.141216</td>\n",
       "    </tr>\n",
       "    <tr>\n",
       "      <th>generation_gwh_2014</th>\n",
       "      <td>0.082439</td>\n",
       "      <td>-0.162784</td>\n",
       "      <td>0.793497</td>\n",
       "      <td>0.057179</td>\n",
       "      <td>0.106855</td>\n",
       "      <td>-0.240656</td>\n",
       "      <td>0.076971</td>\n",
       "      <td>-0.125854</td>\n",
       "      <td>1.000000</td>\n",
       "      <td>0.963719</td>\n",
       "      <td>0.935067</td>\n",
       "      <td>0.904075</td>\n",
       "      <td>0.895143</td>\n",
       "    </tr>\n",
       "    <tr>\n",
       "      <th>generation_gwh_2015</th>\n",
       "      <td>0.071257</td>\n",
       "      <td>-0.177538</td>\n",
       "      <td>0.819676</td>\n",
       "      <td>0.052422</td>\n",
       "      <td>0.123763</td>\n",
       "      <td>-0.249304</td>\n",
       "      <td>0.108752</td>\n",
       "      <td>-0.131123</td>\n",
       "      <td>0.963719</td>\n",
       "      <td>1.000000</td>\n",
       "      <td>0.973231</td>\n",
       "      <td>0.940229</td>\n",
       "      <td>0.933161</td>\n",
       "    </tr>\n",
       "    <tr>\n",
       "      <th>generation_gwh_2016</th>\n",
       "      <td>0.064611</td>\n",
       "      <td>-0.188103</td>\n",
       "      <td>0.853008</td>\n",
       "      <td>0.046267</td>\n",
       "      <td>0.145640</td>\n",
       "      <td>-0.259708</td>\n",
       "      <td>0.140964</td>\n",
       "      <td>-0.135018</td>\n",
       "      <td>0.935067</td>\n",
       "      <td>0.973231</td>\n",
       "      <td>1.000000</td>\n",
       "      <td>0.973909</td>\n",
       "      <td>0.964988</td>\n",
       "    </tr>\n",
       "    <tr>\n",
       "      <th>generation_gwh_2017</th>\n",
       "      <td>0.068557</td>\n",
       "      <td>-0.185810</td>\n",
       "      <td>0.868338</td>\n",
       "      <td>0.056407</td>\n",
       "      <td>0.154014</td>\n",
       "      <td>-0.263599</td>\n",
       "      <td>0.153554</td>\n",
       "      <td>-0.134934</td>\n",
       "      <td>0.904075</td>\n",
       "      <td>0.940229</td>\n",
       "      <td>0.973909</td>\n",
       "      <td>1.000000</td>\n",
       "      <td>0.986685</td>\n",
       "    </tr>\n",
       "    <tr>\n",
       "      <th>generation_gwh_2018</th>\n",
       "      <td>0.064724</td>\n",
       "      <td>-0.195993</td>\n",
       "      <td>0.884840</td>\n",
       "      <td>0.053700</td>\n",
       "      <td>0.157405</td>\n",
       "      <td>-0.271198</td>\n",
       "      <td>0.156927</td>\n",
       "      <td>-0.141216</td>\n",
       "      <td>0.895143</td>\n",
       "      <td>0.933161</td>\n",
       "      <td>0.964988</td>\n",
       "      <td>0.986685</td>\n",
       "      <td>1.000000</td>\n",
       "    </tr>\n",
       "  </tbody>\n",
       "</table>\n",
       "</div>"
      ],
      "text/plain": [
       "                         name  gppd_idnr  capacity_mw  latitude  longitude  \\\n",
       "name                 1.000000   0.332205     0.060240 -0.134571   0.019222   \n",
       "gppd_idnr            0.332205   1.000000    -0.335742 -0.105090  -0.378588   \n",
       "capacity_mw          0.060240  -0.335742     1.000000  0.048790   0.199299   \n",
       "latitude            -0.134571  -0.105090     0.048790  1.000000   0.035619   \n",
       "longitude            0.019222  -0.378588     0.199299  0.035619   1.000000   \n",
       "primary_fuel         0.040753   0.609180    -0.380395 -0.007538  -0.352056   \n",
       "commissioning_year  -0.044514   0.167532     0.211042  0.088098   0.029583   \n",
       "source              -0.014640   0.416384    -0.242122  0.054324  -0.236623   \n",
       "generation_gwh_2014  0.082439  -0.162784     0.793497  0.057179   0.106855   \n",
       "generation_gwh_2015  0.071257  -0.177538     0.819676  0.052422   0.123763   \n",
       "generation_gwh_2016  0.064611  -0.188103     0.853008  0.046267   0.145640   \n",
       "generation_gwh_2017  0.068557  -0.185810     0.868338  0.056407   0.154014   \n",
       "generation_gwh_2018  0.064724  -0.195993     0.884840  0.053700   0.157405   \n",
       "\n",
       "                     primary_fuel  commissioning_year    source  \\\n",
       "name                     0.040753           -0.044514 -0.014640   \n",
       "gppd_idnr                0.609180            0.167532  0.416384   \n",
       "capacity_mw             -0.380395            0.211042 -0.242122   \n",
       "latitude                -0.007538            0.088098  0.054324   \n",
       "longitude               -0.352056            0.029583 -0.236623   \n",
       "primary_fuel             1.000000           -0.054885  0.053613   \n",
       "commissioning_year      -0.054885            1.000000  0.100747   \n",
       "source                   0.053613            0.100747  1.000000   \n",
       "generation_gwh_2014     -0.240656            0.076971 -0.125854   \n",
       "generation_gwh_2015     -0.249304            0.108752 -0.131123   \n",
       "generation_gwh_2016     -0.259708            0.140964 -0.135018   \n",
       "generation_gwh_2017     -0.263599            0.153554 -0.134934   \n",
       "generation_gwh_2018     -0.271198            0.156927 -0.141216   \n",
       "\n",
       "                     generation_gwh_2014  generation_gwh_2015  \\\n",
       "name                            0.082439             0.071257   \n",
       "gppd_idnr                      -0.162784            -0.177538   \n",
       "capacity_mw                     0.793497             0.819676   \n",
       "latitude                        0.057179             0.052422   \n",
       "longitude                       0.106855             0.123763   \n",
       "primary_fuel                   -0.240656            -0.249304   \n",
       "commissioning_year              0.076971             0.108752   \n",
       "source                         -0.125854            -0.131123   \n",
       "generation_gwh_2014             1.000000             0.963719   \n",
       "generation_gwh_2015             0.963719             1.000000   \n",
       "generation_gwh_2016             0.935067             0.973231   \n",
       "generation_gwh_2017             0.904075             0.940229   \n",
       "generation_gwh_2018             0.895143             0.933161   \n",
       "\n",
       "                     generation_gwh_2016  generation_gwh_2017  \\\n",
       "name                            0.064611             0.068557   \n",
       "gppd_idnr                      -0.188103            -0.185810   \n",
       "capacity_mw                     0.853008             0.868338   \n",
       "latitude                        0.046267             0.056407   \n",
       "longitude                       0.145640             0.154014   \n",
       "primary_fuel                   -0.259708            -0.263599   \n",
       "commissioning_year              0.140964             0.153554   \n",
       "source                         -0.135018            -0.134934   \n",
       "generation_gwh_2014             0.935067             0.904075   \n",
       "generation_gwh_2015             0.973231             0.940229   \n",
       "generation_gwh_2016             1.000000             0.973909   \n",
       "generation_gwh_2017             0.973909             1.000000   \n",
       "generation_gwh_2018             0.964988             0.986685   \n",
       "\n",
       "                     generation_gwh_2018  \n",
       "name                            0.064724  \n",
       "gppd_idnr                      -0.195993  \n",
       "capacity_mw                     0.884840  \n",
       "latitude                        0.053700  \n",
       "longitude                       0.157405  \n",
       "primary_fuel                   -0.271198  \n",
       "commissioning_year              0.156927  \n",
       "source                         -0.141216  \n",
       "generation_gwh_2014             0.895143  \n",
       "generation_gwh_2015             0.933161  \n",
       "generation_gwh_2016             0.964988  \n",
       "generation_gwh_2017             0.986685  \n",
       "generation_gwh_2018             1.000000  "
      ]
     },
     "execution_count": 40,
     "metadata": {},
     "output_type": "execute_result"
    }
   ],
   "source": [
    "# checking the correlation of features and labels\n",
    "df.corr()"
   ]
  },
  {
   "cell_type": "code",
   "execution_count": 41,
   "id": "b9442b18",
   "metadata": {},
   "outputs": [
    {
     "data": {
      "text/plain": [
       "<AxesSubplot:>"
      ]
     },
     "execution_count": 41,
     "metadata": {},
     "output_type": "execute_result"
    },
    {
     "data": {
      "image/png": "[encoded data removed]",
      "text/plain": [
       "<Figure size 1152x648 with 2 Axes>"
      ]
     },
     "metadata": {
      "needs_background": "light"
     },
     "output_type": "display_data"
    }
   ],
   "source": [
    "# Heat Map\n",
    "plt.figure(figsize=(16,9))\n",
    "sns.heatmap(df.corr(),linewidths=0.5,annot = True)"
   ]
  },
  {
   "cell_type": "markdown",
   "id": "a884fd9c",
   "metadata": {},
   "source": [
    "- From generation_gwh_2014 till generation_gwh_2018 shows high +ve corr with each others.\n",
    "- Target col primary fuel has only +ve corr with gppd_idnr and almost -ve corr with others.\n",
    "- capacity_mw shows high +ve corr with generation_gwh_2014 till generation_gwh_2018."
   ]
  },
  {
   "cell_type": "markdown",
   "id": "b5a594e6",
   "metadata": {},
   "source": [
    "# VIF : Multicollinearity Test :"
   ]
  },
  {
   "cell_type": "code",
   "execution_count": 42,
   "id": "2b78ae74",
   "metadata": {},
   "outputs": [],
   "source": [
    "def vif_calc():\n",
    "    vif=pd.DataFrame()\n",
    "    vif[\"VIF Factor\"]=[variance_inflation_factor(df.values,i) for i in range(df.shape[1])]\n",
    "    vif[\"features\"]=df.columns\n",
    "    print(vif)"
   ]
  },
  {
   "cell_type": "code",
   "execution_count": 43,
   "id": "f4acef68",
   "metadata": {},
   "outputs": [
    {
     "name": "stdout",
     "output_type": "stream",
     "text": [
      "    VIF Factor             features\n",
      "0     5.210401                 name\n",
      "1    11.322778            gppd_idnr\n",
      "2     7.472835          capacity_mw\n",
      "3    13.943463             latitude\n",
      "4   328.954995            longitude\n",
      "5     6.125934         primary_fuel\n",
      "6   375.799220   commissioning_year\n",
      "7     2.943953               source\n",
      "8    18.475702  generation_gwh_2014\n",
      "9    43.200622  generation_gwh_2015\n",
      "10   56.250537  generation_gwh_2016\n",
      "11   67.905483  generation_gwh_2017\n",
      "12   56.104117  generation_gwh_2018\n"
     ]
    }
   ],
   "source": [
    "vif_calc()"
   ]
  },
  {
   "cell_type": "markdown",
   "id": "67663ca1",
   "metadata": {},
   "source": [
    "# Z-Score Removing Outliers"
   ]
  },
  {
   "cell_type": "code",
   "execution_count": 44,
   "id": "f1136c8f",
   "metadata": {},
   "outputs": [
    {
     "name": "stdout",
     "output_type": "stream",
     "text": [
      "(array([ 15,  15,  15,  15,  15,  71,  80, 143, 143, 143, 143, 143, 143,\n",
      "       147, 158, 179, 183, 191, 209, 209, 209, 209, 209, 209, 219, 222,\n",
      "       244, 299, 308, 308, 308, 308, 308, 308, 321, 323, 333, 340, 342,\n",
      "       345, 360, 363, 364, 364, 364, 364, 364, 364, 371, 375, 416, 427,\n",
      "       444, 454, 478, 482, 482, 484, 493, 493, 493, 493, 493, 493, 494,\n",
      "       494, 494, 494, 494, 494, 499, 519, 532, 538, 541, 546, 573, 577,\n",
      "       583, 592, 601, 621, 623, 638, 648, 648, 648, 648, 648, 648, 657,\n",
      "       657, 657, 657, 657, 657, 661, 669, 689, 695, 695, 695, 695, 695,\n",
      "       695, 706, 709, 721, 721, 721, 721, 721, 724, 724, 724, 724, 724,\n",
      "       726, 726, 726, 726, 726, 726, 728, 767, 786, 786, 786, 786, 786,\n",
      "       786, 788, 807, 808, 808, 808, 808, 808, 808, 818, 832, 847, 848,\n",
      "       870, 871, 879, 880, 880, 880, 880, 880, 880, 895, 900], dtype=int64), array([ 2,  9, 10, 11, 12,  7,  7,  2,  8,  9, 10, 11, 12,  2,  8,  4,  4,\n",
      "        7,  2,  8,  9, 10, 11, 12,  6,  6,  4,  7,  2,  8,  9, 10, 11, 12,\n",
      "        7,  4,  4,  4,  6,  7,  4,  2,  2,  8,  9, 10, 11, 12,  6,  2,  4,\n",
      "        4,  6,  6,  6,  2, 12,  6,  2,  8,  9, 10, 11, 12,  2,  8,  9, 10,\n",
      "       11, 12,  4,  4,  8,  6,  6,  4,  6,  4,  6,  6,  6,  6,  8,  4,  2,\n",
      "        8,  9, 10, 11, 12,  2,  8,  9, 10, 11, 12,  7,  7,  7,  2,  8,  9,\n",
      "       10, 11, 12,  6,  6,  8,  9, 10, 11, 12,  8,  9, 10, 11, 12,  2,  8,\n",
      "        9, 10, 11, 12,  6,  2,  2,  8,  9, 10, 11, 12,  2,  6,  2,  8,  9,\n",
      "       10, 11, 12,  4,  7,  4,  6,  7,  7,  7,  2,  8,  9, 10, 11, 12,  7,\n",
      "        7], dtype=int64))\n"
     ]
    }
   ],
   "source": [
    "#detecting outliers\n",
    "from scipy.stats import zscore\n",
    "dfzscore=np.abs(zscore(df))\n",
    "print(np.where(dfzscore>3))"
   ]
  },
  {
   "cell_type": "code",
   "execution_count": 45,
   "id": "6b5b83ab",
   "metadata": {},
   "outputs": [
    {
     "name": "stdout",
     "output_type": "stream",
     "text": [
      "dfnew.shape= (831, 13)\n"
     ]
    }
   ],
   "source": [
    "dfnew=df[(dfzscore<3).all(axis=1)]\n",
    "print('dfnew.shape=',dfnew.shape)\n",
    "df=dfnew"
   ]
  },
  {
   "cell_type": "code",
   "execution_count": 46,
   "id": "aadf0173",
   "metadata": {},
   "outputs": [
    {
     "data": {
      "text/plain": [
       "8.259911894273127"
      ]
     },
     "execution_count": 46,
     "metadata": {},
     "output_type": "execute_result"
    }
   ],
   "source": [
    "Data_loss=((908-833)/908)*100\n",
    "Data_loss"
   ]
  },
  {
   "cell_type": "markdown",
   "id": "7e1782c9",
   "metadata": {},
   "source": [
    "- data loss = 8.26 % "
   ]
  },
  {
   "cell_type": "markdown",
   "id": "304b1819",
   "metadata": {},
   "source": [
    "# Dividing Dataset into Independent Variables(x) & Target Variable(y)"
   ]
  },
  {
   "cell_type": "code",
   "execution_count": 47,
   "id": "bbd7f6e4",
   "metadata": {},
   "outputs": [],
   "source": [
    "x=df.drop(\"primary_fuel\",axis=1)\n",
    "y=df[\"primary_fuel\"] "
   ]
  },
  {
   "cell_type": "markdown",
   "id": "46bf14ce",
   "metadata": {},
   "source": [
    "- x-Independent Variables.\n",
    "- y-Target Variable."
   ]
  },
  {
   "cell_type": "code",
   "execution_count": 48,
   "id": "8b1d63c2",
   "metadata": {},
   "outputs": [
    {
     "data": {
      "text/plain": [
       "((831, 12), (831,))"
      ]
     },
     "execution_count": 48,
     "metadata": {},
     "output_type": "execute_result"
    }
   ],
   "source": [
    "x.shape, y.shape"
   ]
  },
  {
   "cell_type": "code",
   "execution_count": 49,
   "id": "6b62eef1",
   "metadata": {},
   "outputs": [
    {
     "data": {
      "text/html": [
       "<div>\n",
       "<style scoped>\n",
       "    .dataframe tbody tr th:only-of-type {\n",
       "        vertical-align: middle;\n",
       "    }\n",
       "\n",
       "    .dataframe tbody tr th {\n",
       "        vertical-align: top;\n",
       "    }\n",
       "\n",
       "    .dataframe thead th {\n",
       "        text-align: right;\n",
       "    }\n",
       "</style>\n",
       "<table border=\"1\" class=\"dataframe\">\n",
       "  <thead>\n",
       "    <tr style=\"text-align: right;\">\n",
       "      <th></th>\n",
       "      <th>name</th>\n",
       "      <th>gppd_idnr</th>\n",
       "      <th>capacity_mw</th>\n",
       "      <th>latitude</th>\n",
       "      <th>longitude</th>\n",
       "      <th>commissioning_year</th>\n",
       "      <th>source</th>\n",
       "      <th>generation_gwh_2014</th>\n",
       "      <th>generation_gwh_2015</th>\n",
       "      <th>generation_gwh_2016</th>\n",
       "      <th>generation_gwh_2017</th>\n",
       "      <th>generation_gwh_2018</th>\n",
       "    </tr>\n",
       "  </thead>\n",
       "  <tbody>\n",
       "    <tr>\n",
       "      <th>0</th>\n",
       "      <td>0</td>\n",
       "      <td>657</td>\n",
       "      <td>2.5</td>\n",
       "      <td>28.1839</td>\n",
       "      <td>73.2407</td>\n",
       "      <td>2011.0</td>\n",
       "      <td>109</td>\n",
       "      <td>801.123775</td>\n",
       "      <td>711.181225</td>\n",
       "      <td>737.205450</td>\n",
       "      <td>817.977250</td>\n",
       "      <td>751.644375</td>\n",
       "    </tr>\n",
       "    <tr>\n",
       "      <th>1</th>\n",
       "      <td>1</td>\n",
       "      <td>519</td>\n",
       "      <td>98.0</td>\n",
       "      <td>24.7663</td>\n",
       "      <td>74.6090</td>\n",
       "      <td>2001.0</td>\n",
       "      <td>174</td>\n",
       "      <td>801.123775</td>\n",
       "      <td>711.181225</td>\n",
       "      <td>737.205450</td>\n",
       "      <td>817.977250</td>\n",
       "      <td>751.644375</td>\n",
       "    </tr>\n",
       "    <tr>\n",
       "      <th>2</th>\n",
       "      <td>2</td>\n",
       "      <td>853</td>\n",
       "      <td>39.2</td>\n",
       "      <td>21.9038</td>\n",
       "      <td>69.3732</td>\n",
       "      <td>2001.0</td>\n",
       "      <td>21</td>\n",
       "      <td>801.123775</td>\n",
       "      <td>711.181225</td>\n",
       "      <td>737.205450</td>\n",
       "      <td>817.977250</td>\n",
       "      <td>751.644375</td>\n",
       "    </tr>\n",
       "    <tr>\n",
       "      <th>3</th>\n",
       "      <td>3</td>\n",
       "      <td>0</td>\n",
       "      <td>135.0</td>\n",
       "      <td>23.8712</td>\n",
       "      <td>91.3602</td>\n",
       "      <td>2004.0</td>\n",
       "      <td>22</td>\n",
       "      <td>617.789264</td>\n",
       "      <td>843.747000</td>\n",
       "      <td>886.004428</td>\n",
       "      <td>663.774500</td>\n",
       "      <td>626.239128</td>\n",
       "    </tr>\n",
       "    <tr>\n",
       "      <th>4</th>\n",
       "      <td>4</td>\n",
       "      <td>1</td>\n",
       "      <td>1800.0</td>\n",
       "      <td>21.9603</td>\n",
       "      <td>82.4091</td>\n",
       "      <td>2015.0</td>\n",
       "      <td>22</td>\n",
       "      <td>3035.550000</td>\n",
       "      <td>5916.370000</td>\n",
       "      <td>6243.000000</td>\n",
       "      <td>5385.579736</td>\n",
       "      <td>7279.000000</td>\n",
       "    </tr>\n",
       "  </tbody>\n",
       "</table>\n",
       "</div>"
      ],
      "text/plain": [
       "   name  gppd_idnr  capacity_mw  latitude  longitude  commissioning_year  \\\n",
       "0     0        657          2.5   28.1839    73.2407              2011.0   \n",
       "1     1        519         98.0   24.7663    74.6090              2001.0   \n",
       "2     2        853         39.2   21.9038    69.3732              2001.0   \n",
       "3     3          0        135.0   23.8712    91.3602              2004.0   \n",
       "4     4          1       1800.0   21.9603    82.4091              2015.0   \n",
       "\n",
       "   source  generation_gwh_2014  generation_gwh_2015  generation_gwh_2016  \\\n",
       "0     109           801.123775           711.181225           737.205450   \n",
       "1     174           801.123775           711.181225           737.205450   \n",
       "2      21           801.123775           711.181225           737.205450   \n",
       "3      22           617.789264           843.747000           886.004428   \n",
       "4      22          3035.550000          5916.370000          6243.000000   \n",
       "\n",
       "   generation_gwh_2017  generation_gwh_2018  \n",
       "0           817.977250           751.644375  \n",
       "1           817.977250           751.644375  \n",
       "2           817.977250           751.644375  \n",
       "3           663.774500           626.239128  \n",
       "4          5385.579736          7279.000000  "
      ]
     },
     "execution_count": 49,
     "metadata": {},
     "output_type": "execute_result"
    }
   ],
   "source": [
    "x.head()"
   ]
  },
  {
   "cell_type": "code",
   "execution_count": 50,
   "id": "30aed743",
   "metadata": {},
   "outputs": [
    {
     "data": {
      "text/plain": [
       "0    6\n",
       "1    1\n",
       "2    7\n",
       "3    2\n",
       "4    1\n",
       "Name: primary_fuel, dtype: int32"
      ]
     },
     "execution_count": 50,
     "metadata": {},
     "output_type": "execute_result"
    }
   ],
   "source": [
    "y.head()"
   ]
  },
  {
   "cell_type": "code",
   "execution_count": null,
   "id": "8ebfecef",
   "metadata": {},
   "outputs": [],
   "source": []
  },
  {
   "cell_type": "markdown",
   "id": "78b8afeb",
   "metadata": {},
   "source": [
    "# Removing Skewness from Independent Variables x"
   ]
  },
  {
   "cell_type": "code",
   "execution_count": 51,
   "id": "ada37c57",
   "metadata": {},
   "outputs": [
    {
     "data": {
      "text/plain": [
       "name                   0.024654\n",
       "gppd_idnr             -0.057949\n",
       "capacity_mw            1.965300\n",
       "latitude              -0.134941\n",
       "longitude              0.938420\n",
       "primary_fuel           0.407590\n",
       "commissioning_year    -1.271016\n",
       "source                 1.778820\n",
       "generation_gwh_2014    2.926464\n",
       "generation_gwh_2015    2.726846\n",
       "generation_gwh_2016    2.666192\n",
       "generation_gwh_2017    2.565658\n",
       "generation_gwh_2018    2.630570\n",
       "dtype: float64"
      ]
     },
     "execution_count": 51,
     "metadata": {},
     "output_type": "execute_result"
    }
   ],
   "source": [
    "df.skew()"
   ]
  },
  {
   "cell_type": "code",
   "execution_count": 52,
   "id": "7688f46a",
   "metadata": {},
   "outputs": [
    {
     "data": {
      "text/plain": [
       "name                   0.024654\n",
       "gppd_idnr             -0.057949\n",
       "capacity_mw            1.965300\n",
       "latitude              -0.134941\n",
       "longitude              0.938420\n",
       "primary_fuel           0.407590\n",
       "commissioning_year    -1.271016\n",
       "source                 1.778820\n",
       "generation_gwh_2014    1.474047\n",
       "generation_gwh_2015    2.726846\n",
       "generation_gwh_2016    2.666192\n",
       "generation_gwh_2017    2.565658\n",
       "generation_gwh_2018    2.630570\n",
       "dtype: float64"
      ]
     },
     "execution_count": 52,
     "metadata": {},
     "output_type": "execute_result"
    },
    {
     "data": {
      "image/png": "[encoded data removed]",
      "text/plain": [
       "<Figure size 432x288 with 1 Axes>"
      ]
     },
     "metadata": {
      "needs_background": "light"
     },
     "output_type": "display_data"
    }
   ],
   "source": [
    "import numpy as np\n",
    "sns.distplot(df['generation_gwh_2014'])\n",
    "df['generation_gwh_2014']=np.sqrt(df['generation_gwh_2014'])\n",
    "sns.distplot(df['generation_gwh_2014'])\n",
    "df.skew()\n",
    "#Orange Spike shows skewness & blue curve shows skewness reduced for variable."
   ]
  },
  {
   "cell_type": "code",
   "execution_count": 53,
   "id": "7b74b46e",
   "metadata": {},
   "outputs": [
    {
     "data": {
      "text/plain": [
       "name                   0.024654\n",
       "gppd_idnr             -0.057949\n",
       "capacity_mw            1.965300\n",
       "latitude              -0.134941\n",
       "longitude              0.938420\n",
       "primary_fuel           0.407590\n",
       "commissioning_year    -1.271016\n",
       "source                 1.778820\n",
       "generation_gwh_2014   -0.643808\n",
       "generation_gwh_2015    2.726846\n",
       "generation_gwh_2016    2.666192\n",
       "generation_gwh_2017    2.565658\n",
       "generation_gwh_2018    2.630570\n",
       "dtype: float64"
      ]
     },
     "execution_count": 53,
     "metadata": {},
     "output_type": "execute_result"
    },
    {
     "data": {
      "image/png": "[encoded data removed]",
      "text/plain": [
       "<Figure size 432x288 with 1 Axes>"
      ]
     },
     "metadata": {
      "needs_background": "light"
     },
     "output_type": "display_data"
    }
   ],
   "source": [
    "import numpy as np\n",
    "sns.distplot(df['generation_gwh_2014'])\n",
    "df['generation_gwh_2014']=np.sqrt(df['generation_gwh_2014'])\n",
    "sns.distplot(df['generation_gwh_2014'])\n",
    "df.skew()"
   ]
  },
  {
   "cell_type": "code",
   "execution_count": 54,
   "id": "0fcbdbc3",
   "metadata": {},
   "outputs": [
    {
     "data": {
      "text/plain": [
       "name                   0.024654\n",
       "gppd_idnr             -0.057949\n",
       "capacity_mw            1.965300\n",
       "latitude              -0.134941\n",
       "longitude              0.938420\n",
       "primary_fuel           0.407590\n",
       "commissioning_year    -1.271016\n",
       "source                 1.778820\n",
       "generation_gwh_2014   -0.643808\n",
       "generation_gwh_2015    1.448679\n",
       "generation_gwh_2016    2.666192\n",
       "generation_gwh_2017    2.565658\n",
       "generation_gwh_2018    2.630570\n",
       "dtype: float64"
      ]
     },
     "execution_count": 54,
     "metadata": {},
     "output_type": "execute_result"
    },
    {
     "data": {
      "image/png": "[encoded data removed]",
      "text/plain": [
       "<Figure size 432x288 with 1 Axes>"
      ]
     },
     "metadata": {
      "needs_background": "light"
     },
     "output_type": "display_data"
    }
   ],
   "source": [
    "import numpy as np\n",
    "sns.distplot(df['generation_gwh_2015'])\n",
    "df['generation_gwh_2015']=np.sqrt(df['generation_gwh_2015'])\n",
    "sns.distplot(df['generation_gwh_2015'])\n",
    "df.skew()\n",
    "#Orange Spike shows skewness & blue curve shows skewness reduced for variable."
   ]
  },
  {
   "cell_type": "code",
   "execution_count": 55,
   "id": "4a636bc1",
   "metadata": {},
   "outputs": [
    {
     "data": {
      "text/plain": [
       "name                   0.024654\n",
       "gppd_idnr             -0.057949\n",
       "capacity_mw            1.965300\n",
       "latitude              -0.134941\n",
       "longitude              0.938420\n",
       "primary_fuel           0.407590\n",
       "commissioning_year    -1.271016\n",
       "source                 1.778820\n",
       "generation_gwh_2014   -0.643808\n",
       "generation_gwh_2015   -0.393281\n",
       "generation_gwh_2016    2.666192\n",
       "generation_gwh_2017    2.565658\n",
       "generation_gwh_2018    2.630570\n",
       "dtype: float64"
      ]
     },
     "execution_count": 55,
     "metadata": {},
     "output_type": "execute_result"
    },
    {
     "data": {
      "image/png": "[encoded data removed]",
      "text/plain": [
       "<Figure size 432x288 with 1 Axes>"
      ]
     },
     "metadata": {
      "needs_background": "light"
     },
     "output_type": "display_data"
    }
   ],
   "source": [
    "import numpy as np\n",
    "sns.distplot(df['generation_gwh_2015'])\n",
    "df['generation_gwh_2015']=np.sqrt(df['generation_gwh_2015'])\n",
    "sns.distplot(df['generation_gwh_2015'])\n",
    "df.skew()\n",
    "#Orange Spike shows skewness & blue curve shows skewness reduced for variable."
   ]
  },
  {
   "cell_type": "code",
   "execution_count": 56,
   "id": "2fd7d3e2",
   "metadata": {},
   "outputs": [
    {
     "data": {
      "text/plain": [
       "name                   0.024654\n",
       "gppd_idnr             -0.057949\n",
       "capacity_mw            1.965300\n",
       "latitude              -0.134941\n",
       "longitude              0.938420\n",
       "primary_fuel           0.407590\n",
       "commissioning_year    -1.271016\n",
       "source                 1.778820\n",
       "generation_gwh_2014   -0.643808\n",
       "generation_gwh_2015   -0.393281\n",
       "generation_gwh_2016    1.401111\n",
       "generation_gwh_2017    2.565658\n",
       "generation_gwh_2018    2.630570\n",
       "dtype: float64"
      ]
     },
     "execution_count": 56,
     "metadata": {},
     "output_type": "execute_result"
    },
    {
     "data": {
      "image/png": "[encoded data removed]",
      "text/plain": [
       "<Figure size 432x288 with 1 Axes>"
      ]
     },
     "metadata": {
      "needs_background": "light"
     },
     "output_type": "display_data"
    }
   ],
   "source": [
    "import numpy as np\n",
    "sns.distplot(df['generation_gwh_2016'])\n",
    "df['generation_gwh_2016']=np.sqrt(df['generation_gwh_2016'])\n",
    "sns.distplot(df['generation_gwh_2016'])\n",
    "df.skew()\n",
    "#Orange Spike shows skewness & blue curve shows skewness reduced for variable."
   ]
  },
  {
   "cell_type": "code",
   "execution_count": 57,
   "id": "c0ef55de",
   "metadata": {},
   "outputs": [
    {
     "data": {
      "text/plain": [
       "name                   0.024654\n",
       "gppd_idnr             -0.057949\n",
       "capacity_mw            1.965300\n",
       "latitude              -0.134941\n",
       "longitude              0.938420\n",
       "primary_fuel           0.407590\n",
       "commissioning_year    -1.271016\n",
       "source                 1.778820\n",
       "generation_gwh_2014   -0.643808\n",
       "generation_gwh_2015   -0.393281\n",
       "generation_gwh_2016   -0.409823\n",
       "generation_gwh_2017    2.565658\n",
       "generation_gwh_2018    2.630570\n",
       "dtype: float64"
      ]
     },
     "execution_count": 57,
     "metadata": {},
     "output_type": "execute_result"
    },
    {
     "data": {
      "image/png": "[encoded data removed]",
      "text/plain": [
       "<Figure size 432x288 with 1 Axes>"
      ]
     },
     "metadata": {
      "needs_background": "light"
     },
     "output_type": "display_data"
    }
   ],
   "source": [
    "import numpy as np\n",
    "sns.distplot(df['generation_gwh_2016'])\n",
    "df['generation_gwh_2016']=np.sqrt(df['generation_gwh_2016'])\n",
    "sns.distplot(df['generation_gwh_2016'])\n",
    "df.skew()\n",
    "#Orange Spike shows skewness & blue curve shows skewness reduced for variable."
   ]
  },
  {
   "cell_type": "code",
   "execution_count": 58,
   "id": "7c0e3238",
   "metadata": {},
   "outputs": [
    {
     "data": {
      "text/plain": [
       "name                   0.024654\n",
       "gppd_idnr             -0.057949\n",
       "capacity_mw            1.965300\n",
       "latitude              -0.134941\n",
       "longitude              0.938420\n",
       "primary_fuel           0.407590\n",
       "commissioning_year    -1.271016\n",
       "source                 1.778820\n",
       "generation_gwh_2014   -0.643808\n",
       "generation_gwh_2015   -0.393281\n",
       "generation_gwh_2016   -0.409823\n",
       "generation_gwh_2017    1.277038\n",
       "generation_gwh_2018    2.630570\n",
       "dtype: float64"
      ]
     },
     "execution_count": 58,
     "metadata": {},
     "output_type": "execute_result"
    },
    {
     "data": {
      "image/png": "[encoded data removed]",
      "text/plain": [
       "<Figure size 432x288 with 1 Axes>"
      ]
     },
     "metadata": {
      "needs_background": "light"
     },
     "output_type": "display_data"
    }
   ],
   "source": [
    "import numpy as np\n",
    "sns.distplot(df['generation_gwh_2017'])\n",
    "df['generation_gwh_2017']=np.sqrt(df['generation_gwh_2017'])\n",
    "sns.distplot(df['generation_gwh_2017'])\n",
    "df.skew()\n",
    "#Orange Spike shows skewness & blue curve shows skewness reduced for variable."
   ]
  },
  {
   "cell_type": "code",
   "execution_count": 59,
   "id": "a9f390eb",
   "metadata": {},
   "outputs": [
    {
     "data": {
      "text/plain": [
       "name                   0.024654\n",
       "gppd_idnr             -0.057949\n",
       "capacity_mw            1.965300\n",
       "latitude              -0.134941\n",
       "longitude              0.938420\n",
       "primary_fuel           0.407590\n",
       "commissioning_year    -1.271016\n",
       "source                 1.778820\n",
       "generation_gwh_2014   -0.643808\n",
       "generation_gwh_2015   -0.393281\n",
       "generation_gwh_2016   -0.409823\n",
       "generation_gwh_2017   -0.534227\n",
       "generation_gwh_2018    2.630570\n",
       "dtype: float64"
      ]
     },
     "execution_count": 59,
     "metadata": {},
     "output_type": "execute_result"
    },
    {
     "data": {
      "image/png": "[encoded data removed]",
      "text/plain": [
       "<Figure size 432x288 with 1 Axes>"
      ]
     },
     "metadata": {
      "needs_background": "light"
     },
     "output_type": "display_data"
    }
   ],
   "source": [
    "import numpy as np\n",
    "sns.distplot(df['generation_gwh_2017'])\n",
    "df['generation_gwh_2017']=np.sqrt(df['generation_gwh_2017'])\n",
    "sns.distplot(df['generation_gwh_2017'])\n",
    "df.skew()\n",
    "#Orange Spike shows skewness & blue curve shows skewness reduced for variable."
   ]
  },
  {
   "cell_type": "code",
   "execution_count": 60,
   "id": "760fd371",
   "metadata": {},
   "outputs": [
    {
     "data": {
      "text/plain": [
       "name                   0.024654\n",
       "gppd_idnr             -0.057949\n",
       "capacity_mw            1.965300\n",
       "latitude              -0.134941\n",
       "longitude              0.938420\n",
       "primary_fuel           0.407590\n",
       "commissioning_year    -1.271016\n",
       "source                 1.778820\n",
       "generation_gwh_2014   -0.643808\n",
       "generation_gwh_2015   -0.393281\n",
       "generation_gwh_2016   -0.409823\n",
       "generation_gwh_2017   -0.534227\n",
       "generation_gwh_2018    1.371731\n",
       "dtype: float64"
      ]
     },
     "execution_count": 60,
     "metadata": {},
     "output_type": "execute_result"
    },
    {
     "data": {
      "image/png": "[encoded data removed]",
      "text/plain": [
       "<Figure size 432x288 with 1 Axes>"
      ]
     },
     "metadata": {
      "needs_background": "light"
     },
     "output_type": "display_data"
    }
   ],
   "source": [
    "import numpy as np\n",
    "sns.distplot(df['generation_gwh_2018'])\n",
    "df['generation_gwh_2018']=np.sqrt(df['generation_gwh_2018'])\n",
    "sns.distplot(df['generation_gwh_2018'])\n",
    "df.skew()\n",
    "#Orange Spike shows skewness & blue curve shows skewness reduced for variable."
   ]
  },
  {
   "cell_type": "code",
   "execution_count": 61,
   "id": "3897d7d4",
   "metadata": {},
   "outputs": [
    {
     "data": {
      "text/plain": [
       "name                   0.024654\n",
       "gppd_idnr             -0.057949\n",
       "capacity_mw            1.965300\n",
       "latitude              -0.134941\n",
       "longitude              0.938420\n",
       "primary_fuel           0.407590\n",
       "commissioning_year    -1.271016\n",
       "source                 1.778820\n",
       "generation_gwh_2014   -0.643808\n",
       "generation_gwh_2015   -0.393281\n",
       "generation_gwh_2016   -0.409823\n",
       "generation_gwh_2017   -0.534227\n",
       "generation_gwh_2018   -0.493030\n",
       "dtype: float64"
      ]
     },
     "execution_count": 61,
     "metadata": {},
     "output_type": "execute_result"
    },
    {
     "data": {
      "image/png": "[encoded data removed]",
      "text/plain": [
       "<Figure size 432x288 with 1 Axes>"
      ]
     },
     "metadata": {
      "needs_background": "light"
     },
     "output_type": "display_data"
    }
   ],
   "source": [
    "import numpy as np\n",
    "sns.distplot(df['generation_gwh_2018'])\n",
    "df['generation_gwh_2018']=np.sqrt(df['generation_gwh_2018'])\n",
    "sns.distplot(df['generation_gwh_2018'])\n",
    "df.skew()\n",
    "#Orange Spike shows skewness & blue curve shows skewness reduced for variable."
   ]
  },
  {
   "cell_type": "code",
   "execution_count": 62,
   "id": "989da645",
   "metadata": {},
   "outputs": [
    {
     "data": {
      "text/plain": [
       "name                   0.024654\n",
       "gppd_idnr             -0.057949\n",
       "capacity_mw            1.145649\n",
       "latitude              -0.134941\n",
       "longitude              0.938420\n",
       "primary_fuel           0.407590\n",
       "commissioning_year    -1.271016\n",
       "source                 1.778820\n",
       "generation_gwh_2014   -0.643808\n",
       "generation_gwh_2015   -0.393281\n",
       "generation_gwh_2016   -0.409823\n",
       "generation_gwh_2017   -0.534227\n",
       "generation_gwh_2018   -0.493030\n",
       "dtype: float64"
      ]
     },
     "execution_count": 62,
     "metadata": {},
     "output_type": "execute_result"
    },
    {
     "data": {
      "image/png": "[encoded data removed]",
      "text/plain": [
       "<Figure size 432x288 with 1 Axes>"
      ]
     },
     "metadata": {
      "needs_background": "light"
     },
     "output_type": "display_data"
    }
   ],
   "source": [
    "import numpy as np\n",
    "sns.distplot(df['capacity_mw'])\n",
    "df['capacity_mw']=np.sqrt(df['capacity_mw'])\n",
    "sns.distplot(df['capacity_mw'])\n",
    "df.skew()"
   ]
  },
  {
   "cell_type": "code",
   "execution_count": 63,
   "id": "7c810764",
   "metadata": {},
   "outputs": [
    {
     "data": {
      "text/plain": [
       "name                   0.024654\n",
       "gppd_idnr             -0.057949\n",
       "capacity_mw            0.622621\n",
       "latitude              -0.134941\n",
       "longitude              0.938420\n",
       "primary_fuel           0.407590\n",
       "commissioning_year    -1.271016\n",
       "source                 1.778820\n",
       "generation_gwh_2014   -0.643808\n",
       "generation_gwh_2015   -0.393281\n",
       "generation_gwh_2016   -0.409823\n",
       "generation_gwh_2017   -0.534227\n",
       "generation_gwh_2018   -0.493030\n",
       "dtype: float64"
      ]
     },
     "execution_count": 63,
     "metadata": {},
     "output_type": "execute_result"
    },
    {
     "data": {
      "image/png": "[encoded data removed]",
      "text/plain": [
       "<Figure size 432x288 with 1 Axes>"
      ]
     },
     "metadata": {
      "needs_background": "light"
     },
     "output_type": "display_data"
    }
   ],
   "source": [
    "import numpy as np\n",
    "sns.distplot(df['capacity_mw'])\n",
    "df['capacity_mw']=np.sqrt(df['capacity_mw'])\n",
    "sns.distplot(df['capacity_mw'])\n",
    "df.skew()"
   ]
  },
  {
   "cell_type": "markdown",
   "id": "d9f357cd",
   "metadata": {},
   "source": [
    "# Standardization"
   ]
  },
  {
   "cell_type": "code",
   "execution_count": 64,
   "id": "ddec203b",
   "metadata": {},
   "outputs": [
    {
     "data": {
      "text/plain": [
       "array([[-1.69709702,  0.73853681, -0.63500554, ..., -0.30935333,\n",
       "        -0.30156921, -0.31891342],\n",
       "       [-1.69329859,  0.21874766, -0.40847886, ..., -0.30935333,\n",
       "        -0.30156921, -0.31891342],\n",
       "       [-1.68950016,  1.47678806, -0.54795288, ..., -0.30935333,\n",
       "        -0.30156921, -0.31891342],\n",
       "       ...,\n",
       "       [ 1.73668111,  1.61991841, -0.58044938, ..., -0.30935333,\n",
       "        -0.30156921, -0.31891342],\n",
       "       [ 1.74047954,  0.29407942, -0.45117499, ..., -0.30935333,\n",
       "        -0.30156921, -0.31891342],\n",
       "       [ 1.74427796,  1.56341958, -0.60179744, ..., -0.30935333,\n",
       "        -0.30156921, -0.31891342]])"
      ]
     },
     "execution_count": 64,
     "metadata": {},
     "output_type": "execute_result"
    }
   ],
   "source": [
    "scaling = StandardScaler()\n",
    "x=scaling.fit_transform(x)\n",
    "x"
   ]
  },
  {
   "cell_type": "markdown",
   "id": "c9450bed",
   "metadata": {},
   "source": [
    "- Making the data in same range with standard scaler.\n",
    "- Also data should be scaled before PCA."
   ]
  },
  {
   "cell_type": "markdown",
   "id": "49bd9d62",
   "metadata": {},
   "source": [
    "# PCA:Dimension reduction"
   ]
  },
  {
   "cell_type": "code",
   "execution_count": 65,
   "id": "e621d49b",
   "metadata": {},
   "outputs": [
    {
     "data": {
      "image/png": "[encoded data removed]",
      "text/plain": [
       "<Figure size 432x288 with 1 Axes>"
      ]
     },
     "metadata": {
      "needs_background": "light"
     },
     "output_type": "display_data"
    }
   ],
   "source": [
    "from sklearn.decomposition import PCA # Importing PCA from decomposition module.\n",
    "pca = PCA(n_components=10) # setting 10 pca components\n",
    "x = pca.fit_transform(x) # applying pca on x-independent variables.\n",
    "import matplotlib.pyplot as plt\n",
    "import seaborn as sna\n",
    "pca = PCA()\n",
    "principalComponents = pca.fit_transform(x)\n",
    "plt.figure()\n",
    "plt.plot(np.cumsum(pca.explained_variance_ratio_))\n",
    "plt.xlabel('Number of Components')\n",
    "plt.ylabel('Variance (%)')\n",
    "plt.title('Explained Variance')\n",
    "plt.show()"
   ]
  },
  {
   "cell_type": "markdown",
   "id": "16c2aab0",
   "metadata": {},
   "source": [
    "As we can see 8 PCA component clearly explains the presence of variance with these PCA."
   ]
  },
  {
   "cell_type": "code",
   "execution_count": 66,
   "id": "5577f1ed",
   "metadata": {},
   "outputs": [
    {
     "data": {
      "text/html": [
       "<div>\n",
       "<style scoped>\n",
       "    .dataframe tbody tr th:only-of-type {\n",
       "        vertical-align: middle;\n",
       "    }\n",
       "\n",
       "    .dataframe tbody tr th {\n",
       "        vertical-align: top;\n",
       "    }\n",
       "\n",
       "    .dataframe thead th {\n",
       "        text-align: right;\n",
       "    }\n",
       "</style>\n",
       "<table border=\"1\" class=\"dataframe\">\n",
       "  <thead>\n",
       "    <tr style=\"text-align: right;\">\n",
       "      <th></th>\n",
       "      <th>PC-1</th>\n",
       "      <th>PC-2</th>\n",
       "      <th>PC-3</th>\n",
       "      <th>PC-4</th>\n",
       "      <th>PC-5</th>\n",
       "      <th>PC-6</th>\n",
       "      <th>PC-7</th>\n",
       "      <th>PC-8</th>\n",
       "    </tr>\n",
       "  </thead>\n",
       "  <tbody>\n",
       "    <tr>\n",
       "      <th>0</th>\n",
       "      <td>-1.127877</td>\n",
       "      <td>-1.142901</td>\n",
       "      <td>-2.622986</td>\n",
       "      <td>0.025685</td>\n",
       "      <td>-0.561996</td>\n",
       "      <td>0.060846</td>\n",
       "      <td>-0.287248</td>\n",
       "      <td>-0.051589</td>\n",
       "    </tr>\n",
       "    <tr>\n",
       "      <th>1</th>\n",
       "      <td>-1.191016</td>\n",
       "      <td>-1.192124</td>\n",
       "      <td>-2.525866</td>\n",
       "      <td>0.683772</td>\n",
       "      <td>-1.102011</td>\n",
       "      <td>1.637592</td>\n",
       "      <td>0.500682</td>\n",
       "      <td>0.149613</td>\n",
       "    </tr>\n",
       "    <tr>\n",
       "      <th>2</th>\n",
       "      <td>-1.209531</td>\n",
       "      <td>-0.796791</td>\n",
       "      <td>-1.053065</td>\n",
       "      <td>0.912598</td>\n",
       "      <td>-0.834311</td>\n",
       "      <td>-1.677462</td>\n",
       "      <td>-0.959000</td>\n",
       "      <td>-0.769521</td>\n",
       "    </tr>\n",
       "    <tr>\n",
       "      <th>3</th>\n",
       "      <td>0.012692</td>\n",
       "      <td>3.293162</td>\n",
       "      <td>-1.065969</td>\n",
       "      <td>-1.617439</td>\n",
       "      <td>-0.270686</td>\n",
       "      <td>1.575474</td>\n",
       "      <td>-0.979432</td>\n",
       "      <td>0.063173</td>\n",
       "    </tr>\n",
       "    <tr>\n",
       "      <th>4</th>\n",
       "      <td>7.312323</td>\n",
       "      <td>0.949778</td>\n",
       "      <td>-1.372634</td>\n",
       "      <td>-0.713079</td>\n",
       "      <td>-1.377701</td>\n",
       "      <td>-0.021760</td>\n",
       "      <td>0.636878</td>\n",
       "      <td>-0.624641</td>\n",
       "    </tr>\n",
       "    <tr>\n",
       "      <th>...</th>\n",
       "      <td>...</td>\n",
       "      <td>...</td>\n",
       "      <td>...</td>\n",
       "      <td>...</td>\n",
       "      <td>...</td>\n",
       "      <td>...</td>\n",
       "      <td>...</td>\n",
       "      <td>...</td>\n",
       "    </tr>\n",
       "    <tr>\n",
       "      <th>826</th>\n",
       "      <td>0.418742</td>\n",
       "      <td>-0.243659</td>\n",
       "      <td>1.368881</td>\n",
       "      <td>-2.141001</td>\n",
       "      <td>0.162862</td>\n",
       "      <td>-0.997931</td>\n",
       "      <td>2.051947</td>\n",
       "      <td>0.512282</td>\n",
       "    </tr>\n",
       "    <tr>\n",
       "      <th>827</th>\n",
       "      <td>-1.138211</td>\n",
       "      <td>-1.602431</td>\n",
       "      <td>1.791078</td>\n",
       "      <td>-0.718923</td>\n",
       "      <td>-0.151439</td>\n",
       "      <td>0.791191</td>\n",
       "      <td>-0.051985</td>\n",
       "      <td>0.074933</td>\n",
       "    </tr>\n",
       "    <tr>\n",
       "      <th>828</th>\n",
       "      <td>-1.072102</td>\n",
       "      <td>-1.381996</td>\n",
       "      <td>1.940207</td>\n",
       "      <td>-0.539904</td>\n",
       "      <td>0.357097</td>\n",
       "      <td>-0.537726</td>\n",
       "      <td>-0.406645</td>\n",
       "      <td>-0.208160</td>\n",
       "    </tr>\n",
       "    <tr>\n",
       "      <th>829</th>\n",
       "      <td>-0.909283</td>\n",
       "      <td>-1.124559</td>\n",
       "      <td>0.512248</td>\n",
       "      <td>-0.120162</td>\n",
       "      <td>1.237611</td>\n",
       "      <td>-0.175665</td>\n",
       "      <td>0.684716</td>\n",
       "      <td>0.427478</td>\n",
       "    </tr>\n",
       "    <tr>\n",
       "      <th>830</th>\n",
       "      <td>-1.049331</td>\n",
       "      <td>-1.180242</td>\n",
       "      <td>2.538599</td>\n",
       "      <td>-0.772978</td>\n",
       "      <td>-0.272681</td>\n",
       "      <td>-0.228130</td>\n",
       "      <td>-0.504601</td>\n",
       "      <td>-0.159498</td>\n",
       "    </tr>\n",
       "  </tbody>\n",
       "</table>\n",
       "<p>831 rows × 8 columns</p>\n",
       "</div>"
      ],
      "text/plain": [
       "         PC-1      PC-2      PC-3      PC-4      PC-5      PC-6      PC-7  \\\n",
       "0   -1.127877 -1.142901 -2.622986  0.025685 -0.561996  0.060846 -0.287248   \n",
       "1   -1.191016 -1.192124 -2.525866  0.683772 -1.102011  1.637592  0.500682   \n",
       "2   -1.209531 -0.796791 -1.053065  0.912598 -0.834311 -1.677462 -0.959000   \n",
       "3    0.012692  3.293162 -1.065969 -1.617439 -0.270686  1.575474 -0.979432   \n",
       "4    7.312323  0.949778 -1.372634 -0.713079 -1.377701 -0.021760  0.636878   \n",
       "..        ...       ...       ...       ...       ...       ...       ...   \n",
       "826  0.418742 -0.243659  1.368881 -2.141001  0.162862 -0.997931  2.051947   \n",
       "827 -1.138211 -1.602431  1.791078 -0.718923 -0.151439  0.791191 -0.051985   \n",
       "828 -1.072102 -1.381996  1.940207 -0.539904  0.357097 -0.537726 -0.406645   \n",
       "829 -0.909283 -1.124559  0.512248 -0.120162  1.237611 -0.175665  0.684716   \n",
       "830 -1.049331 -1.180242  2.538599 -0.772978 -0.272681 -0.228130 -0.504601   \n",
       "\n",
       "         PC-8  \n",
       "0   -0.051589  \n",
       "1    0.149613  \n",
       "2   -0.769521  \n",
       "3    0.063173  \n",
       "4   -0.624641  \n",
       "..        ...  \n",
       "826  0.512282  \n",
       "827  0.074933  \n",
       "828 -0.208160  \n",
       "829  0.427478  \n",
       "830 -0.159498  \n",
       "\n",
       "[831 rows x 8 columns]"
      ]
     },
     "execution_count": 66,
     "metadata": {},
     "output_type": "execute_result"
    }
   ],
   "source": [
    "pca = PCA(n_components=8)\n",
    "new_data = pca.fit_transform(x)\n",
    "principal_x = pd.DataFrame(new_data,columns = ['PC-1','PC-2','PC-3','PC-4','PC-5','PC-6','PC-7','PC-8'])\n",
    "principal_x"
   ]
  },
  {
   "cell_type": "markdown",
   "id": "ce43e4ac",
   "metadata": {},
   "source": [
    "principal_x is the PCA treated independent variables.\n",
    "\n",
    "the purpose of using PCA in this dataset is because there is hughe outliers & many variables shows corr & multicollinearity."
   ]
  },
  {
   "cell_type": "code",
   "execution_count": 67,
   "id": "fdb2bea2",
   "metadata": {},
   "outputs": [
    {
     "data": {
      "text/plain": [
       "((831, 10), (831,))"
      ]
     },
     "execution_count": 67,
     "metadata": {},
     "output_type": "execute_result"
    }
   ],
   "source": [
    "x.shape,y.shape"
   ]
  },
  {
   "cell_type": "markdown",
   "id": "5528d101",
   "metadata": {},
   "source": [
    "# Decision Tree is Configured for 200 Random State"
   ]
  },
  {
   "cell_type": "code",
   "execution_count": 68,
   "id": "2b04615e",
   "metadata": {},
   "outputs": [
    {
     "name": "stdout",
     "output_type": "stream",
     "text": [
      "68.26347305389223 at random_state 0\n",
      "67.06586826347305 at random_state 1\n",
      "71.8562874251497 at random_state 2\n",
      "67.06586826347305 at random_state 3\n",
      "62.874251497005986 at random_state 4\n",
      "68.26347305389223 at random_state 5\n",
      "69.46107784431138 at random_state 6\n",
      "62.27544910179641 at random_state 7\n",
      "65.26946107784431 at random_state 8\n",
      "66.46706586826348 at random_state 9\n",
      "64.67065868263472 at random_state 10\n",
      "65.26946107784431 at random_state 11\n",
      "66.46706586826348 at random_state 12\n",
      "68.8622754491018 at random_state 13\n",
      "67.06586826347305 at random_state 14\n",
      "64.07185628742515 at random_state 15\n",
      "66.46706586826348 at random_state 16\n",
      "60.47904191616767 at random_state 17\n",
      "65.26946107784431 at random_state 18\n",
      "65.86826347305389 at random_state 19\n",
      "65.26946107784431 at random_state 20\n",
      "65.26946107784431 at random_state 21\n",
      "66.46706586826348 at random_state 22\n",
      "65.26946107784431 at random_state 23\n",
      "61.07784431137725 at random_state 24\n",
      "60.47904191616767 at random_state 25\n",
      "70.05988023952095 at random_state 26\n",
      "60.47904191616767 at random_state 27\n",
      "62.27544910179641 at random_state 28\n",
      "61.07784431137725 at random_state 29\n",
      "65.86826347305389 at random_state 30\n",
      "62.874251497005986 at random_state 31\n",
      "66.46706586826348 at random_state 32\n",
      "67.66467065868264 at random_state 33\n",
      "62.874251497005986 at random_state 34\n",
      "61.07784431137725 at random_state 35\n",
      "67.66467065868264 at random_state 36\n",
      "70.65868263473054 at random_state 37\n",
      "65.26946107784431 at random_state 38\n",
      "69.46107784431138 at random_state 39\n",
      "68.8622754491018 at random_state 40\n",
      "65.26946107784431 at random_state 41\n",
      "68.8622754491018 at random_state 42\n",
      "61.07784431137725 at random_state 43\n",
      "71.25748502994011 at random_state 44\n",
      "59.2814371257485 at random_state 45\n",
      "59.2814371257485 at random_state 46\n",
      "67.66467065868264 at random_state 47\n",
      "62.874251497005986 at random_state 48\n",
      "61.67664670658682 at random_state 49\n",
      "62.27544910179641 at random_state 50\n",
      "68.8622754491018 at random_state 51\n",
      "66.46706586826348 at random_state 52\n",
      "66.46706586826348 at random_state 53\n",
      "67.66467065868264 at random_state 54\n",
      "58.68263473053892 at random_state 55\n",
      "62.874251497005986 at random_state 56\n",
      "65.26946107784431 at random_state 57\n",
      "62.27544910179641 at random_state 58\n",
      "69.46107784431138 at random_state 59\n",
      "62.27544910179641 at random_state 60\n",
      "64.67065868263472 at random_state 61\n",
      "60.47904191616767 at random_state 62\n",
      "70.65868263473054 at random_state 63\n",
      "65.86826347305389 at random_state 64\n",
      "67.06586826347305 at random_state 65\n",
      "63.47305389221557 at random_state 66\n",
      "62.27544910179641 at random_state 67\n",
      "65.26946107784431 at random_state 68\n",
      "61.67664670658682 at random_state 69\n",
      "62.874251497005986 at random_state 70\n",
      "62.27544910179641 at random_state 71\n",
      "64.67065868263472 at random_state 72\n",
      "63.47305389221557 at random_state 73\n",
      "67.06586826347305 at random_state 74\n",
      "58.68263473053892 at random_state 75\n",
      "66.46706586826348 at random_state 76\n",
      "66.46706586826348 at random_state 77\n",
      "61.07784431137725 at random_state 78\n",
      "59.88023952095808 at random_state 79\n",
      "63.47305389221557 at random_state 80\n",
      "64.67065868263472 at random_state 81\n",
      "68.8622754491018 at random_state 82\n",
      "68.8622754491018 at random_state 83\n",
      "71.25748502994011 at random_state 84\n",
      "67.66467065868264 at random_state 85\n",
      "66.46706586826348 at random_state 86\n",
      "64.67065868263472 at random_state 87\n",
      "63.47305389221557 at random_state 88\n",
      "67.06586826347305 at random_state 89\n",
      "67.06586826347305 at random_state 90\n",
      "67.66467065868264 at random_state 91\n",
      "65.86826347305389 at random_state 92\n",
      "65.26946107784431 at random_state 93\n",
      "66.46706586826348 at random_state 94\n",
      "65.26946107784431 at random_state 95\n",
      "67.06586826347305 at random_state 96\n",
      "62.27544910179641 at random_state 97\n",
      "65.86826347305389 at random_state 98\n",
      "63.47305389221557 at random_state 99\n",
      "69.46107784431138 at random_state 100\n",
      "67.66467065868264 at random_state 101\n",
      "61.67664670658682 at random_state 102\n",
      "60.47904191616767 at random_state 103\n",
      "70.65868263473054 at random_state 104\n",
      "68.26347305389223 at random_state 105\n",
      "65.26946107784431 at random_state 106\n",
      "64.67065868263472 at random_state 107\n",
      "62.874251497005986 at random_state 108\n",
      "65.86826347305389 at random_state 109\n",
      "64.07185628742515 at random_state 110\n",
      "61.07784431137725 at random_state 111\n",
      "65.86826347305389 at random_state 112\n",
      "65.86826347305389 at random_state 113\n",
      "61.67664670658682 at random_state 114\n",
      "58.68263473053892 at random_state 115\n",
      "64.67065868263472 at random_state 116\n",
      "64.07185628742515 at random_state 117\n",
      "65.26946107784431 at random_state 118\n",
      "60.47904191616767 at random_state 119\n",
      "65.86826347305389 at random_state 120\n",
      "65.86826347305389 at random_state 121\n",
      "67.06586826347305 at random_state 122\n",
      "58.68263473053892 at random_state 123\n",
      "64.67065868263472 at random_state 124\n",
      "59.2814371257485 at random_state 125\n",
      "64.67065868263472 at random_state 126\n",
      "64.67065868263472 at random_state 127\n",
      "61.07784431137725 at random_state 128\n",
      "64.07185628742515 at random_state 129\n",
      "63.47305389221557 at random_state 130\n",
      "66.46706586826348 at random_state 131\n",
      "60.47904191616767 at random_state 132\n",
      "65.86826347305389 at random_state 133\n",
      "70.65868263473054 at random_state 134\n",
      "63.47305389221557 at random_state 135\n",
      "64.07185628742515 at random_state 136\n",
      "64.07185628742515 at random_state 137\n",
      "70.65868263473054 at random_state 138\n",
      "63.47305389221557 at random_state 139\n",
      "64.07185628742515 at random_state 140\n",
      "66.46706586826348 at random_state 141\n",
      "66.46706586826348 at random_state 142\n",
      "58.68263473053892 at random_state 143\n",
      "64.07185628742515 at random_state 144\n",
      "65.26946107784431 at random_state 145\n",
      "64.07185628742515 at random_state 146\n",
      "68.26347305389223 at random_state 147\n",
      "71.8562874251497 at random_state 148\n",
      "59.2814371257485 at random_state 149\n",
      "64.07185628742515 at random_state 150\n",
      "59.88023952095808 at random_state 151\n",
      "61.67664670658682 at random_state 152\n",
      "71.25748502994011 at random_state 153\n",
      "62.27544910179641 at random_state 154\n",
      "68.26347305389223 at random_state 155\n",
      "57.48502994011976 at random_state 156\n",
      "65.26946107784431 at random_state 157\n",
      "63.47305389221557 at random_state 158\n",
      "68.8622754491018 at random_state 159\n",
      "64.67065868263472 at random_state 160\n",
      "60.47904191616767 at random_state 161\n",
      "65.86826347305389 at random_state 162\n",
      "67.06586826347305 at random_state 163\n",
      "65.26946107784431 at random_state 164\n",
      "68.26347305389223 at random_state 165\n",
      "65.26946107784431 at random_state 166\n",
      "64.67065868263472 at random_state 167\n",
      "69.46107784431138 at random_state 168\n",
      "62.27544910179641 at random_state 169\n",
      "68.26347305389223 at random_state 170\n",
      "68.8622754491018 at random_state 171\n",
      "64.07185628742515 at random_state 172\n",
      "64.67065868263472 at random_state 173\n",
      "66.46706586826348 at random_state 174\n",
      "67.66467065868264 at random_state 175\n",
      "67.06586826347305 at random_state 176\n",
      "60.47904191616767 at random_state 177\n",
      "62.27544910179641 at random_state 178\n",
      "61.67664670658682 at random_state 179\n",
      "64.67065868263472 at random_state 180\n",
      "68.26347305389223 at random_state 181\n",
      "62.27544910179641 at random_state 182\n",
      "62.27544910179641 at random_state 183\n",
      "71.8562874251497 at random_state 184\n",
      "64.67065868263472 at random_state 185\n",
      "62.27544910179641 at random_state 186\n",
      "66.46706586826348 at random_state 187\n",
      "64.07185628742515 at random_state 188\n",
      "59.88023952095808 at random_state 189\n",
      "70.65868263473054 at random_state 190\n",
      "71.8562874251497 at random_state 191\n",
      "70.05988023952095 at random_state 192\n",
      "71.8562874251497 at random_state 193\n",
      "64.67065868263472 at random_state 194\n",
      "62.27544910179641 at random_state 195\n",
      "64.07185628742515 at random_state 196\n",
      "64.07185628742515 at random_state 197\n",
      "63.47305389221557 at random_state 198\n",
      "60.47904191616767 at random_state 199\n"
     ]
    }
   ],
   "source": [
    "for i in range(200):\n",
    "    x_train, x_test, y_train, y_test = train_test_split(x,y, test_size=0.20, random_state=i)\n",
    "    from sklearn.tree import DecisionTreeClassifier\n",
    "    lm = DecisionTreeClassifier()\n",
    "    lm.fit(x_train,y_train)\n",
    "    pred=lm.predict(x_test)\n",
    "    accu=accuracy_score(y_test,pred)\n",
    "    print(accu*100, \"at random_state\", i) "
   ]
  },
  {
   "cell_type": "code",
   "execution_count": 69,
   "id": "364292f7",
   "metadata": {},
   "outputs": [
    {
     "name": "stdout",
     "output_type": "stream",
     "text": [
      "Best accuracy is  0.712  on Random_state  191\n"
     ]
    }
   ],
   "source": [
    "from sklearn.tree import DecisionTreeClassifier\n",
    "maxAccu=0\n",
    "maxRS=0\n",
    "for i in range(1,200):\n",
    "    x_train, x_test, y_train, y_test = train_test_split(x,y,test_size=0.30, random_state = i)\n",
    "    mod = DecisionTreeClassifier()\n",
    "    mod.fit(x_train, y_train)\n",
    "    pred = mod.predict(x_test)\n",
    "    acc=accuracy_score(y_test, pred)\n",
    "    if acc>maxAccu:\n",
    "        maxAccu=acc\n",
    "        maxRS=i\n",
    "print(\"Best accuracy is \", maxAccu,\" on Random_state \",maxRS)"
   ]
  },
  {
   "cell_type": "markdown",
   "id": "6af49f4f",
   "metadata": {},
   "source": [
    "- Best Random state selected is 191 with MAE = 71.2%."
   ]
  },
  {
   "cell_type": "markdown",
   "id": "fdf7e080",
   "metadata": {},
   "source": [
    "# Splitting Training Set & Test Set."
   ]
  },
  {
   "cell_type": "code",
   "execution_count": 76,
   "id": "d22c0f4e",
   "metadata": {},
   "outputs": [],
   "source": [
    "x_train, x_test, y_train, y_test = train_test_split(x,y,test_size=0.30, random_state = 191)"
   ]
  },
  {
   "cell_type": "markdown",
   "id": "56be227b",
   "metadata": {},
   "source": [
    "- independent(x) & Target Variable(y) is divided into Train & Test Set.\n",
    "- 70% data is set for training & 30% data is reserved for testing.\n",
    "- best Random state is applied which is 191 computed above."
   ]
  },
  {
   "cell_type": "markdown",
   "id": "6f5399db",
   "metadata": {},
   "source": [
    "# Decision Tree Classifier"
   ]
  },
  {
   "cell_type": "code",
   "execution_count": 77,
   "id": "fa700ab0",
   "metadata": {},
   "outputs": [
    {
     "name": "stdout",
     "output_type": "stream",
     "text": [
      "              precision    recall  f1-score   support\n",
      "\n",
      "           0       0.45      0.69      0.55        13\n",
      "           1       0.68      0.70      0.69        64\n",
      "           2       0.47      0.40      0.43        20\n",
      "           3       0.74      0.80      0.77        66\n",
      "           4       0.00      0.00      0.00         1\n",
      "           5       0.29      0.29      0.29         7\n",
      "           6       1.00      0.67      0.80        42\n",
      "           7       0.84      0.86      0.85        37\n",
      "\n",
      "    accuracy                           0.71       250\n",
      "   macro avg       0.56      0.55      0.55       250\n",
      "weighted avg       0.73      0.71      0.71       250\n",
      "\n"
     ]
    }
   ],
   "source": [
    "DTC = DecisionTreeClassifier()\n",
    "DTC.fit(x_train, y_train)\n",
    "pred = DTC.predict(x_test)\n",
    "acc = classification_report(y_test, pred)\n",
    "print(acc) "
   ]
  },
  {
   "cell_type": "markdown",
   "id": "cab33729",
   "metadata": {},
   "source": [
    "- DTC learned the model with 71%."
   ]
  },
  {
   "cell_type": "markdown",
   "id": "b0938bd5",
   "metadata": {},
   "source": [
    "# Random Forest Classifier"
   ]
  },
  {
   "cell_type": "code",
   "execution_count": 78,
   "id": "2cf3e0a1",
   "metadata": {},
   "outputs": [
    {
     "name": "stdout",
     "output_type": "stream",
     "text": [
      "              precision    recall  f1-score   support\n",
      "\n",
      "           0       0.60      0.69      0.64        13\n",
      "           1       0.72      0.81      0.76        64\n",
      "           2       0.78      0.35      0.48        20\n",
      "           3       0.78      0.88      0.83        66\n",
      "           4       0.00      0.00      0.00         1\n",
      "           5       0.50      0.14      0.22         7\n",
      "           6       0.94      0.79      0.86        42\n",
      "           7       0.84      0.97      0.90        37\n",
      "\n",
      "    accuracy                           0.78       250\n",
      "   macro avg       0.65      0.58      0.59       250\n",
      "weighted avg       0.78      0.78      0.77       250\n",
      "\n"
     ]
    }
   ],
   "source": [
    "RFC = RandomForestClassifier()\n",
    "RFC.fit(x_train, y_train)\n",
    "pred = RFC.predict(x_test)\n",
    "acc = classification_report(y_test, pred)\n",
    "print(acc)"
   ]
  },
  {
   "cell_type": "markdown",
   "id": "608787f8",
   "metadata": {},
   "source": [
    "- RFC also learned the model well with 78%"
   ]
  },
  {
   "cell_type": "markdown",
   "id": "c0d743ef",
   "metadata": {},
   "source": [
    "# KNN Classifier"
   ]
  },
  {
   "cell_type": "code",
   "execution_count": 79,
   "id": "e754573e",
   "metadata": {},
   "outputs": [
    {
     "name": "stdout",
     "output_type": "stream",
     "text": [
      "              precision    recall  f1-score   support\n",
      "\n",
      "           0       0.60      0.69      0.64        13\n",
      "           1       0.72      0.81      0.76        64\n",
      "           2       0.78      0.35      0.48        20\n",
      "           3       0.78      0.88      0.83        66\n",
      "           4       0.00      0.00      0.00         1\n",
      "           5       0.50      0.14      0.22         7\n",
      "           6       0.94      0.79      0.86        42\n",
      "           7       0.84      0.97      0.90        37\n",
      "\n",
      "    accuracy                           0.78       250\n",
      "   macro avg       0.65      0.58      0.59       250\n",
      "weighted avg       0.78      0.78      0.77       250\n",
      "\n"
     ]
    }
   ],
   "source": [
    "knn=KNeighborsClassifier(n_neighbors=5)\n",
    "knn.fit(x_train,y_train)\n",
    "predknn=knn.predict(x_test)\n",
    "acc = classification_report(y_test, pred)\n",
    "print(acc)"
   ]
  },
  {
   "cell_type": "markdown",
   "id": "3b956ed0",
   "metadata": {},
   "source": [
    "- KNN has learned with 78%."
   ]
  },
  {
   "cell_type": "markdown",
   "id": "059093b7",
   "metadata": {},
   "source": [
    "# K-fold Cross Validation"
   ]
  },
  {
   "cell_type": "code",
   "execution_count": 74,
   "id": "628aaac0",
   "metadata": {},
   "outputs": [],
   "source": [
    "# Obs : Creating CV Object with shuffle = true to avoid -ve CV Values as o/p\n",
    "cross_validation=KFold(5, shuffle =True)"
   ]
  },
  {
   "cell_type": "code",
   "execution_count": 80,
   "id": "d3f91db4",
   "metadata": {},
   "outputs": [
    {
     "name": "stdout",
     "output_type": "stream",
     "text": [
      "0.6449390375874756\n"
     ]
    }
   ],
   "source": [
    "# DTClassifier\n",
    "print(cross_val_score(DTC,x,y,cv=cross_validation).mean()) "
   ]
  },
  {
   "cell_type": "code",
   "execution_count": 81,
   "id": "a16495f8",
   "metadata": {},
   "outputs": [
    {
     "name": "stdout",
     "output_type": "stream",
     "text": [
      "0.7581631916889113\n"
     ]
    }
   ],
   "source": [
    "# Random Forest Classifier\n",
    "print(cross_val_score(RFC,x,y,cv=cross_validation).mean()) "
   ]
  },
  {
   "cell_type": "code",
   "execution_count": 82,
   "id": "e59a4f90",
   "metadata": {},
   "outputs": [
    {
     "name": "stdout",
     "output_type": "stream",
     "text": [
      "0.7437486472837458\n"
     ]
    }
   ],
   "source": [
    "# KNN Classifier\n",
    "print(cross_val_score(knn,x,y,cv=cross_validation).mean()) "
   ]
  },
  {
   "cell_type": "markdown",
   "id": "20ddf192",
   "metadata": {},
   "source": [
    "# Best Model Selection\n",
    "I have selected Random Forest Classifier (RFC) as the best algorithm \n",
    "- Has a good score compare to the rest.\n",
    "- And has least MAE among rest others"
   ]
  },
  {
   "cell_type": "markdown",
   "id": "038aec27",
   "metadata": {},
   "source": [
    "# Hyperparameter & Grid search CV"
   ]
  },
  {
   "cell_type": "code",
   "execution_count": 83,
   "id": "feaffa58",
   "metadata": {},
   "outputs": [],
   "source": [
    "#Setting Random Forest Hyperparameter\n",
    "\n",
    "import numpy as np\n",
    "parameter = {'max_depth' : np.arange(2,8),\n",
    "            'criterion':['gini','entropy'],\n",
    "            'n_estimators' : [100],\n",
    "            'max_features' : ['auto','sqrt','log2']}"
   ]
  },
  {
   "cell_type": "markdown",
   "id": "3bf4670b",
   "metadata": {},
   "source": [
    "- RFC Hyperparameter is set with multiple values to select the best one through GridsearchCV"
   ]
  },
  {
   "cell_type": "code",
   "execution_count": 84,
   "id": "2f0b4d7e",
   "metadata": {},
   "outputs": [
    {
     "data": {
      "text/plain": [
       "GridSearchCV(cv=KFold(n_splits=5, random_state=None, shuffle=True),\n",
       "             estimator=RandomForestClassifier(),\n",
       "             param_grid={'criterion': ['gini', 'entropy'],\n",
       "                         'max_depth': array([2, 3, 4, 5, 6, 7]),\n",
       "                         'max_features': ['auto', 'sqrt', 'log2'],\n",
       "                         'n_estimators': [100]})"
      ]
     },
     "execution_count": 84,
     "metadata": {},
     "output_type": "execute_result"
    }
   ],
   "source": [
    "#Creating Gridserach CV Instance\n",
    "GCV=GridSearchCV(RandomForestClassifier(),parameter,cv=cross_validation)\n",
    "GCV.fit(x_train,y_train)"
   ]
  },
  {
   "cell_type": "markdown",
   "id": "efa59fa2",
   "metadata": {},
   "source": [
    "- Applying Gridsearchcv to training set with RFC hyperparameters values."
   ]
  },
  {
   "cell_type": "code",
   "execution_count": 85,
   "id": "2df74508",
   "metadata": {},
   "outputs": [
    {
     "data": {
      "text/plain": [
       "{'criterion': 'entropy',\n",
       " 'max_depth': 7,\n",
       " 'max_features': 'log2',\n",
       " 'n_estimators': 100}"
      ]
     },
     "execution_count": 85,
     "metadata": {},
     "output_type": "execute_result"
    }
   ],
   "source": [
    "GCV.best_params_"
   ]
  },
  {
   "cell_type": "code",
   "execution_count": 86,
   "id": "b0d3987f",
   "metadata": {},
   "outputs": [
    {
     "name": "stdout",
     "output_type": "stream",
     "text": [
      "77.2\n"
     ]
    }
   ],
   "source": [
    "Final_mod = RandomForestClassifier(criterion = 'gini', max_depth = 7,max_features='auto',n_estimators= 100)\n",
    "Final_mod.fit(x_train, y_train)\n",
    "pred = Final_mod.predict(x_test)\n",
    "acc=accuracy_score(y_test,pred)\n",
    "print(acc*100)"
   ]
  },
  {
   "cell_type": "markdown",
   "id": "5aee2821",
   "metadata": {},
   "source": [
    "- Best GCV param is applied to RFC.\n",
    "- where RFC learned the model with 77%."
   ]
  },
  {
   "cell_type": "markdown",
   "id": "f71b538a",
   "metadata": {},
   "source": [
    "# AUC-ROC Curve"
   ]
  },
  {
   "cell_type": "code",
   "execution_count": 87,
   "id": "8f199933",
   "metadata": {},
   "outputs": [
    {
     "data": {
      "image/png": "[encoded data removed]",
      "text/plain": [
       "<Figure size 432x288 with 1 Axes>"
      ]
     },
     "metadata": {
      "needs_background": "light"
     },
     "output_type": "display_data"
    }
   ],
   "source": [
    "y_pred_prob= Final_mod.predict_proba(x_test)[:,1]\n",
    "fpr,tpr,thresholds=roc_curve(y_test,y_pred_prob,pos_label= 1)\n",
    "plt.plot([0,1],[0,1],'k--')\n",
    "plt.plot(fpr,tpr,label='RandomForestClassifier')\n",
    "plt.xlabel('False positive rate')\n",
    "plt.ylabel('True positive rate')\n",
    "plt.title('RandomForestClassifier')\n",
    "plt.show()"
   ]
  },
  {
   "cell_type": "markdown",
   "id": "de2ecab8",
   "metadata": {},
   "source": [
    "ROC Curve : Classifiers that give curves closer to top left corner indicates that model will give better performance & if the curve comming closer to 45 degree diagonal of the ROC space the less accurate the model will be, so in above case the curve is closer to top left corner hence I believe the model will give better performance."
   ]
  },
  {
   "cell_type": "markdown",
   "id": "22177036",
   "metadata": {},
   "source": [
    "# II.Regression:"
   ]
  },
  {
   "cell_type": "code",
   "execution_count": 88,
   "id": "e9ad842d",
   "metadata": {},
   "outputs": [
    {
     "data": {
      "text/html": [
       "<div>\n",
       "<style scoped>\n",
       "    .dataframe tbody tr th:only-of-type {\n",
       "        vertical-align: middle;\n",
       "    }\n",
       "\n",
       "    .dataframe tbody tr th {\n",
       "        vertical-align: top;\n",
       "    }\n",
       "\n",
       "    .dataframe thead th {\n",
       "        text-align: right;\n",
       "    }\n",
       "</style>\n",
       "<table border=\"1\" class=\"dataframe\">\n",
       "  <thead>\n",
       "    <tr style=\"text-align: right;\">\n",
       "      <th></th>\n",
       "      <th>name</th>\n",
       "      <th>gppd_idnr</th>\n",
       "      <th>capacity_mw</th>\n",
       "      <th>latitude</th>\n",
       "      <th>longitude</th>\n",
       "      <th>primary_fuel</th>\n",
       "      <th>commissioning_year</th>\n",
       "      <th>source</th>\n",
       "      <th>generation_gwh_2014</th>\n",
       "      <th>generation_gwh_2015</th>\n",
       "      <th>generation_gwh_2016</th>\n",
       "      <th>generation_gwh_2017</th>\n",
       "      <th>generation_gwh_2018</th>\n",
       "    </tr>\n",
       "  </thead>\n",
       "  <tbody>\n",
       "    <tr>\n",
       "      <th>0</th>\n",
       "      <td>0</td>\n",
       "      <td>657</td>\n",
       "      <td>1.257433</td>\n",
       "      <td>28.1839</td>\n",
       "      <td>73.2407</td>\n",
       "      <td>6</td>\n",
       "      <td>2011.0</td>\n",
       "      <td>109</td>\n",
       "      <td>5.320163</td>\n",
       "      <td>5.164105</td>\n",
       "      <td>5.210713</td>\n",
       "      <td>5.347925</td>\n",
       "      <td>5.236042</td>\n",
       "    </tr>\n",
       "    <tr>\n",
       "      <th>1</th>\n",
       "      <td>1</td>\n",
       "      <td>519</td>\n",
       "      <td>3.146346</td>\n",
       "      <td>24.7663</td>\n",
       "      <td>74.6090</td>\n",
       "      <td>1</td>\n",
       "      <td>2001.0</td>\n",
       "      <td>174</td>\n",
       "      <td>5.320163</td>\n",
       "      <td>5.164105</td>\n",
       "      <td>5.210713</td>\n",
       "      <td>5.347925</td>\n",
       "      <td>5.236042</td>\n",
       "    </tr>\n",
       "    <tr>\n",
       "      <th>2</th>\n",
       "      <td>2</td>\n",
       "      <td>853</td>\n",
       "      <td>2.502197</td>\n",
       "      <td>21.9038</td>\n",
       "      <td>69.3732</td>\n",
       "      <td>7</td>\n",
       "      <td>2001.0</td>\n",
       "      <td>21</td>\n",
       "      <td>5.320163</td>\n",
       "      <td>5.164105</td>\n",
       "      <td>5.210713</td>\n",
       "      <td>5.347925</td>\n",
       "      <td>5.236042</td>\n",
       "    </tr>\n",
       "    <tr>\n",
       "      <th>3</th>\n",
       "      <td>3</td>\n",
       "      <td>0</td>\n",
       "      <td>3.408658</td>\n",
       "      <td>23.8712</td>\n",
       "      <td>91.3602</td>\n",
       "      <td>2</td>\n",
       "      <td>2004.0</td>\n",
       "      <td>22</td>\n",
       "      <td>4.985516</td>\n",
       "      <td>5.389557</td>\n",
       "      <td>5.455807</td>\n",
       "      <td>5.075807</td>\n",
       "      <td>5.002476</td>\n",
       "    </tr>\n",
       "    <tr>\n",
       "      <th>4</th>\n",
       "      <td>4</td>\n",
       "      <td>1</td>\n",
       "      <td>6.513556</td>\n",
       "      <td>21.9603</td>\n",
       "      <td>82.4091</td>\n",
       "      <td>1</td>\n",
       "      <td>2015.0</td>\n",
       "      <td>22</td>\n",
       "      <td>7.422656</td>\n",
       "      <td>8.770288</td>\n",
       "      <td>8.888906</td>\n",
       "      <td>8.566593</td>\n",
       "      <td>9.236723</td>\n",
       "    </tr>\n",
       "  </tbody>\n",
       "</table>\n",
       "</div>"
      ],
      "text/plain": [
       "   name  gppd_idnr  capacity_mw  latitude  longitude  primary_fuel  \\\n",
       "0     0        657     1.257433   28.1839    73.2407             6   \n",
       "1     1        519     3.146346   24.7663    74.6090             1   \n",
       "2     2        853     2.502197   21.9038    69.3732             7   \n",
       "3     3          0     3.408658   23.8712    91.3602             2   \n",
       "4     4          1     6.513556   21.9603    82.4091             1   \n",
       "\n",
       "   commissioning_year  source  generation_gwh_2014  generation_gwh_2015  \\\n",
       "0              2011.0     109             5.320163             5.164105   \n",
       "1              2001.0     174             5.320163             5.164105   \n",
       "2              2001.0      21             5.320163             5.164105   \n",
       "3              2004.0      22             4.985516             5.389557   \n",
       "4              2015.0      22             7.422656             8.770288   \n",
       "\n",
       "   generation_gwh_2016  generation_gwh_2017  generation_gwh_2018  \n",
       "0             5.210713             5.347925             5.236042  \n",
       "1             5.210713             5.347925             5.236042  \n",
       "2             5.210713             5.347925             5.236042  \n",
       "3             5.455807             5.075807             5.002476  \n",
       "4             8.888906             8.566593             9.236723  "
      ]
     },
     "execution_count": 88,
     "metadata": {},
     "output_type": "execute_result"
    }
   ],
   "source": [
    "df.head()"
   ]
  },
  {
   "cell_type": "markdown",
   "id": "ca93598d",
   "metadata": {},
   "source": [
    "The dataframe is the labelencoded where object variable is labelencoded."
   ]
  },
  {
   "cell_type": "code",
   "execution_count": 89,
   "id": "cd08aeb5",
   "metadata": {},
   "outputs": [],
   "source": [
    "x=df.drop(\"capacity_mw\",axis=1)\n",
    "y=df[\"capacity_mw\"]"
   ]
  },
  {
   "cell_type": "markdown",
   "id": "6c3df648",
   "metadata": {},
   "source": [
    "- x is the independent variables where the target var-capacity_mw is dropped.\n",
    "- y is the dependent var-capacity_mw"
   ]
  },
  {
   "cell_type": "code",
   "execution_count": 90,
   "id": "cbc08946",
   "metadata": {},
   "outputs": [
    {
     "data": {
      "text/plain": [
       "((831, 12), (831,))"
      ]
     },
     "execution_count": 90,
     "metadata": {},
     "output_type": "execute_result"
    }
   ],
   "source": [
    "x.shape,y.shape"
   ]
  },
  {
   "cell_type": "markdown",
   "id": "89923d95",
   "metadata": {},
   "source": [
    "- x has 831 rows & 12 cols. without target var\n",
    "- y also has same rows of 831."
   ]
  },
  {
   "cell_type": "code",
   "execution_count": 91,
   "id": "703ee465",
   "metadata": {},
   "outputs": [
    {
     "data": {
      "text/plain": [
       "name                   0.024654\n",
       "gppd_idnr             -0.057949\n",
       "latitude              -0.134941\n",
       "longitude              0.938420\n",
       "primary_fuel           0.407590\n",
       "commissioning_year    -1.271016\n",
       "source                 1.778820\n",
       "generation_gwh_2014   -0.643808\n",
       "generation_gwh_2015   -0.393281\n",
       "generation_gwh_2016   -0.409823\n",
       "generation_gwh_2017   -0.534227\n",
       "generation_gwh_2018   -0.493030\n",
       "dtype: float64"
      ]
     },
     "execution_count": 91,
     "metadata": {},
     "output_type": "execute_result"
    }
   ],
   "source": [
    "x.skew()"
   ]
  },
  {
   "cell_type": "markdown",
   "id": "aaa164c0",
   "metadata": {},
   "source": [
    "- As the skewness is already treated in EDA above so no much skewness is seen."
   ]
  },
  {
   "cell_type": "code",
   "execution_count": 92,
   "id": "55b261a9",
   "metadata": {},
   "outputs": [
    {
     "data": {
      "text/plain": [
       "array([[-1.69709702,  0.73853681,  1.15297566, ..., -0.00503365,\n",
       "         0.02109677, -0.00239961],\n",
       "       [-1.69329859,  0.21874766,  0.59433593, ..., -0.00503365,\n",
       "         0.02109677, -0.00239961],\n",
       "       [-1.68950016,  1.47678806,  0.12643266, ..., -0.00503365,\n",
       "         0.02109677, -0.00239961],\n",
       "       ...,\n",
       "       [ 1.73668111,  1.61991841, -0.95697795, ..., -0.00503365,\n",
       "         0.02109677, -0.00239961],\n",
       "       [ 1.74047954,  0.29407942,  0.52628768, ..., -0.00503365,\n",
       "         0.02109677, -0.00239961],\n",
       "       [ 1.74427796,  1.56341958, -1.83008137, ..., -0.00503365,\n",
       "         0.02109677, -0.00239961]])"
      ]
     },
     "execution_count": 92,
     "metadata": {},
     "output_type": "execute_result"
    }
   ],
   "source": [
    "scale=StandardScaler() # Standard scaler instance\n",
    "x=scale.fit_transform(x) # applied to independent variables\n",
    "x"
   ]
  },
  {
   "cell_type": "code",
   "execution_count": 93,
   "id": "0ce7e584",
   "metadata": {},
   "outputs": [],
   "source": [
    "pca = PCA(n_components=10)# setting 10 pca components\n",
    "x = pca.fit_transform(x)# applying pca on x-independent variables."
   ]
  },
  {
   "cell_type": "code",
   "execution_count": 94,
   "id": "777ba2d6",
   "metadata": {},
   "outputs": [
    {
     "data": {
      "image/png": "[encoded data removed]",
      "text/plain": [
       "<Figure size 432x288 with 1 Axes>"
      ]
     },
     "metadata": {
      "needs_background": "light"
     },
     "output_type": "display_data"
    }
   ],
   "source": [
    "pca = PCA()\n",
    "principalComponents = pca.fit_transform(x)\n",
    "plt.figure()\n",
    "plt.plot(np.cumsum(pca.explained_variance_ratio_))\n",
    "plt.xlabel('Number of Components')\n",
    "plt.ylabel('Variance (%)')\n",
    "plt.title('Explained Variance')\n",
    "plt.show()"
   ]
  },
  {
   "cell_type": "markdown",
   "id": "d146a5b5",
   "metadata": {},
   "source": [
    "- As we can see 8 PCA component clearly explains the presence of variance with these PCA."
   ]
  },
  {
   "cell_type": "code",
   "execution_count": 95,
   "id": "0a99c39e",
   "metadata": {},
   "outputs": [
    {
     "data": {
      "text/html": [
       "<div>\n",
       "<style scoped>\n",
       "    .dataframe tbody tr th:only-of-type {\n",
       "        vertical-align: middle;\n",
       "    }\n",
       "\n",
       "    .dataframe tbody tr th {\n",
       "        vertical-align: top;\n",
       "    }\n",
       "\n",
       "    .dataframe thead th {\n",
       "        text-align: right;\n",
       "    }\n",
       "</style>\n",
       "<table border=\"1\" class=\"dataframe\">\n",
       "  <thead>\n",
       "    <tr style=\"text-align: right;\">\n",
       "      <th></th>\n",
       "      <th>PC-1</th>\n",
       "      <th>PC-2</th>\n",
       "      <th>PC-3</th>\n",
       "      <th>PC-4</th>\n",
       "      <th>PC-5</th>\n",
       "      <th>PC-6</th>\n",
       "      <th>PC-7</th>\n",
       "      <th>PC-8</th>\n",
       "    </tr>\n",
       "  </thead>\n",
       "  <tbody>\n",
       "    <tr>\n",
       "      <th>0</th>\n",
       "      <td>0.021430</td>\n",
       "      <td>-1.654817</td>\n",
       "      <td>-2.647088</td>\n",
       "      <td>-0.031690</td>\n",
       "      <td>-0.013905</td>\n",
       "      <td>-0.588069</td>\n",
       "      <td>0.466151</td>\n",
       "      <td>-0.117856</td>\n",
       "    </tr>\n",
       "    <tr>\n",
       "      <th>1</th>\n",
       "      <td>-0.093732</td>\n",
       "      <td>-0.606987</td>\n",
       "      <td>-2.699120</td>\n",
       "      <td>-0.255288</td>\n",
       "      <td>2.513349</td>\n",
       "      <td>0.299612</td>\n",
       "      <td>0.307167</td>\n",
       "      <td>-0.025968</td>\n",
       "    </tr>\n",
       "    <tr>\n",
       "      <th>2</th>\n",
       "      <td>0.275048</td>\n",
       "      <td>-2.002490</td>\n",
       "      <td>-1.073743</td>\n",
       "      <td>1.351369</td>\n",
       "      <td>-0.910705</td>\n",
       "      <td>-1.578222</td>\n",
       "      <td>-0.149988</td>\n",
       "      <td>-0.033679</td>\n",
       "    </tr>\n",
       "    <tr>\n",
       "      <th>3</th>\n",
       "      <td>-0.249721</td>\n",
       "      <td>3.346510</td>\n",
       "      <td>-0.840944</td>\n",
       "      <td>-0.648393</td>\n",
       "      <td>-0.376837</td>\n",
       "      <td>-0.524023</td>\n",
       "      <td>2.159999</td>\n",
       "      <td>-0.500653</td>\n",
       "    </tr>\n",
       "    <tr>\n",
       "      <th>4</th>\n",
       "      <td>-4.556392</td>\n",
       "      <td>2.209750</td>\n",
       "      <td>-1.071679</td>\n",
       "      <td>-0.314629</td>\n",
       "      <td>-0.056542</td>\n",
       "      <td>-1.420157</td>\n",
       "      <td>0.268978</td>\n",
       "      <td>0.049849</td>\n",
       "    </tr>\n",
       "    <tr>\n",
       "      <th>...</th>\n",
       "      <td>...</td>\n",
       "      <td>...</td>\n",
       "      <td>...</td>\n",
       "      <td>...</td>\n",
       "      <td>...</td>\n",
       "      <td>...</td>\n",
       "      <td>...</td>\n",
       "      <td>...</td>\n",
       "    </tr>\n",
       "    <tr>\n",
       "      <th>826</th>\n",
       "      <td>1.234049</td>\n",
       "      <td>0.302393</td>\n",
       "      <td>1.238118</td>\n",
       "      <td>-2.135521</td>\n",
       "      <td>-0.176946</td>\n",
       "      <td>0.112102</td>\n",
       "      <td>-1.092275</td>\n",
       "      <td>0.864086</td>\n",
       "    </tr>\n",
       "    <tr>\n",
       "      <th>827</th>\n",
       "      <td>0.188317</td>\n",
       "      <td>-1.972757</td>\n",
       "      <td>1.753251</td>\n",
       "      <td>-0.959679</td>\n",
       "      <td>0.381312</td>\n",
       "      <td>0.056511</td>\n",
       "      <td>0.682930</td>\n",
       "      <td>-0.013811</td>\n",
       "    </tr>\n",
       "    <tr>\n",
       "      <th>828</th>\n",
       "      <td>0.236760</td>\n",
       "      <td>-2.153914</td>\n",
       "      <td>1.951035</td>\n",
       "      <td>-0.382677</td>\n",
       "      <td>-0.892146</td>\n",
       "      <td>-0.176796</td>\n",
       "      <td>0.150126</td>\n",
       "      <td>0.020701</td>\n",
       "    </tr>\n",
       "    <tr>\n",
       "      <th>829</th>\n",
       "      <td>-0.124009</td>\n",
       "      <td>-0.491971</td>\n",
       "      <td>0.444897</td>\n",
       "      <td>-0.751924</td>\n",
       "      <td>0.264578</td>\n",
       "      <td>1.517482</td>\n",
       "      <td>-1.285929</td>\n",
       "      <td>0.201545</td>\n",
       "    </tr>\n",
       "    <tr>\n",
       "      <th>830</th>\n",
       "      <td>0.273894</td>\n",
       "      <td>-1.950898</td>\n",
       "      <td>2.550619</td>\n",
       "      <td>-0.570017</td>\n",
       "      <td>-0.503344</td>\n",
       "      <td>-0.680243</td>\n",
       "      <td>0.467626</td>\n",
       "      <td>-0.037642</td>\n",
       "    </tr>\n",
       "  </tbody>\n",
       "</table>\n",
       "<p>831 rows × 8 columns</p>\n",
       "</div>"
      ],
      "text/plain": [
       "         PC-1      PC-2      PC-3      PC-4      PC-5      PC-6      PC-7  \\\n",
       "0    0.021430 -1.654817 -2.647088 -0.031690 -0.013905 -0.588069  0.466151   \n",
       "1   -0.093732 -0.606987 -2.699120 -0.255288  2.513349  0.299612  0.307167   \n",
       "2    0.275048 -2.002490 -1.073743  1.351369 -0.910705 -1.578222 -0.149988   \n",
       "3   -0.249721  3.346510 -0.840944 -0.648393 -0.376837 -0.524023  2.159999   \n",
       "4   -4.556392  2.209750 -1.071679 -0.314629 -0.056542 -1.420157  0.268978   \n",
       "..        ...       ...       ...       ...       ...       ...       ...   \n",
       "826  1.234049  0.302393  1.238118 -2.135521 -0.176946  0.112102 -1.092275   \n",
       "827  0.188317 -1.972757  1.753251 -0.959679  0.381312  0.056511  0.682930   \n",
       "828  0.236760 -2.153914  1.951035 -0.382677 -0.892146 -0.176796  0.150126   \n",
       "829 -0.124009 -0.491971  0.444897 -0.751924  0.264578  1.517482 -1.285929   \n",
       "830  0.273894 -1.950898  2.550619 -0.570017 -0.503344 -0.680243  0.467626   \n",
       "\n",
       "         PC-8  \n",
       "0   -0.117856  \n",
       "1   -0.025968  \n",
       "2   -0.033679  \n",
       "3   -0.500653  \n",
       "4    0.049849  \n",
       "..        ...  \n",
       "826  0.864086  \n",
       "827 -0.013811  \n",
       "828  0.020701  \n",
       "829  0.201545  \n",
       "830 -0.037642  \n",
       "\n",
       "[831 rows x 8 columns]"
      ]
     },
     "execution_count": 95,
     "metadata": {},
     "output_type": "execute_result"
    }
   ],
   "source": [
    "pca = PCA(n_components=8)\n",
    "new_data = pca.fit_transform(x)\n",
    "principal_x = pd.DataFrame(new_data,columns = ['PC-1','PC-2','PC-3','PC-4','PC-5','PC-6','PC-7','PC-8'])\n",
    "principal_x"
   ]
  },
  {
   "cell_type": "markdown",
   "id": "2162b87c",
   "metadata": {},
   "source": [
    "- principal_x is the PCA treated independent variables.\n",
    "- the purpose of using PCA in this dataset is because there is hughe outliers & many variables shows corr & multicollinearity."
   ]
  },
  {
   "cell_type": "code",
   "execution_count": 96,
   "id": "d3e617b2",
   "metadata": {},
   "outputs": [
    {
     "data": {
      "text/plain": [
       "((831, 8), (831,))"
      ]
     },
     "execution_count": 96,
     "metadata": {},
     "output_type": "execute_result"
    }
   ],
   "source": [
    "x = principal_x\n",
    "x.shape, y.shape"
   ]
  },
  {
   "cell_type": "markdown",
   "id": "91278f7f",
   "metadata": {},
   "source": [
    "- x is remapped to principal_x and it is treated pca indpendent variables.\n",
    "- y also has 831 rows."
   ]
  },
  {
   "cell_type": "code",
   "execution_count": 97,
   "id": "6fa90ced",
   "metadata": {},
   "outputs": [
    {
     "name": "stdout",
     "output_type": "stream",
     "text": [
      "0.700092322073809 at random_state 0\n",
      "0.7409183068415469 at random_state 1\n",
      "0.5966266679792962 at random_state 2\n",
      "0.7254458607970073 at random_state 3\n",
      "0.5836588974749528 at random_state 4\n",
      "0.6659907603826954 at random_state 5\n",
      "0.6441765689786934 at random_state 6\n",
      "0.6642985772395067 at random_state 7\n",
      "0.6615809119755152 at random_state 8\n",
      "0.6910610602463058 at random_state 9\n",
      "0.5836941307361826 at random_state 10\n",
      "0.6620898559127997 at random_state 11\n",
      "0.6683348655692674 at random_state 12\n",
      "0.5992233587546825 at random_state 13\n",
      "0.6545863530557554 at random_state 14\n",
      "0.6410050902898093 at random_state 15\n",
      "0.6793186018434368 at random_state 16\n",
      "0.6698605970298548 at random_state 17\n",
      "0.6802048380870408 at random_state 18\n",
      "0.6406386885360501 at random_state 19\n",
      "0.6673998777920263 at random_state 20\n",
      "0.6748418839954434 at random_state 21\n",
      "0.6350352950066241 at random_state 22\n",
      "0.7025352182379182 at random_state 23\n",
      "0.6147907604034832 at random_state 24\n",
      "0.6268879214101354 at random_state 25\n",
      "0.5702554475472307 at random_state 26\n",
      "0.6812999005373267 at random_state 27\n",
      "0.6640499695476488 at random_state 28\n",
      "0.7013344134121725 at random_state 29\n",
      "0.7048797160607609 at random_state 30\n",
      "0.6688110120948386 at random_state 31\n",
      "0.6740056496437058 at random_state 32\n",
      "0.5616161854014665 at random_state 33\n",
      "0.6631924817210583 at random_state 34\n",
      "0.6258583819743871 at random_state 35\n",
      "0.6180587630928871 at random_state 36\n",
      "0.6640495026255026 at random_state 37\n",
      "0.6810654796852701 at random_state 38\n",
      "0.6887162004561649 at random_state 39\n",
      "0.6024046322372094 at random_state 40\n",
      "0.6840562803573464 at random_state 41\n",
      "0.6860327683036412 at random_state 42\n",
      "0.6913470090467762 at random_state 43\n",
      "0.6493033558485521 at random_state 44\n",
      "0.6520613407625367 at random_state 45\n",
      "0.6876078951954533 at random_state 46\n",
      "0.5922725126483154 at random_state 47\n",
      "0.6768112847300415 at random_state 48\n",
      "0.6721051177342546 at random_state 49\n",
      "0.6715338666742623 at random_state 50\n",
      "0.641673801097382 at random_state 51\n",
      "0.620929259222777 at random_state 52\n",
      "0.7099985569690487 at random_state 53\n",
      "0.6614671894403543 at random_state 54\n",
      "0.6719787481791106 at random_state 55\n",
      "0.6788963970646265 at random_state 56\n",
      "0.633993654758301 at random_state 57\n",
      "0.5861648165939873 at random_state 58\n",
      "0.5830721879619452 at random_state 59\n",
      "0.6585186889938983 at random_state 60\n",
      "0.7548982130315594 at random_state 61\n",
      "0.6793583604256479 at random_state 62\n",
      "0.6873855040458069 at random_state 63\n",
      "0.6677354273668258 at random_state 64\n",
      "0.7224098459071435 at random_state 65\n",
      "0.6794040004237015 at random_state 66\n",
      "0.7279805986768775 at random_state 67\n",
      "0.7080335784890883 at random_state 68\n",
      "0.689963068805749 at random_state 69\n",
      "0.6586701030735099 at random_state 70\n",
      "0.6356272195566858 at random_state 71\n",
      "0.6458338799057646 at random_state 72\n",
      "0.7173963619909808 at random_state 73\n",
      "0.6990551475869392 at random_state 74\n",
      "0.7250683495570023 at random_state 75\n",
      "0.6126486666294143 at random_state 76\n",
      "0.6959584395113558 at random_state 77\n",
      "0.6989436080579897 at random_state 78\n",
      "0.7116666442892524 at random_state 79\n",
      "0.6425999085133387 at random_state 80\n",
      "0.6432979217458837 at random_state 81\n",
      "0.6620867678665819 at random_state 82\n",
      "0.675810700672618 at random_state 83\n",
      "0.6611192099682353 at random_state 84\n",
      "0.6560502572120696 at random_state 85\n",
      "0.6821170701534626 at random_state 86\n",
      "0.6563137408863963 at random_state 87\n",
      "0.6130703707377237 at random_state 88\n",
      "0.6118134155429301 at random_state 89\n",
      "0.6983105007890456 at random_state 90\n",
      "0.7205960160830335 at random_state 91\n",
      "0.7055243348570577 at random_state 92\n",
      "0.7353155870807999 at random_state 93\n",
      "0.7005192591299658 at random_state 94\n",
      "0.6795330890232664 at random_state 95\n",
      "0.6353898925089503 at random_state 96\n",
      "0.63772196176308 at random_state 97\n",
      "0.6587956708430867 at random_state 98\n",
      "0.6097779075497152 at random_state 99\n",
      "0.6636040060446012 at random_state 100\n",
      "0.6215294183887593 at random_state 101\n",
      "0.673919132344643 at random_state 102\n",
      "0.7210664482998952 at random_state 103\n",
      "0.6499131096483616 at random_state 104\n",
      "0.6384392708277976 at random_state 105\n",
      "0.608436149488028 at random_state 106\n",
      "0.6894983811224329 at random_state 107\n",
      "0.7303965699313002 at random_state 108\n",
      "0.7020614759312256 at random_state 109\n",
      "0.6597641170208587 at random_state 110\n",
      "0.6440781558449471 at random_state 111\n",
      "0.6025244365773526 at random_state 112\n",
      "0.6080388573994825 at random_state 113\n",
      "0.6902158091411702 at random_state 114\n",
      "0.7153989086005977 at random_state 115\n",
      "0.6260742635493595 at random_state 116\n",
      "0.6774129818547286 at random_state 117\n",
      "0.6606230493066395 at random_state 118\n",
      "0.5891190674957013 at random_state 119\n",
      "0.6435280123855937 at random_state 120\n",
      "0.6153457471051634 at random_state 121\n",
      "0.612938550891224 at random_state 122\n",
      "0.7174030620615658 at random_state 123\n",
      "0.6829577041984288 at random_state 124\n",
      "0.632773300489965 at random_state 125\n",
      "0.6634574580921808 at random_state 126\n",
      "0.7007519571452108 at random_state 127\n",
      "0.6887351027465849 at random_state 128\n",
      "0.6999440491540272 at random_state 129\n",
      "0.6871535131551509 at random_state 130\n",
      "0.6186006943365175 at random_state 131\n",
      "0.6412565278841552 at random_state 132\n",
      "0.6571675119513446 at random_state 133\n",
      "0.6387353717249037 at random_state 134\n",
      "0.6928327938316147 at random_state 135\n",
      "0.6329317687096815 at random_state 136\n",
      "0.6604778445671375 at random_state 137\n",
      "0.6852862749796754 at random_state 138\n",
      "0.6789552031375142 at random_state 139\n",
      "0.649565490313313 at random_state 140\n",
      "0.7200689428055451 at random_state 141\n",
      "0.626012653921646 at random_state 142\n",
      "0.7183320448846494 at random_state 143\n",
      "0.678994177003925 at random_state 144\n",
      "0.6830656521735069 at random_state 145\n",
      "0.6773085198161539 at random_state 146\n",
      "0.6977746001788957 at random_state 147\n",
      "0.6490418472670384 at random_state 148\n",
      "0.7535079327563747 at random_state 149\n",
      "0.6676504545421335 at random_state 150\n",
      "0.7262512681632357 at random_state 151\n",
      "0.7010308873600436 at random_state 152\n",
      "0.6495952129894268 at random_state 153\n",
      "0.6755581402199298 at random_state 154\n",
      "0.6463715706399875 at random_state 155\n",
      "0.7066969979457978 at random_state 156\n",
      "0.6958687433892479 at random_state 157\n",
      "0.6212601241864095 at random_state 158\n",
      "0.6232226278300738 at random_state 159\n",
      "0.6888572038612281 at random_state 160\n",
      "0.6943581890041494 at random_state 161\n",
      "0.6337128288808579 at random_state 162\n",
      "0.6786961840632774 at random_state 163\n",
      "0.6620516408949944 at random_state 164\n",
      "0.6269128696345555 at random_state 165\n",
      "0.7063542498791092 at random_state 166\n",
      "0.7072066361886148 at random_state 167\n",
      "0.7042582942389634 at random_state 168\n",
      "0.6804117307900087 at random_state 169\n",
      "0.6912419758779975 at random_state 170\n",
      "0.6234303050164279 at random_state 171\n",
      "0.6273075875696644 at random_state 172\n",
      "0.6622565774153341 at random_state 173\n",
      "0.7270450939050406 at random_state 174\n",
      "0.610894095720084 at random_state 175\n",
      "0.6711613033027278 at random_state 176\n",
      "0.7606207625558856 at random_state 177\n",
      "0.6547554497231499 at random_state 178\n",
      "0.6461893282013867 at random_state 179\n",
      "0.7287856244287751 at random_state 180\n",
      "0.6706921932718559 at random_state 181\n",
      "0.706649701189086 at random_state 182\n",
      "0.5872854546758856 at random_state 183\n",
      "0.7474454544118688 at random_state 184\n",
      "0.6379197998992485 at random_state 185\n",
      "0.7144863045861234 at random_state 186\n",
      "0.7358236074729356 at random_state 187\n",
      "0.6120180034082637 at random_state 188\n",
      "0.6233447324795293 at random_state 189\n",
      "0.6489372149266164 at random_state 190\n",
      "0.7017679804478651 at random_state 191\n",
      "0.6694109726337506 at random_state 192\n",
      "0.6262953772518203 at random_state 193\n",
      "0.6506024073649531 at random_state 194\n",
      "0.6421199566720975 at random_state 195\n",
      "0.6399332053479925 at random_state 196\n",
      "0.6693888804123337 at random_state 197\n",
      "0.6887021060268126 at random_state 198\n",
      "0.6525279583516905 at random_state 199\n"
     ]
    }
   ],
   "source": [
    "for i in range(200):\n",
    "    x_train, x_test, y_train, y_test = train_test_split(x,y, test_size=0.33, random_state=i)\n",
    "    \n",
    "    DTR = DecisionTreeRegressor()\n",
    "    DTR.fit(x_train, y_train)\n",
    "    pred=DTR.predict(x_test)\n",
    "    MAE= mean_absolute_error(y_test,pred)\n",
    "    print(MAE, \"at random_state\", i)"
   ]
  },
  {
   "cell_type": "code",
   "execution_count": 98,
   "id": "832ab476",
   "metadata": {},
   "outputs": [
    {
     "name": "stdout",
     "output_type": "stream",
     "text": [
      "Least MAE  0.7663642597701987  on Random_state  177\n"
     ]
    }
   ],
   "source": [
    "leastMAE=0\n",
    "maxRS=0\n",
    "for i in range(1,200):\n",
    "    x_train, x_test, y_train, y_test = train_test_split(x,y,test_size=0.30, random_state = i)\n",
    "    DTR = DecisionTreeRegressor()\n",
    "    DTR.fit(x_train, y_train)\n",
    "    pred = DTR.predict(x_test)\n",
    "    MAE= mean_absolute_error(y_test,pred)\n",
    "    if MAE>leastMAE:\n",
    "        leastMAE=MAE\n",
    "        maxRS=i\n",
    "print(\"Least MAE \", leastMAE,\" on Random_state \",maxRS)"
   ]
  },
  {
   "cell_type": "markdown",
   "id": "658e174d",
   "metadata": {},
   "source": [
    "- Best Random state selected is 177 with MAE = 0.76"
   ]
  },
  {
   "cell_type": "markdown",
   "id": "40164949",
   "metadata": {},
   "source": [
    "# Splitting Training Set & Test Set."
   ]
  },
  {
   "cell_type": "code",
   "execution_count": 99,
   "id": "20273200",
   "metadata": {},
   "outputs": [],
   "source": [
    "x_train, x_test, y_train, y_test = train_test_split(x,y,test_size=0.30, random_state = 177)"
   ]
  },
  {
   "cell_type": "markdown",
   "id": "5d68dc55",
   "metadata": {},
   "source": [
    "- independent(x) & Target Variable(y) is divided into Train & Test Set.\n",
    "- 70% data is set for training & 30% data is reserved for testing.\n",
    "- best Random state is applied which is 177 computed above."
   ]
  },
  {
   "cell_type": "markdown",
   "id": "8d454167",
   "metadata": {},
   "source": [
    "# Linear Regression"
   ]
  },
  {
   "cell_type": "code",
   "execution_count": 100,
   "id": "34bd9f86",
   "metadata": {},
   "outputs": [
    {
     "name": "stdout",
     "output_type": "stream",
     "text": [
      "Mean Absolute error:  0.7893781024323216\n",
      "Mean Squared error:  1.0120117992126243\n",
      "Root Mean Squared Error: 1.0059879717037497\n",
      "r2_score : 0.5283424071338141\n"
     ]
    },
    {
     "data": {
      "text/plain": [
       "0.6024377906710443"
      ]
     },
     "execution_count": 100,
     "metadata": {},
     "output_type": "execute_result"
    }
   ],
   "source": [
    "lm = LinearRegression()\n",
    "lm.fit(x_train,y_train) \n",
    "pred=lm.predict(x_test)\n",
    "print('Mean Absolute error: ',mean_absolute_error(y_test,pred))\n",
    "print('Mean Squared error: ',mean_squared_error(y_test,pred))\n",
    "print('Root Mean Squared Error:',np.sqrt(mean_squared_error(y_test,pred)))\n",
    "print('r2_score :', r2_score(y_test,pred))\n",
    "lm.score(x_train,y_train)"
   ]
  },
  {
   "cell_type": "markdown",
   "id": "c29f03b4",
   "metadata": {},
   "source": [
    "Score of Linear Reg is 0.60 & MAE = 0.79, R2 Score is 0.53"
   ]
  },
  {
   "cell_type": "markdown",
   "id": "a0a176fa",
   "metadata": {},
   "source": [
    "# Decision Tree Regression"
   ]
  },
  {
   "cell_type": "code",
   "execution_count": 101,
   "id": "27ca1095",
   "metadata": {},
   "outputs": [
    {
     "name": "stdout",
     "output_type": "stream",
     "text": [
      "Mean Absolute error:  0.7482893124019536\n",
      "Mean Squared error:  1.1098469839769656\n",
      "Root Mean Squared Error: 1.053492754591585\n",
      "r2_score : 0.48274540146701284\n"
     ]
    },
    {
     "data": {
      "text/plain": [
       "1.0"
      ]
     },
     "execution_count": 101,
     "metadata": {},
     "output_type": "execute_result"
    }
   ],
   "source": [
    "DTR = DecisionTreeRegressor()\n",
    "DTR.fit(x_train, y_train)\n",
    "pred = DTR.predict(x_test)\n",
    "print('Mean Absolute error: ',mean_absolute_error(y_test,pred))\n",
    "print('Mean Squared error: ',mean_squared_error(y_test,pred))\n",
    "print('Root Mean Squared Error:',np.sqrt(mean_squared_error(y_test,pred)))\n",
    "print('r2_score :', r2_score(y_test,pred))\n",
    "DTR.score(x_train,y_train) "
   ]
  },
  {
   "cell_type": "markdown",
   "id": "2371a815",
   "metadata": {},
   "source": [
    "Score of DTR is 1.0 & MAE = 0.75, R2 Score is 0.48"
   ]
  },
  {
   "cell_type": "markdown",
   "id": "430328b7",
   "metadata": {},
   "source": [
    "# Random Forest Regression"
   ]
  },
  {
   "cell_type": "code",
   "execution_count": 102,
   "id": "1eba4ee6",
   "metadata": {},
   "outputs": [
    {
     "name": "stdout",
     "output_type": "stream",
     "text": [
      "Mean Absolute error:  0.5350690806852748\n",
      "Mean Squared error:  0.5285153419820153\n",
      "Root Mean Squared Error: 0.7269906065294209\n",
      "r2_score : 0.7536804667830628\n"
     ]
    },
    {
     "data": {
      "text/plain": [
       "0.9697741790436781"
      ]
     },
     "execution_count": 102,
     "metadata": {},
     "output_type": "execute_result"
    }
   ],
   "source": [
    "RFR = RandomForestRegressor()\n",
    "RFR.fit(x_train, y_train)\n",
    "pred = RFR.predict(x_test) \n",
    "print('Mean Absolute error: ',mean_absolute_error(y_test,pred))\n",
    "print('Mean Squared error: ',mean_squared_error(y_test,pred))\n",
    "print('Root Mean Squared Error:',np.sqrt(mean_squared_error(y_test,pred)))\n",
    "print('r2_score :', r2_score(y_test,pred))\n",
    "RFR.score(x_train,y_train)"
   ]
  },
  {
   "cell_type": "markdown",
   "id": "cc23dd54",
   "metadata": {},
   "source": [
    "Score of RFR is 0.97 & MAE = 0.53, R2 Score is 0.75"
   ]
  },
  {
   "cell_type": "markdown",
   "id": "37ee16f2",
   "metadata": {},
   "source": [
    "# Support Vector Regression"
   ]
  },
  {
   "cell_type": "code",
   "execution_count": 103,
   "id": "da8d8752",
   "metadata": {},
   "outputs": [
    {
     "name": "stdout",
     "output_type": "stream",
     "text": [
      "Mean Absolute error:  0.5885869569362528\n",
      "Mean Squared error:  0.6296856091137586\n",
      "Root Mean Squared Error: 0.7935273209623968\n",
      "r2_score : 0.7065291146919974\n"
     ]
    },
    {
     "data": {
      "text/plain": [
       "0.7891312877822556"
      ]
     },
     "execution_count": 103,
     "metadata": {},
     "output_type": "execute_result"
    }
   ],
   "source": [
    "SV = SVR() \n",
    "SV.fit(x_train, y_train)\n",
    "pred = SV.predict(x_test) \n",
    "print('Mean Absolute error: ',mean_absolute_error(y_test,pred))\n",
    "print('Mean Squared error: ',mean_squared_error(y_test,pred))\n",
    "print('Root Mean Squared Error:',np.sqrt(mean_squared_error(y_test,pred)))\n",
    "print('r2_score :', r2_score(y_test,pred))\n",
    "SV.score(x_train,y_train)"
   ]
  },
  {
   "cell_type": "markdown",
   "id": "b6f12b17",
   "metadata": {},
   "source": [
    "Score of SVR is 0.79 & MAE = 0.59, R2 Score is 0.79"
   ]
  },
  {
   "cell_type": "markdown",
   "id": "b70bd58c",
   "metadata": {},
   "source": [
    "# K-fold Cross Validation"
   ]
  },
  {
   "cell_type": "code",
   "execution_count": 104,
   "id": "f0372935",
   "metadata": {},
   "outputs": [],
   "source": [
    "cross_validation=KFold(5, shuffle =True)"
   ]
  },
  {
   "cell_type": "code",
   "execution_count": 105,
   "id": "fe963541",
   "metadata": {},
   "outputs": [
    {
     "name": "stdout",
     "output_type": "stream",
     "text": [
      "0.5720072363142034\n"
     ]
    }
   ],
   "source": [
    "# Linear Regression\n",
    "print(cross_val_score(lm,x,y,cv=cross_validation).mean())"
   ]
  },
  {
   "cell_type": "code",
   "execution_count": 106,
   "id": "d3dde4ed",
   "metadata": {},
   "outputs": [
    {
     "name": "stdout",
     "output_type": "stream",
     "text": [
      "0.5880890218472478\n"
     ]
    }
   ],
   "source": [
    "# DTR Regression\n",
    "print(cross_val_score(DTR,x,y,cv=cross_validation).mean())"
   ]
  },
  {
   "cell_type": "code",
   "execution_count": 107,
   "id": "f5e73e22",
   "metadata": {},
   "outputs": [
    {
     "name": "stdout",
     "output_type": "stream",
     "text": [
      "0.7703432961335217\n"
     ]
    }
   ],
   "source": [
    "# Random Forest Regressor\n",
    "print(cross_val_score(RFR,x,y,cv=cross_validation).mean())"
   ]
  },
  {
   "cell_type": "code",
   "execution_count": 108,
   "id": "b4d24c9b",
   "metadata": {},
   "outputs": [
    {
     "name": "stdout",
     "output_type": "stream",
     "text": [
      "0.7276418485508723\n"
     ]
    }
   ],
   "source": [
    "# Support Vector\n",
    "print(cross_val_score(SV,x,y,cv=cross_validation).mean())"
   ]
  },
  {
   "cell_type": "markdown",
   "id": "0f3808ff",
   "metadata": {},
   "source": [
    "# Best Model"
   ]
  },
  {
   "cell_type": "markdown",
   "id": "d32752f4",
   "metadata": {},
   "source": [
    "- DTR has the least diff from DTR MAE-DTR CV, hence selecting DTR as the best Model."
   ]
  },
  {
   "cell_type": "markdown",
   "id": "2d335888",
   "metadata": {},
   "source": [
    "# Setting DTR Hyperparameter"
   ]
  },
  {
   "cell_type": "code",
   "execution_count": 109,
   "id": "c583227c",
   "metadata": {},
   "outputs": [],
   "source": [
    "import numpy as np\n",
    "parameter = {'max_depth': np.arange(2,8),\n",
    "             'criterion':['squared_error','friedman_mse','absolute_error'],\n",
    "             'max_features': ['log2','sqrt','auto'],\n",
    "             'min_samples_leaf': [1,2],\n",
    "             'splitter': ['best','random']}\n",
    "GCV=GridSearchCV(DecisionTreeRegressor(),parameter,cv=cross_validation)"
   ]
  },
  {
   "cell_type": "code",
   "execution_count": 110,
   "id": "279a1def",
   "metadata": {},
   "outputs": [
    {
     "data": {
      "text/plain": [
       "GridSearchCV(cv=KFold(n_splits=5, random_state=None, shuffle=True),\n",
       "             estimator=DecisionTreeRegressor(),\n",
       "             param_grid={'criterion': ['squared_error', 'friedman_mse',\n",
       "                                       'absolute_error'],\n",
       "                         'max_depth': array([2, 3, 4, 5, 6, 7]),\n",
       "                         'max_features': ['log2', 'sqrt', 'auto'],\n",
       "                         'min_samples_leaf': [1, 2],\n",
       "                         'splitter': ['best', 'random']})"
      ]
     },
     "execution_count": 110,
     "metadata": {},
     "output_type": "execute_result"
    }
   ],
   "source": [
    "GCV.fit(x_train,y_train) "
   ]
  },
  {
   "cell_type": "code",
   "execution_count": 111,
   "id": "e96d676f",
   "metadata": {},
   "outputs": [
    {
     "data": {
      "text/plain": [
       "{'criterion': 'friedman_mse',\n",
       " 'max_depth': 4,\n",
       " 'max_features': 'auto',\n",
       " 'min_samples_leaf': 2,\n",
       " 'splitter': 'best'}"
      ]
     },
     "execution_count": 111,
     "metadata": {},
     "output_type": "execute_result"
    }
   ],
   "source": [
    "GCV.best_params_"
   ]
  },
  {
   "cell_type": "code",
   "execution_count": 112,
   "id": "770c8e3d",
   "metadata": {},
   "outputs": [
    {
     "name": "stdout",
     "output_type": "stream",
     "text": [
      "Mean Absolute error:  0.6301938731697934\n",
      "Mean Squared error:  0.7023105005392496\n",
      "Root Mean Squared Error: 0.8380396771867366\n",
      "r2_score : 0.6726816027375262\n"
     ]
    },
    {
     "data": {
      "text/plain": [
       "1.0"
      ]
     },
     "execution_count": 112,
     "metadata": {},
     "output_type": "execute_result"
    }
   ],
   "source": [
    "Final_mod = DecisionTreeRegressor(criterion = 'friedman_mse',max_depth=4, max_features = 'auto', min_samples_leaf = 2,splitter= 'best')\n",
    "Final_mod.fit(x_train, y_train)\n",
    "pred = Final_mod.predict(x_test)\n",
    "print('Mean Absolute error: ',mean_absolute_error(y_test,pred))\n",
    "print('Mean Squared error: ',mean_squared_error(y_test,pred))\n",
    "print('Root Mean Squared Error:',np.sqrt(mean_squared_error(y_test,pred)))\n",
    "print('r2_score :',r2_score(y_test,pred))\n",
    "DTR.score(x_train,y_train)"
   ]
  },
  {
   "cell_type": "markdown",
   "id": "0fd08eeb",
   "metadata": {},
   "source": [
    "- Final best model DTR MAE = 0.63\n",
    "- r2 score = 0.67 \n",
    "- DTR learned the model 100%"
   ]
  },
  {
   "cell_type": "markdown",
   "id": "56d56b30",
   "metadata": {},
   "source": [
    "# Exporting Model with Joblib Library"
   ]
  },
  {
   "cell_type": "code",
   "execution_count": 113,
   "id": "8a48f181",
   "metadata": {},
   "outputs": [
    {
     "data": {
      "text/plain": [
       "['FinalModel.pkl']"
      ]
     },
     "execution_count": 113,
     "metadata": {},
     "output_type": "execute_result"
    }
   ],
   "source": [
    "# Model is exported as .pkl file with the help of joblib library.\n",
    "import joblib\n",
    "joblib.dump(Final_mod,\"FinalModel.pkl\")"
   ]
  },
  {
   "cell_type": "code",
   "execution_count": null,
   "id": "3f557e2c",
   "metadata": {},
   "outputs": [],
   "source": []
  },
  {
   "cell_type": "code",
   "execution_count": null,
   "id": "808e2140",
   "metadata": {},
   "outputs": [],
   "source": []
  }
 ],
 "metadata": {
  "kernelspec": {
   "display_name": "Python 3",
   "language": "python",
   "name": "python3"
  },
  "language_info": {
   "codemirror_mode": {
    "name": "ipython",
    "version": 3
   },
   "file_extension": ".py",
   "mimetype": "text/x-python",
   "name": "python",
   "nbconvert_exporter": "python",
   "pygments_lexer": "ipython3",
   "version": "3.8.8"
  }
 },
 "nbformat": 4,
 "nbformat_minor": 5
}
